{
 "cells": [
  {
   "cell_type": "markdown",
   "id": "f821d0c4",
   "metadata": {},
   "source": [
    "# BBN for generating color and CurrentCondition\n",
    "## Rate and cost are from our Bayesian Hierarchical model\n",
    "## Z3 - Z3"
   ]
  },
  {
   "cell_type": "code",
   "execution_count": 123,
   "id": "be97f47d",
   "metadata": {},
   "outputs": [],
   "source": [
    "import numpy as np\n",
    "import pandas as pd\n",
    "import matplotlib.pyplot as plt\n",
    "import seaborn as sns\n",
    "from sklearn import preprocessing\n",
    "from scipy import stats\n",
    "import scipy.stats as st\n",
    "import statsmodels.datasets\n",
    "import scipy.stats as ss\n",
    "import networkx as nx # for drawing graphs\n",
    "\n",
    "# for creating Bayesian Belief Networks (BBN)\n",
    "from pybbn.graph.dag import Bbn\n",
    "from pybbn.graph.edge import Edge, EdgeType\n",
    "from pybbn.graph.jointree import EvidenceBuilder\n",
    "from pybbn.graph.node import BbnNode\n",
    "from pybbn.graph.variable import Variable\n",
    "from pybbn.pptc.inferencecontroller import InferenceController"
   ]
  },
  {
   "cell_type": "code",
   "execution_count": 124,
   "id": "dfea2b5e",
   "metadata": {},
   "outputs": [
    {
     "name": "stdout",
     "output_type": "stream",
     "text": [
      "(156569, 16)\n",
      "(154929, 16)\n"
     ]
    }
   ],
   "source": [
    "# import original data \n",
    "df_all = pd.read_csv(\"./IMA_recommendation_simulation_data.csv\")\n",
    "\n",
    "# drop all rows which have NaN\n",
    "df_all = df_all.dropna()\n",
    "\n",
    "print(df_all.shape)\n",
    "\n",
    "# only keep lead_days >= 0\n",
    "df_all = df_all[df_all['lead_days'] >= 0]\n",
    "print(df_all.shape)"
   ]
  },
  {
   "cell_type": "code",
   "execution_count": 125,
   "id": "9b2c891f",
   "metadata": {},
   "outputs": [],
   "source": [
    "# import zip codes for origin and destination\n",
    "def zz(value):\n",
    "    if value < 100:\n",
    "        return 'Z0'\n",
    "    elif value < 200:\n",
    "        return 'Z1'\n",
    "    elif value < 300:\n",
    "        return 'Z2'\n",
    "    elif value < 400:\n",
    "        return 'Z3'\n",
    "    elif value < 500:\n",
    "        return 'Z4'\n",
    "    elif value < 600:\n",
    "        return 'Z5'\n",
    "    elif value < 700:\n",
    "        return 'Z6'\n",
    "    elif value < 800:\n",
    "        return 'Z7'\n",
    "    elif value < 900:\n",
    "        return 'Z8'\n",
    "    elif value < 1000:\n",
    "        return 'Z9'\n",
    "    else:\n",
    "        return 'Error'\n",
    "\n",
    "\n",
    "df_all['ZipZone_origin'] = df_all.apply(lambda column: zz(column['origin_dat_ref']),axis=1)\n",
    "df_all['ZipZone_dest'] = df_all.apply(lambda column: zz(column['dest_dat_ref']),axis=1)"
   ]
  },
  {
   "cell_type": "code",
   "execution_count": 126,
   "id": "acb1c605",
   "metadata": {},
   "outputs": [
    {
     "name": "stdout",
     "output_type": "stream",
     "text": [
      "(13270, 18)\n"
     ]
    },
    {
     "data": {
      "text/html": [
       "<div>\n",
       "<style scoped>\n",
       "    .dataframe tbody tr th:only-of-type {\n",
       "        vertical-align: middle;\n",
       "    }\n",
       "\n",
       "    .dataframe tbody tr th {\n",
       "        vertical-align: top;\n",
       "    }\n",
       "\n",
       "    .dataframe thead th {\n",
       "        text-align: right;\n",
       "    }\n",
       "</style>\n",
       "<table border=\"1\" class=\"dataframe\">\n",
       "  <thead>\n",
       "    <tr style=\"text-align: right;\">\n",
       "      <th></th>\n",
       "      <th>Unnamed: 0</th>\n",
       "      <th>request_id</th>\n",
       "      <th>week_id</th>\n",
       "      <th>weekday</th>\n",
       "      <th>miles</th>\n",
       "      <th>order_equipment_type</th>\n",
       "      <th>order_distance</th>\n",
       "      <th>order_num_stops</th>\n",
       "      <th>order_origin_weight</th>\n",
       "      <th>lead_days</th>\n",
       "      <th>color</th>\n",
       "      <th>origin_dat_ref</th>\n",
       "      <th>dest_dat_ref</th>\n",
       "      <th>rate_norm</th>\n",
       "      <th>est_cost_norm</th>\n",
       "      <th>CurrentCondition</th>\n",
       "      <th>ZipZone_origin</th>\n",
       "      <th>ZipZone_dest</th>\n",
       "    </tr>\n",
       "  </thead>\n",
       "  <tbody>\n",
       "    <tr>\n",
       "      <th>8</th>\n",
       "      <td>8</td>\n",
       "      <td>8f67eb6f89ff40bcb4289f1f62227df6</td>\n",
       "      <td>1</td>\n",
       "      <td>Wed</td>\n",
       "      <td>154</td>\n",
       "      <td>V</td>\n",
       "      <td>141.0</td>\n",
       "      <td>2</td>\n",
       "      <td>45679.0</td>\n",
       "      <td>6</td>\n",
       "      <td>YELLOW</td>\n",
       "      <td>326</td>\n",
       "      <td>347</td>\n",
       "      <td>-0.154330</td>\n",
       "      <td>-1.282368</td>\n",
       "      <td>Accepted</td>\n",
       "      <td>Z3</td>\n",
       "      <td>Z3</td>\n",
       "    </tr>\n",
       "    <tr>\n",
       "      <th>14</th>\n",
       "      <td>14</td>\n",
       "      <td>da4ec185b5644deea572fa379b9feed4</td>\n",
       "      <td>2</td>\n",
       "      <td>Wed</td>\n",
       "      <td>214</td>\n",
       "      <td>V</td>\n",
       "      <td>221.0</td>\n",
       "      <td>2</td>\n",
       "      <td>25677.0</td>\n",
       "      <td>7</td>\n",
       "      <td>GREEN</td>\n",
       "      <td>350</td>\n",
       "      <td>325</td>\n",
       "      <td>-0.099179</td>\n",
       "      <td>-0.129520</td>\n",
       "      <td>Accepted</td>\n",
       "      <td>Z3</td>\n",
       "      <td>Z3</td>\n",
       "    </tr>\n",
       "    <tr>\n",
       "      <th>17</th>\n",
       "      <td>17</td>\n",
       "      <td>f8a5bbfacc1b4e188fa7616da6c4207f</td>\n",
       "      <td>1</td>\n",
       "      <td>Wed</td>\n",
       "      <td>216</td>\n",
       "      <td>V</td>\n",
       "      <td>220.0</td>\n",
       "      <td>2</td>\n",
       "      <td>40349.0</td>\n",
       "      <td>8</td>\n",
       "      <td>RED</td>\n",
       "      <td>338</td>\n",
       "      <td>331</td>\n",
       "      <td>-0.869951</td>\n",
       "      <td>-0.933859</td>\n",
       "      <td>Rejected</td>\n",
       "      <td>Z3</td>\n",
       "      <td>Z3</td>\n",
       "    </tr>\n",
       "    <tr>\n",
       "      <th>21</th>\n",
       "      <td>21</td>\n",
       "      <td>9aac0768ac584c6d9459cf23dab7369a</td>\n",
       "      <td>1</td>\n",
       "      <td>Mon</td>\n",
       "      <td>57</td>\n",
       "      <td>V</td>\n",
       "      <td>60.0</td>\n",
       "      <td>2</td>\n",
       "      <td>39847.0</td>\n",
       "      <td>3</td>\n",
       "      <td>RED</td>\n",
       "      <td>328</td>\n",
       "      <td>338</td>\n",
       "      <td>-0.684707</td>\n",
       "      <td>-0.931124</td>\n",
       "      <td>Withdrawn</td>\n",
       "      <td>Z3</td>\n",
       "      <td>Z3</td>\n",
       "    </tr>\n",
       "    <tr>\n",
       "      <th>62</th>\n",
       "      <td>62</td>\n",
       "      <td>3278d00061f644a19c2c564da3888bcc</td>\n",
       "      <td>4</td>\n",
       "      <td>Wed</td>\n",
       "      <td>283</td>\n",
       "      <td>V</td>\n",
       "      <td>262.0</td>\n",
       "      <td>2</td>\n",
       "      <td>39478.0</td>\n",
       "      <td>2</td>\n",
       "      <td>RED</td>\n",
       "      <td>301</td>\n",
       "      <td>388</td>\n",
       "      <td>-1.285638</td>\n",
       "      <td>-1.147469</td>\n",
       "      <td>Rejected</td>\n",
       "      <td>Z3</td>\n",
       "      <td>Z3</td>\n",
       "    </tr>\n",
       "  </tbody>\n",
       "</table>\n",
       "</div>"
      ],
      "text/plain": [
       "    Unnamed: 0                        request_id  week_id weekday  miles  \\\n",
       "8            8  8f67eb6f89ff40bcb4289f1f62227df6        1     Wed    154   \n",
       "14          14  da4ec185b5644deea572fa379b9feed4        2     Wed    214   \n",
       "17          17  f8a5bbfacc1b4e188fa7616da6c4207f        1     Wed    216   \n",
       "21          21  9aac0768ac584c6d9459cf23dab7369a        1     Mon     57   \n",
       "62          62  3278d00061f644a19c2c564da3888bcc        4     Wed    283   \n",
       "\n",
       "   order_equipment_type  order_distance  order_num_stops  order_origin_weight  \\\n",
       "8                     V           141.0                2              45679.0   \n",
       "14                    V           221.0                2              25677.0   \n",
       "17                    V           220.0                2              40349.0   \n",
       "21                    V            60.0                2              39847.0   \n",
       "62                    V           262.0                2              39478.0   \n",
       "\n",
       "    lead_days   color  origin_dat_ref  dest_dat_ref  rate_norm  est_cost_norm  \\\n",
       "8           6  YELLOW             326           347  -0.154330      -1.282368   \n",
       "14          7   GREEN             350           325  -0.099179      -0.129520   \n",
       "17          8     RED             338           331  -0.869951      -0.933859   \n",
       "21          3     RED             328           338  -0.684707      -0.931124   \n",
       "62          2     RED             301           388  -1.285638      -1.147469   \n",
       "\n",
       "   CurrentCondition ZipZone_origin ZipZone_dest  \n",
       "8          Accepted             Z3           Z3  \n",
       "14         Accepted             Z3           Z3  \n",
       "17         Rejected             Z3           Z3  \n",
       "21        Withdrawn             Z3           Z3  \n",
       "62         Rejected             Z3           Z3  "
      ]
     },
     "execution_count": 126,
     "metadata": {},
     "output_type": "execute_result"
    }
   ],
   "source": [
    "# data for oirgin == Z3 and dest == Z3\n",
    "# make a copy of the data for Z3 to Z3\n",
    "\n",
    "df_Z33 = df_all.copy()\n",
    "df_Z33 = df_all[(df_all['ZipZone_origin'] == 'Z3') & (df_all['ZipZone_dest'] == 'Z3')] #\n",
    "\n",
    "df = df_Z33.copy()\n",
    "\n",
    "print(df.shape)\n",
    "df.head()"
   ]
  },
  {
   "cell_type": "markdown",
   "id": "52a61a8c",
   "metadata": {},
   "source": [
    "df is the data from Z3 to Z3 without NaN and with lead_days >= 0."
   ]
  },
  {
   "cell_type": "code",
   "execution_count": 127,
   "id": "77656b73",
   "metadata": {},
   "outputs": [
    {
     "name": "stdout",
     "output_type": "stream",
     "text": [
      "-3.7589451195066377\n",
      "10.373437924778138\n"
     ]
    }
   ],
   "source": [
    "print(df['rate_norm'].min())\n",
    "print(df['rate_norm'].max())"
   ]
  },
  {
   "cell_type": "code",
   "execution_count": 128,
   "id": "74d9c022",
   "metadata": {},
   "outputs": [
    {
     "name": "stdout",
     "output_type": "stream",
     "text": [
      "-2.7355257108545605\n",
      "3.829943705026474\n"
     ]
    }
   ],
   "source": [
    "print(df['est_cost_norm'].min())\n",
    "print(df['est_cost_norm'].max())"
   ]
  },
  {
   "cell_type": "markdown",
   "id": "9302e018",
   "metadata": {},
   "source": [
    "We excluded the rows where rate_norm > 3 or est_cost_norm > 3.5 to match the catagory function in the following. (This can be skipped when making the category function more adaptable.)"
   ]
  },
  {
   "cell_type": "code",
   "execution_count": 129,
   "id": "61f07aa1",
   "metadata": {},
   "outputs": [
    {
     "name": "stdout",
     "output_type": "stream",
     "text": [
      "(13270, 18)\n",
      "(13247, 18)\n"
     ]
    }
   ],
   "source": [
    "# exclude rate > 3\n",
    "print(df.shape)\n",
    "df = df[df['rate_norm'] <= 3]\n",
    "print(df.shape)"
   ]
  },
  {
   "cell_type": "code",
   "execution_count": 130,
   "id": "3b7aafcd",
   "metadata": {},
   "outputs": [
    {
     "name": "stdout",
     "output_type": "stream",
     "text": [
      "(13247, 18)\n",
      "(13247, 18)\n"
     ]
    }
   ],
   "source": [
    "# exclude cost > 3.5\n",
    "print(df.shape)\n",
    "df = df[df['est_cost_norm'] <= 3.5]\n",
    "print(df.shape)"
   ]
  },
  {
   "cell_type": "code",
   "execution_count": 131,
   "id": "77c2fc30",
   "metadata": {},
   "outputs": [
    {
     "name": "stdout",
     "output_type": "stream",
     "text": [
      "-3.7589451195066377\n",
      "2.939295167503741\n"
     ]
    }
   ],
   "source": [
    "print(df['rate_norm'].min())\n",
    "print(df['rate_norm'].max())"
   ]
  },
  {
   "cell_type": "code",
   "execution_count": 132,
   "id": "c02c28ba",
   "metadata": {},
   "outputs": [
    {
     "name": "stdout",
     "output_type": "stream",
     "text": [
      "-2.7355257108545605\n",
      "3.18992775376824\n"
     ]
    }
   ],
   "source": [
    "print(df['est_cost_norm'].min())\n",
    "print(df['est_cost_norm'].max())"
   ]
  },
  {
   "cell_type": "code",
   "execution_count": 133,
   "id": "dfb9fafd",
   "metadata": {},
   "outputs": [],
   "source": [
    "# function for categaries of miles\n",
    "def zz(value):\n",
    "    for i in range(0,3400,1700):\n",
    "        if value<= i+1700:\n",
    "            return '<=%d' %(i+1700)\n",
    "            break\n",
    "            \n",
    "# generate 2 categories for weight\n",
    "def ww(value):\n",
    "    for i in range(0,100000,50000):\n",
    "        if value<= i+50000:\n",
    "            return '<=%d' %(i+50000)\n",
    "            break\n",
    "\n",
    "# generate 4 categories for weight\n",
    "def ww_4(value):\n",
    "    for i in range(0,100000,25000):\n",
    "        if value<= i+25000:\n",
    "            return '<=%d' %(i+25000)\n",
    "            break\n",
    "\n",
    "# categorize rate\n",
    "def rr(value):\n",
    "    for i in range(-4,4,2): # 4 categories\n",
    "        if value<= i+2:\n",
    "            return '<=%d' %(i+2)\n",
    "            break\n",
    "\n",
    "# categorize cost\n",
    "def cc(value):\n",
    "    for i in range(-4,4,2): # 4 categories\n",
    "        if value<= i+2:\n",
    "            return '<=%d' %(i+2)\n",
    "            break"
   ]
  },
  {
   "cell_type": "code",
   "execution_count": 134,
   "id": "2fa5a93e",
   "metadata": {},
   "outputs": [],
   "source": [
    "# add category columns for rate_norm and eat_cost_norm\n",
    "df['rate_cat']=df.apply(lambda column: rr(column['rate_norm']),axis=1)\n",
    "df['cost_cat']=df.apply(lambda column: cc(column['est_cost_norm']),axis=1)"
   ]
  },
  {
   "cell_type": "code",
   "execution_count": 135,
   "id": "7d18c3f4",
   "metadata": {},
   "outputs": [
    {
     "name": "stdout",
     "output_type": "stream",
     "text": [
      "['<=0' '<=2' '<=-2' '<=4']\n"
     ]
    }
   ],
   "source": [
    "# show unique values for rate categories\n",
    "column_values = df[[\"rate_cat\"]].values.ravel()\n",
    "unique_values =  pd.unique(column_values)\n",
    "print(unique_values)"
   ]
  },
  {
   "cell_type": "code",
   "execution_count": 136,
   "id": "4f05019e",
   "metadata": {},
   "outputs": [
    {
     "name": "stdout",
     "output_type": "stream",
     "text": [
      "['<=0' '<=2' '<=4' '<=-2']\n"
     ]
    }
   ],
   "source": [
    "# show unique values for cost categories\n",
    "column_values = df[[\"cost_cat\"]].values.ravel()\n",
    "unique_values =  pd.unique(column_values)\n",
    "print(unique_values)"
   ]
  },
  {
   "cell_type": "code",
   "execution_count": 459,
   "id": "09c02cd0",
   "metadata": {},
   "outputs": [],
   "source": [
    "# export df for k-prototype\n",
    "df.to_csv(r'/Users/miao/Desktop/IMA Boot Camp 2021 Summer/Project/original data for BBN.csv', index = False)"
   ]
  },
  {
   "cell_type": "code",
   "execution_count": 141,
   "id": "063e3eef",
   "metadata": {},
   "outputs": [],
   "source": [
    "# This function helps to calculate probability distribution, which goes into BBN (note, can handle up to 2 parents)\n",
    "def probs(data, child, parent1=None, parent2=None, parent3=None):\n",
    "    # Initialize empty list\n",
    "    prob=[]\n",
    "    if parent1==None:\n",
    "        # Calculate probabilities\n",
    "        prob=data[child].value_counts(normalize=True, sort=False).sort_index().tolist()\n",
    "    elif parent1!=None:\n",
    "            # Check if child node has 1 parent or 2 parents\n",
    "            if parent2==None:\n",
    "                # Work out the bands present in the parent variable\n",
    "                bands=df[parent1].value_counts(sort=False).sort_index().index.tolist()\n",
    "                # Caclucate probabilities\n",
    "                for val in bands:\n",
    "                    temp=data[data[parent1]==val][child].value_counts(normalize=True).sort_index().tolist()\n",
    "                    prob=prob+temp\n",
    "            else:    \n",
    "                # Work out the bands present in the parent variable\n",
    "                bands1=df[parent1].value_counts(sort=False).sort_index().index.tolist()\n",
    "                bands2=df[parent2].value_counts(sort=False).sort_index().index.tolist()\n",
    "                # Caclucate probabilities\n",
    "                for val1 in bands1:\n",
    "                    for val2 in bands2:\n",
    "                        temp=data[(data[parent1]==val1) & (data[parent2]==val2)][child].value_counts(normalize=True).reindex(data[child].unique(), fill_value=0).sort_index().tolist()\n",
    "                        prob=prob+temp\n",
    "    else: print(\"Error in Probability Frequency Calculations\")\n",
    "    return prob  "
   ]
  },
  {
   "cell_type": "code",
   "execution_count": 236,
   "id": "806a6f2e",
   "metadata": {},
   "outputs": [],
   "source": [
    "# This function helps to calculate probability distribution, which goes into BBN (note, can handle up to 3 parents)\n",
    "def probs_3(data, child, parent1=None, parent2=None, parent3=None):\n",
    "    # Initialize empty list\n",
    "    prob=[]\n",
    "    if parent1==None:\n",
    "        # Calculate probabilities\n",
    "        prob=data[child].value_counts(normalize=True, sort=False).sort_index().tolist()\n",
    "    elif parent1!=None:\n",
    "            # Check if child node has 1 parent or 2 parents\n",
    "            if parent2==None: # only has parent1\n",
    "                # Work out the bands present in the parent variable\n",
    "                bands=df[parent1].value_counts(sort=False).sort_index().index.tolist()\n",
    "                # Caclucate probabilities\n",
    "                for val in bands:\n",
    "                    temp=data[data[parent1]==val][child].value_counts(normalize=True).sort_index().tolist()\n",
    "                    prob=prob+temp\n",
    "            elif parent2!=None:  # has parent1 & parent2 \n",
    "                #check if child node has parent3\n",
    "                if parent3==None:\n",
    "                    # Work out the bands present in the parent variable\n",
    "                    bands1=df[parent1].value_counts(sort=False).sort_index().index.tolist()\n",
    "                    bands2=df[parent2].value_counts(sort=False).sort_index().index.tolist()\n",
    "                    # Caclucate probabilities\n",
    "                    for val1 in bands1:\n",
    "                        for val2 in bands2:\n",
    "                            temp=data[(data[parent1]==val1) & (data[parent2]==val2)][child].value_counts(normalize=True).reindex(data[child].unique(), fill_value=0).sort_index().tolist()\n",
    "                            prob=prob+temp\n",
    "                else: # child node has parent3\n",
    "                    bands1=df[parent1].value_counts(sort=False).sort_index().index.tolist()\n",
    "                    bands2=df[parent2].value_counts(sort=False).sort_index().index.tolist()\n",
    "                    bands3=df[parent3].value_counts(sort=False).sort_index().index.tolist()\n",
    "                    for val1 in bands1:\n",
    "                        for val2 in bands2:\n",
    "                            for val3 in bands3:\n",
    "                                temp=data[(data[parent1]==val1) & (data[parent2]==val2) & (data[parent3]==val3)][child].value_counts(normalize=True).reindex(data[child].unique(), fill_value=0).sort_index().tolist()\n",
    "                                prob=prob+temp\n",
    "    else: print(\"Error in Probability Frequency Calculations\")\n",
    "    return prob  "
   ]
  },
  {
   "cell_type": "code",
   "execution_count": 142,
   "id": "c6eb774e",
   "metadata": {},
   "outputs": [
    {
     "data": {
      "text/plain": [
       "<=-2    0.005360\n",
       "<=0     0.828112\n",
       "<=2     0.164264\n",
       "<=4     0.002265\n",
       "Name: rate_cat, dtype: float64"
      ]
     },
     "execution_count": 142,
     "metadata": {},
     "output_type": "execute_result"
    }
   ],
   "source": [
    "# to get the order of rate_cat\n",
    "df['rate_cat'].value_counts(normalize=True, sort=False).sort_index() #.tolist()"
   ]
  },
  {
   "cell_type": "code",
   "execution_count": 143,
   "id": "cdcc0e52",
   "metadata": {},
   "outputs": [
    {
     "data": {
      "text/plain": [
       "<=-2    0.000981\n",
       "<=0     0.810221\n",
       "<=2     0.186684\n",
       "<=4     0.002114\n",
       "Name: cost_cat, dtype: float64"
      ]
     },
     "execution_count": 143,
     "metadata": {},
     "output_type": "execute_result"
    }
   ],
   "source": [
    "# to get the order of cost_cat\n",
    "df['cost_cat'].value_counts(normalize=True, sort=False).sort_index()"
   ]
  },
  {
   "cell_type": "code",
   "execution_count": 144,
   "id": "20a24759",
   "metadata": {},
   "outputs": [
    {
     "data": {
      "text/plain": [
       "Accepted                     0.368074\n",
       "Cancelled                    0.013193\n",
       "NoPace                       0.000000\n",
       "Rejected                     0.377309\n",
       "Waiting On Acceptance        0.025066\n",
       "Waiting On Recommendation    0.002639\n",
       "Withdrawn                    0.213720\n",
       "Name: CurrentCondition, dtype: float64"
      ]
     },
     "execution_count": 144,
     "metadata": {},
     "output_type": "execute_result"
    }
   ],
   "source": [
    "# to get the order of CurrentCondition\n",
    "df[(df['rate_cat']=='<=2') & (df['cost_cat']=='<=2') & (df['color']=='RED')]['CurrentCondition'].value_counts(normalize=True).reindex(df['CurrentCondition'].unique(), fill_value=0).sort_index()\n"
   ]
  },
  {
   "cell_type": "code",
   "execution_count": 145,
   "id": "f379d098",
   "metadata": {},
   "outputs": [
    {
     "data": {
      "text/plain": [
       "GREEN     0.336879\n",
       "RED       0.537589\n",
       "YELLOW    0.125532\n",
       "Name: color, dtype: float64"
      ]
     },
     "execution_count": 145,
     "metadata": {},
     "output_type": "execute_result"
    }
   ],
   "source": [
    "# to get the order of color\n",
    "df[(df['rate_cat']=='<=2') & (df['cost_cat']=='<=2')]['color'].value_counts(normalize=True).reindex(df['color'].unique(), fill_value=0).sort_index()\n"
   ]
  },
  {
   "cell_type": "markdown",
   "id": "a1e27a9e",
   "metadata": {},
   "source": [
    "## generate color from rate and cost"
   ]
  },
  {
   "cell_type": "code",
   "execution_count": 146,
   "id": "da1f832c",
   "metadata": {},
   "outputs": [],
   "source": [
    "# the orders go to here\n",
    "rate = BbnNode(Variable(0, 'rate',['<=-2', '<=0', '<=2', '<=4'] ), probs(df, child='rate_cat'))\n",
    "cost = BbnNode(Variable(1, 'cost',['<=-2', '<=0', '<=2', '<=4'] ), probs(df, child='cost_cat'))\n",
    "\n",
    "color = BbnNode(Variable(2, 'color', ['GREEN', 'RED', 'YELLOW']), probs(df, child='color', parent1 = 'rate_cat', parent2='cost_cat'))\n"
   ]
  },
  {
   "cell_type": "code",
   "execution_count": 147,
   "id": "c972a99d",
   "metadata": {},
   "outputs": [],
   "source": [
    "# Create Network\n",
    "bbn = Bbn() \\\n",
    "    .add_node(rate) \\\n",
    "    .add_node(cost) \\\n",
    "    .add_node(color) \\\n",
    "    .add_edge(Edge(rate, color, EdgeType.DIRECTED)) \\\n",
    "    .add_edge(Edge(cost, color, EdgeType.DIRECTED)) \n",
    "\n",
    "# Convert the BBN to a join tree\n",
    "join_tree = InferenceController.apply(bbn)"
   ]
  },
  {
   "cell_type": "code",
   "execution_count": 148,
   "id": "17ae6417",
   "metadata": {},
   "outputs": [
    {
     "data": {
      "image/png": "[encoded data removed]",
      "text/plain": [
       "<Figure size 432x288 with 1 Axes>"
      ]
     },
     "metadata": {},
     "output_type": "display_data"
    }
   ],
   "source": [
    "# Set node positions\n",
    "pos = {0: (-1, 2), 1: (-1, 0.5), 2: (1, 0.5), 3: (0, -1)}\n",
    "\n",
    "# Set options for graph looks\n",
    "options = {\n",
    "    \"font_size\": 16,\n",
    "    \"node_size\": 4000,\n",
    "    \"node_color\": \"white\",\n",
    "    \"edgecolors\": \"black\",\n",
    "    \"edge_color\": \"red\",\n",
    "    \"linewidths\": 5,\n",
    "    \"width\": 5,}\n",
    "    \n",
    "# Generate graph\n",
    "n, d = bbn.to_nx_graph()\n",
    "nx.draw(n, with_labels=True, labels=d, pos=pos, **options)\n",
    "\n",
    "# Update margins and print the graph\n",
    "ax = plt.gca()\n",
    "ax.margins(0.10)\n",
    "plt.axis(\"off\")\n",
    "plt.show()"
   ]
  },
  {
   "cell_type": "code",
   "execution_count": 149,
   "id": "111a6e39",
   "metadata": {},
   "outputs": [
    {
     "name": "stdout",
     "output_type": "stream",
     "text": [
      "Node: 1|cost|<=-2,<=0,<=2,<=4\n",
      "Values:\n",
      "1=<=-2|0.00098\n",
      "1=<=0|0.81166\n",
      "1=<=2|0.18701\n",
      "1=<=4|0.00035\n",
      "----------------\n",
      "Node: 2|color|GREEN,RED,YELLOW\n",
      "Values:\n",
      "2=GREEN|0.27227\n",
      "2=RED|0.58036\n",
      "2=YELLOW|0.14737\n",
      "----------------\n",
      "Node: 0|rate|<=-2,<=0,<=2,<=4\n",
      "Values:\n",
      "0=<=-2|0.00535\n",
      "0=<=0|0.82783\n",
      "0=<=2|0.16455\n",
      "0=<=4|0.00227\n",
      "----------------\n"
     ]
    }
   ],
   "source": [
    "# Define a function for printing marginal probabilities\n",
    "def print_probs():\n",
    "    for node in join_tree.get_bbn_nodes():\n",
    "        potential = join_tree.get_bbn_potential(node)\n",
    "        print(\"Node:\", node)\n",
    "        print(\"Values:\")\n",
    "        print(potential)\n",
    "        print('----------------')\n",
    "        \n",
    "# Use the above function to print marginal probabilities\n",
    "print_probs()"
   ]
  },
  {
   "cell_type": "code",
   "execution_count": 150,
   "id": "636a46c2",
   "metadata": {},
   "outputs": [],
   "source": [
    "# To add evidence of events that happened so probability distribution can be recalculated\n",
    "def evidence(ev, nod, cat, val):\n",
    "    ev = EvidenceBuilder() \\\n",
    "    .with_node(join_tree.get_bbn_node_by_name(nod)) \\\n",
    "    .with_evidence(cat, val) \\\n",
    "    .build()\n",
    "    join_tree.set_observation(ev)"
   ]
  },
  {
   "cell_type": "code",
   "execution_count": 172,
   "id": "cdbef84a",
   "metadata": {},
   "outputs": [
    {
     "name": "stdout",
     "output_type": "stream",
     "text": [
      "Node: 1|cost|<=0,<=2,<=4,<=-2\n",
      "Values:\n",
      "1=<=0|0.00098\n",
      "1=<=2|0.81194\n",
      "1=<=4|0.18708\n",
      "1=<=-2|0.00000\n",
      "----------------\n",
      "Node: 2|color|GREEN,RED,YELLOW\n",
      "Values:\n",
      "2=GREEN|0.20827\n",
      "2=RED|0.63485\n",
      "2=YELLOW|0.15689\n",
      "----------------\n",
      "Node: 0|rate|<=0,<=2,<=-2,<=4\n",
      "Values:\n",
      "0=<=0|0.00000\n",
      "0=<=2|1.00000\n",
      "0=<=-2|0.00000\n",
      "0=<=4|0.00000\n",
      "----------------\n"
     ]
    }
   ],
   "source": [
    "# one example\n",
    "# can be skipped\n",
    "evidence('ev1', 'rate', '<=2', 1.0)\n",
    "# Print marginal probabilities\n",
    "print_probs()"
   ]
  },
  {
   "cell_type": "code",
   "execution_count": 152,
   "id": "4c14752b",
   "metadata": {},
   "outputs": [
    {
     "data": {
      "text/plain": [
       "{'GREEN': 0.27227394188716897,\n",
       " 'RED': 0.5803590304663594,\n",
       " 'YELLOW': 0.14736702764647153}"
      ]
     },
     "execution_count": 152,
     "metadata": {},
     "output_type": "execute_result"
    }
   ],
   "source": [
    "colors=join_tree.get_posteriors().get('color')\n",
    "join_tree.get_posteriors().get('color')"
   ]
  },
  {
   "cell_type": "code",
   "execution_count": 153,
   "id": "cac94d07",
   "metadata": {},
   "outputs": [],
   "source": [
    "# assign color for a given input\n",
    "def color_probs(cat1,cat2):\n",
    "    evidence('ev1', 'rate', cat1, 1.0)\n",
    "    evidence('ev2', 'cost', cat2, 1.0)\n",
    "    colors=join_tree.get_posteriors().get('color')\n",
    "    g = colors.get('GREEN')\n",
    "    r = colors.get('RED')\n",
    "    y = colors.get('YELLOW')\n",
    "    a = np.random.uniform()\n",
    "    interval = [0,g,g+r,1]\n",
    "    if (a>=0 and a<g):\n",
    "        return 'GREEN'\n",
    "    elif (a>=g and a<g+r):\n",
    "        return 'RED'\n",
    "    else:\n",
    "        return 'YELLOW'"
   ]
  },
  {
   "cell_type": "code",
   "execution_count": 260,
   "id": "2b643fa4",
   "metadata": {},
   "outputs": [],
   "source": [
    "##### Another way of assigning color or current condition by taking max prob\n",
    "#def condition_probs_max(cat1,cat2, cat3):\n",
    "#    evidence('ev1', 'rate', cat1, 1.0)\n",
    "#    evidence('ev2', 'cost', cat2, 1.0)\n",
    "#    evidence('ev3', 'color', cat3, 1.0)\n",
    "#    conditions=join_tree.get_posteriors().get('current_condition')\n",
    "#    max_key = max(conditions, key=conditions.get)\n",
    "#    return max_key\n"
   ]
  },
  {
   "cell_type": "code",
   "execution_count": 172,
   "id": "0d9a4a1f",
   "metadata": {},
   "outputs": [],
   "source": [
    "# import generated data got from Hierarchical model\n",
    "\n",
    "gen_all = pd.read_csv(\"./generated_data_Z3_new.csv\")\n",
    "gen_all = gen_all.dropna()\n",
    "\n",
    "df_gen = gen_all.copy()"
   ]
  },
  {
   "cell_type": "code",
   "execution_count": 173,
   "id": "35eed653",
   "metadata": {},
   "outputs": [],
   "source": [
    "# categorize\n",
    "\n",
    "# add categories for rate_norm and eat_cost_norm\n",
    "df_gen['rate_cat']=df_gen.apply(lambda column: rr(column['rate_norm']),axis=1)\n",
    "df_gen['cost_cat']=df_gen.apply(lambda column: cc(column['est_cost_norm']),axis=1)\n"
   ]
  },
  {
   "cell_type": "code",
   "execution_count": 174,
   "id": "5849446e",
   "metadata": {},
   "outputs": [
    {
     "data": {
      "text/html": [
       "<div>\n",
       "<style scoped>\n",
       "    .dataframe tbody tr th:only-of-type {\n",
       "        vertical-align: middle;\n",
       "    }\n",
       "\n",
       "    .dataframe tbody tr th {\n",
       "        vertical-align: top;\n",
       "    }\n",
       "\n",
       "    .dataframe thead th {\n",
       "        text-align: right;\n",
       "    }\n",
       "</style>\n",
       "<table border=\"1\" class=\"dataframe\">\n",
       "  <thead>\n",
       "    <tr style=\"text-align: right;\">\n",
       "      <th></th>\n",
       "      <th>Unnamed: 0</th>\n",
       "      <th>order_distance</th>\n",
       "      <th>order_origin_weight</th>\n",
       "      <th>lead_days</th>\n",
       "      <th>week_id</th>\n",
       "      <th>rate_norm</th>\n",
       "      <th>est_cost_norm</th>\n",
       "      <th>rate_cat</th>\n",
       "      <th>cost_cat</th>\n",
       "    </tr>\n",
       "  </thead>\n",
       "  <tbody>\n",
       "    <tr>\n",
       "      <th>0</th>\n",
       "      <td>0</td>\n",
       "      <td>328.887342</td>\n",
       "      <td>37423.671484</td>\n",
       "      <td>5</td>\n",
       "      <td>3</td>\n",
       "      <td>0.745465</td>\n",
       "      <td>0.258851</td>\n",
       "      <td>&lt;=2</td>\n",
       "      <td>&lt;=2</td>\n",
       "    </tr>\n",
       "    <tr>\n",
       "      <th>1</th>\n",
       "      <td>1</td>\n",
       "      <td>432.511533</td>\n",
       "      <td>44112.233825</td>\n",
       "      <td>5</td>\n",
       "      <td>4</td>\n",
       "      <td>0.822597</td>\n",
       "      <td>0.833778</td>\n",
       "      <td>&lt;=2</td>\n",
       "      <td>&lt;=2</td>\n",
       "    </tr>\n",
       "    <tr>\n",
       "      <th>2</th>\n",
       "      <td>2</td>\n",
       "      <td>544.555273</td>\n",
       "      <td>38315.198374</td>\n",
       "      <td>7</td>\n",
       "      <td>3</td>\n",
       "      <td>1.182238</td>\n",
       "      <td>0.944255</td>\n",
       "      <td>&lt;=2</td>\n",
       "      <td>&lt;=2</td>\n",
       "    </tr>\n",
       "    <tr>\n",
       "      <th>3</th>\n",
       "      <td>3</td>\n",
       "      <td>138.258376</td>\n",
       "      <td>40953.390305</td>\n",
       "      <td>1</td>\n",
       "      <td>4</td>\n",
       "      <td>-0.397974</td>\n",
       "      <td>-0.482964</td>\n",
       "      <td>&lt;=0</td>\n",
       "      <td>&lt;=0</td>\n",
       "    </tr>\n",
       "    <tr>\n",
       "      <th>4</th>\n",
       "      <td>4</td>\n",
       "      <td>319.227262</td>\n",
       "      <td>41972.466041</td>\n",
       "      <td>1</td>\n",
       "      <td>4</td>\n",
       "      <td>-0.869040</td>\n",
       "      <td>0.306075</td>\n",
       "      <td>&lt;=0</td>\n",
       "      <td>&lt;=2</td>\n",
       "    </tr>\n",
       "  </tbody>\n",
       "</table>\n",
       "</div>"
      ],
      "text/plain": [
       "   Unnamed: 0  order_distance  order_origin_weight  lead_days  week_id  \\\n",
       "0           0      328.887342         37423.671484          5        3   \n",
       "1           1      432.511533         44112.233825          5        4   \n",
       "2           2      544.555273         38315.198374          7        3   \n",
       "3           3      138.258376         40953.390305          1        4   \n",
       "4           4      319.227262         41972.466041          1        4   \n",
       "\n",
       "   rate_norm  est_cost_norm rate_cat cost_cat  \n",
       "0   0.745465       0.258851      <=2      <=2  \n",
       "1   0.822597       0.833778      <=2      <=2  \n",
       "2   1.182238       0.944255      <=2      <=2  \n",
       "3  -0.397974      -0.482964      <=0      <=0  \n",
       "4  -0.869040       0.306075      <=0      <=2  "
      ]
     },
     "execution_count": 174,
     "metadata": {},
     "output_type": "execute_result"
    }
   ],
   "source": [
    "df_gen.head()"
   ]
  },
  {
   "cell_type": "code",
   "execution_count": 175,
   "id": "55728709",
   "metadata": {},
   "outputs": [
    {
     "name": "stdout",
     "output_type": "stream",
     "text": [
      "-4.111713855428855\n",
      "8.046966050706052\n"
     ]
    }
   ],
   "source": [
    "print(df_gen['est_cost_norm'].min())\n",
    "print(df_gen['est_cost_norm'].max())"
   ]
  },
  {
   "cell_type": "code",
   "execution_count": 176,
   "id": "15497e94",
   "metadata": {},
   "outputs": [
    {
     "data": {
      "text/plain": [
       "0.0024615384615384616"
      ]
     },
     "execution_count": 176,
     "metadata": {},
     "output_type": "execute_result"
    }
   ],
   "source": [
    "sum(df_gen['est_cost_norm']>4)/len(df_gen['est_cost_norm'])"
   ]
  },
  {
   "cell_type": "code",
   "execution_count": 177,
   "id": "0f0e74b8",
   "metadata": {},
   "outputs": [
    {
     "data": {
      "text/plain": [
       "7.692307692307693e-05"
      ]
     },
     "execution_count": 177,
     "metadata": {},
     "output_type": "execute_result"
    }
   ],
   "source": [
    "sum(df_gen['est_cost_norm']<-4)/len(df_gen['est_cost_norm'])"
   ]
  },
  {
   "cell_type": "code",
   "execution_count": 183,
   "id": "4c6c9fba",
   "metadata": {},
   "outputs": [
    {
     "name": "stdout",
     "output_type": "stream",
     "text": [
      "13000\n",
      "12968\n",
      "12967\n"
     ]
    }
   ],
   "source": [
    "# Since the percentages ofcost >4 or <-4 are very small, so we excluded them to match the category function\n",
    "print(df_gen.shape[0])\n",
    "df_gen = df_gen[(df_gen['est_cost_norm']<=4)]\n",
    "print(df_gen.shape[0])\n",
    "df_gen = df_gen[(df_gen['est_cost_norm']>=-4)]\n",
    "print(df_gen.shape[0])"
   ]
  },
  {
   "cell_type": "code",
   "execution_count": 184,
   "id": "eebf6fe6",
   "metadata": {},
   "outputs": [
    {
     "name": "stdout",
     "output_type": "stream",
     "text": [
      "12967\n",
      "12961\n"
     ]
    }
   ],
   "source": [
    "# same for rate >4 or <-4\n",
    "print(df_gen.shape[0])\n",
    "df_gen = df_gen[(df_gen['rate_norm']<=4)]\n",
    "print(df_gen.shape[0])\n",
    "df_gen = df_gen[(df_gen['rate_norm']>=-4)]"
   ]
  },
  {
   "cell_type": "code",
   "execution_count": 185,
   "id": "1906ba25",
   "metadata": {},
   "outputs": [],
   "source": [
    "# categorize\n",
    "\n",
    "# add cat for rate_norm and eat_cost_norm\n",
    "df_gen['rate_cat']=df_gen.apply(lambda column: rr(column['rate_norm']),axis=1)\n",
    "df_gen['cost_cat']=df_gen.apply(lambda column: cc(column['est_cost_norm']),axis=1)"
   ]
  },
  {
   "cell_type": "code",
   "execution_count": 186,
   "id": "7764970b",
   "metadata": {},
   "outputs": [
    {
     "name": "stdout",
     "output_type": "stream",
     "text": [
      "['<=2' '<=0' '<=4' '<=-2']\n"
     ]
    }
   ],
   "source": [
    "# show unique values \n",
    "column_values = df_gen[[\"cost_cat\"]].values.ravel()\n",
    "unique_values =  pd.unique(column_values)\n",
    "print(unique_values)"
   ]
  },
  {
   "cell_type": "code",
   "execution_count": 187,
   "id": "7bf6136f",
   "metadata": {},
   "outputs": [
    {
     "name": "stdout",
     "output_type": "stream",
     "text": [
      "-3.7387363191439382\n",
      "3.9420598309288817\n"
     ]
    }
   ],
   "source": [
    "print(df_gen['rate_norm'].min())\n",
    "print(df_gen['rate_norm'].max())"
   ]
  },
  {
   "cell_type": "code",
   "execution_count": 188,
   "id": "234b0e9c",
   "metadata": {},
   "outputs": [
    {
     "name": "stdout",
     "output_type": "stream",
     "text": [
      "['<=2' '<=0' '<=4' '<=-2']\n"
     ]
    }
   ],
   "source": [
    "# show unique values \n",
    "column_values = df_gen[[\"rate_cat\"]].values.ravel()\n",
    "unique_values =  pd.unique(column_values)\n",
    "print(unique_values)"
   ]
  },
  {
   "cell_type": "code",
   "execution_count": 189,
   "id": "16cd63c5",
   "metadata": {},
   "outputs": [],
   "source": [
    "# First, generate color\n",
    "\n",
    "rate_list = list(df_gen['rate_cat'])\n",
    "cost_list = list(df_gen['cost_cat'])\n"
   ]
  },
  {
   "cell_type": "code",
   "execution_count": 190,
   "id": "624fa024",
   "metadata": {},
   "outputs": [],
   "source": [
    "df_gen['color']=[color_probs(rate_list[i],cost_list[i]) for i in range(0,len(rate_list))]"
   ]
  },
  {
   "cell_type": "code",
   "execution_count": 191,
   "id": "805e036f",
   "metadata": {},
   "outputs": [
    {
     "data": {
      "text/html": [
       "<div>\n",
       "<style scoped>\n",
       "    .dataframe tbody tr th:only-of-type {\n",
       "        vertical-align: middle;\n",
       "    }\n",
       "\n",
       "    .dataframe tbody tr th {\n",
       "        vertical-align: top;\n",
       "    }\n",
       "\n",
       "    .dataframe thead th {\n",
       "        text-align: right;\n",
       "    }\n",
       "</style>\n",
       "<table border=\"1\" class=\"dataframe\">\n",
       "  <thead>\n",
       "    <tr style=\"text-align: right;\">\n",
       "      <th></th>\n",
       "      <th>Unnamed: 0</th>\n",
       "      <th>order_distance</th>\n",
       "      <th>order_origin_weight</th>\n",
       "      <th>lead_days</th>\n",
       "      <th>week_id</th>\n",
       "      <th>rate_norm</th>\n",
       "      <th>est_cost_norm</th>\n",
       "      <th>rate_cat</th>\n",
       "      <th>cost_cat</th>\n",
       "      <th>color</th>\n",
       "    </tr>\n",
       "  </thead>\n",
       "  <tbody>\n",
       "    <tr>\n",
       "      <th>0</th>\n",
       "      <td>0</td>\n",
       "      <td>328.887342</td>\n",
       "      <td>37423.671484</td>\n",
       "      <td>5</td>\n",
       "      <td>3</td>\n",
       "      <td>0.745465</td>\n",
       "      <td>0.258851</td>\n",
       "      <td>&lt;=2</td>\n",
       "      <td>&lt;=2</td>\n",
       "      <td>RED</td>\n",
       "    </tr>\n",
       "    <tr>\n",
       "      <th>1</th>\n",
       "      <td>1</td>\n",
       "      <td>432.511533</td>\n",
       "      <td>44112.233825</td>\n",
       "      <td>5</td>\n",
       "      <td>4</td>\n",
       "      <td>0.822597</td>\n",
       "      <td>0.833778</td>\n",
       "      <td>&lt;=2</td>\n",
       "      <td>&lt;=2</td>\n",
       "      <td>RED</td>\n",
       "    </tr>\n",
       "    <tr>\n",
       "      <th>2</th>\n",
       "      <td>2</td>\n",
       "      <td>544.555273</td>\n",
       "      <td>38315.198374</td>\n",
       "      <td>7</td>\n",
       "      <td>3</td>\n",
       "      <td>1.182238</td>\n",
       "      <td>0.944255</td>\n",
       "      <td>&lt;=2</td>\n",
       "      <td>&lt;=2</td>\n",
       "      <td>RED</td>\n",
       "    </tr>\n",
       "    <tr>\n",
       "      <th>3</th>\n",
       "      <td>3</td>\n",
       "      <td>138.258376</td>\n",
       "      <td>40953.390305</td>\n",
       "      <td>1</td>\n",
       "      <td>4</td>\n",
       "      <td>-0.397974</td>\n",
       "      <td>-0.482964</td>\n",
       "      <td>&lt;=0</td>\n",
       "      <td>&lt;=0</td>\n",
       "      <td>RED</td>\n",
       "    </tr>\n",
       "    <tr>\n",
       "      <th>4</th>\n",
       "      <td>4</td>\n",
       "      <td>319.227262</td>\n",
       "      <td>41972.466041</td>\n",
       "      <td>1</td>\n",
       "      <td>4</td>\n",
       "      <td>-0.869040</td>\n",
       "      <td>0.306075</td>\n",
       "      <td>&lt;=0</td>\n",
       "      <td>&lt;=2</td>\n",
       "      <td>RED</td>\n",
       "    </tr>\n",
       "    <tr>\n",
       "      <th>5</th>\n",
       "      <td>5</td>\n",
       "      <td>90.617943</td>\n",
       "      <td>48019.475959</td>\n",
       "      <td>3</td>\n",
       "      <td>3</td>\n",
       "      <td>-1.178395</td>\n",
       "      <td>0.142147</td>\n",
       "      <td>&lt;=0</td>\n",
       "      <td>&lt;=2</td>\n",
       "      <td>RED</td>\n",
       "    </tr>\n",
       "    <tr>\n",
       "      <th>6</th>\n",
       "      <td>6</td>\n",
       "      <td>145.740446</td>\n",
       "      <td>44598.485325</td>\n",
       "      <td>6</td>\n",
       "      <td>2</td>\n",
       "      <td>-0.299977</td>\n",
       "      <td>-0.016159</td>\n",
       "      <td>&lt;=0</td>\n",
       "      <td>&lt;=0</td>\n",
       "      <td>YELLOW</td>\n",
       "    </tr>\n",
       "    <tr>\n",
       "      <th>7</th>\n",
       "      <td>7</td>\n",
       "      <td>409.085414</td>\n",
       "      <td>43607.160108</td>\n",
       "      <td>1</td>\n",
       "      <td>1</td>\n",
       "      <td>0.413795</td>\n",
       "      <td>0.916850</td>\n",
       "      <td>&lt;=2</td>\n",
       "      <td>&lt;=2</td>\n",
       "      <td>YELLOW</td>\n",
       "    </tr>\n",
       "    <tr>\n",
       "      <th>8</th>\n",
       "      <td>8</td>\n",
       "      <td>458.566608</td>\n",
       "      <td>18939.508205</td>\n",
       "      <td>3</td>\n",
       "      <td>1</td>\n",
       "      <td>1.333874</td>\n",
       "      <td>1.492821</td>\n",
       "      <td>&lt;=2</td>\n",
       "      <td>&lt;=2</td>\n",
       "      <td>GREEN</td>\n",
       "    </tr>\n",
       "    <tr>\n",
       "      <th>9</th>\n",
       "      <td>9</td>\n",
       "      <td>417.022787</td>\n",
       "      <td>45328.957670</td>\n",
       "      <td>5</td>\n",
       "      <td>2</td>\n",
       "      <td>0.937783</td>\n",
       "      <td>2.047398</td>\n",
       "      <td>&lt;=2</td>\n",
       "      <td>&lt;=4</td>\n",
       "      <td>RED</td>\n",
       "    </tr>\n",
       "    <tr>\n",
       "      <th>10</th>\n",
       "      <td>10</td>\n",
       "      <td>692.682934</td>\n",
       "      <td>42554.124690</td>\n",
       "      <td>2</td>\n",
       "      <td>2</td>\n",
       "      <td>0.891772</td>\n",
       "      <td>2.396656</td>\n",
       "      <td>&lt;=2</td>\n",
       "      <td>&lt;=4</td>\n",
       "      <td>YELLOW</td>\n",
       "    </tr>\n",
       "    <tr>\n",
       "      <th>11</th>\n",
       "      <td>11</td>\n",
       "      <td>474.997643</td>\n",
       "      <td>46426.118780</td>\n",
       "      <td>12</td>\n",
       "      <td>2</td>\n",
       "      <td>0.667564</td>\n",
       "      <td>0.930170</td>\n",
       "      <td>&lt;=2</td>\n",
       "      <td>&lt;=2</td>\n",
       "      <td>GREEN</td>\n",
       "    </tr>\n",
       "    <tr>\n",
       "      <th>12</th>\n",
       "      <td>12</td>\n",
       "      <td>876.026332</td>\n",
       "      <td>41150.245236</td>\n",
       "      <td>13</td>\n",
       "      <td>3</td>\n",
       "      <td>2.082653</td>\n",
       "      <td>2.768153</td>\n",
       "      <td>&lt;=4</td>\n",
       "      <td>&lt;=4</td>\n",
       "      <td>GREEN</td>\n",
       "    </tr>\n",
       "    <tr>\n",
       "      <th>13</th>\n",
       "      <td>13</td>\n",
       "      <td>437.071041</td>\n",
       "      <td>30982.070319</td>\n",
       "      <td>1</td>\n",
       "      <td>4</td>\n",
       "      <td>0.496620</td>\n",
       "      <td>2.087149</td>\n",
       "      <td>&lt;=2</td>\n",
       "      <td>&lt;=4</td>\n",
       "      <td>RED</td>\n",
       "    </tr>\n",
       "    <tr>\n",
       "      <th>14</th>\n",
       "      <td>14</td>\n",
       "      <td>106.136502</td>\n",
       "      <td>48321.281363</td>\n",
       "      <td>2</td>\n",
       "      <td>1</td>\n",
       "      <td>-1.558142</td>\n",
       "      <td>0.156043</td>\n",
       "      <td>&lt;=0</td>\n",
       "      <td>&lt;=2</td>\n",
       "      <td>RED</td>\n",
       "    </tr>\n",
       "    <tr>\n",
       "      <th>15</th>\n",
       "      <td>15</td>\n",
       "      <td>366.420060</td>\n",
       "      <td>40641.618378</td>\n",
       "      <td>0</td>\n",
       "      <td>1</td>\n",
       "      <td>0.459363</td>\n",
       "      <td>1.119182</td>\n",
       "      <td>&lt;=2</td>\n",
       "      <td>&lt;=2</td>\n",
       "      <td>RED</td>\n",
       "    </tr>\n",
       "    <tr>\n",
       "      <th>16</th>\n",
       "      <td>16</td>\n",
       "      <td>243.357323</td>\n",
       "      <td>42631.834641</td>\n",
       "      <td>7</td>\n",
       "      <td>1</td>\n",
       "      <td>-0.139984</td>\n",
       "      <td>1.093748</td>\n",
       "      <td>&lt;=0</td>\n",
       "      <td>&lt;=2</td>\n",
       "      <td>RED</td>\n",
       "    </tr>\n",
       "    <tr>\n",
       "      <th>17</th>\n",
       "      <td>17</td>\n",
       "      <td>375.563226</td>\n",
       "      <td>41864.704537</td>\n",
       "      <td>1</td>\n",
       "      <td>3</td>\n",
       "      <td>0.514670</td>\n",
       "      <td>1.091356</td>\n",
       "      <td>&lt;=2</td>\n",
       "      <td>&lt;=2</td>\n",
       "      <td>GREEN</td>\n",
       "    </tr>\n",
       "    <tr>\n",
       "      <th>18</th>\n",
       "      <td>18</td>\n",
       "      <td>197.502286</td>\n",
       "      <td>34245.268244</td>\n",
       "      <td>3</td>\n",
       "      <td>1</td>\n",
       "      <td>-0.035742</td>\n",
       "      <td>-0.700891</td>\n",
       "      <td>&lt;=0</td>\n",
       "      <td>&lt;=0</td>\n",
       "      <td>RED</td>\n",
       "    </tr>\n",
       "    <tr>\n",
       "      <th>19</th>\n",
       "      <td>19</td>\n",
       "      <td>25.532407</td>\n",
       "      <td>47469.593042</td>\n",
       "      <td>7</td>\n",
       "      <td>2</td>\n",
       "      <td>0.007749</td>\n",
       "      <td>-1.563382</td>\n",
       "      <td>&lt;=2</td>\n",
       "      <td>&lt;=0</td>\n",
       "      <td>GREEN</td>\n",
       "    </tr>\n",
       "  </tbody>\n",
       "</table>\n",
       "</div>"
      ],
      "text/plain": [
       "    Unnamed: 0  order_distance  order_origin_weight  lead_days  week_id  \\\n",
       "0            0      328.887342         37423.671484          5        3   \n",
       "1            1      432.511533         44112.233825          5        4   \n",
       "2            2      544.555273         38315.198374          7        3   \n",
       "3            3      138.258376         40953.390305          1        4   \n",
       "4            4      319.227262         41972.466041          1        4   \n",
       "5            5       90.617943         48019.475959          3        3   \n",
       "6            6      145.740446         44598.485325          6        2   \n",
       "7            7      409.085414         43607.160108          1        1   \n",
       "8            8      458.566608         18939.508205          3        1   \n",
       "9            9      417.022787         45328.957670          5        2   \n",
       "10          10      692.682934         42554.124690          2        2   \n",
       "11          11      474.997643         46426.118780         12        2   \n",
       "12          12      876.026332         41150.245236         13        3   \n",
       "13          13      437.071041         30982.070319          1        4   \n",
       "14          14      106.136502         48321.281363          2        1   \n",
       "15          15      366.420060         40641.618378          0        1   \n",
       "16          16      243.357323         42631.834641          7        1   \n",
       "17          17      375.563226         41864.704537          1        3   \n",
       "18          18      197.502286         34245.268244          3        1   \n",
       "19          19       25.532407         47469.593042          7        2   \n",
       "\n",
       "    rate_norm  est_cost_norm rate_cat cost_cat   color  \n",
       "0    0.745465       0.258851      <=2      <=2     RED  \n",
       "1    0.822597       0.833778      <=2      <=2     RED  \n",
       "2    1.182238       0.944255      <=2      <=2     RED  \n",
       "3   -0.397974      -0.482964      <=0      <=0     RED  \n",
       "4   -0.869040       0.306075      <=0      <=2     RED  \n",
       "5   -1.178395       0.142147      <=0      <=2     RED  \n",
       "6   -0.299977      -0.016159      <=0      <=0  YELLOW  \n",
       "7    0.413795       0.916850      <=2      <=2  YELLOW  \n",
       "8    1.333874       1.492821      <=2      <=2   GREEN  \n",
       "9    0.937783       2.047398      <=2      <=4     RED  \n",
       "10   0.891772       2.396656      <=2      <=4  YELLOW  \n",
       "11   0.667564       0.930170      <=2      <=2   GREEN  \n",
       "12   2.082653       2.768153      <=4      <=4   GREEN  \n",
       "13   0.496620       2.087149      <=2      <=4     RED  \n",
       "14  -1.558142       0.156043      <=0      <=2     RED  \n",
       "15   0.459363       1.119182      <=2      <=2     RED  \n",
       "16  -0.139984       1.093748      <=0      <=2     RED  \n",
       "17   0.514670       1.091356      <=2      <=2   GREEN  \n",
       "18  -0.035742      -0.700891      <=0      <=0     RED  \n",
       "19   0.007749      -1.563382      <=2      <=0   GREEN  "
      ]
     },
     "execution_count": 191,
     "metadata": {},
     "output_type": "execute_result"
    }
   ],
   "source": [
    "df_gen.head(20)"
   ]
  },
  {
   "cell_type": "markdown",
   "id": "35958ddf",
   "metadata": {},
   "source": [
    "Check the probabilities in original data and generated data for color"
   ]
  },
  {
   "cell_type": "code",
   "execution_count": 192,
   "id": "329948fc",
   "metadata": {},
   "outputs": [
    {
     "data": {
      "text/plain": [
       "RED       0.570029\n",
       "GREEN     0.294467\n",
       "YELLOW    0.135504\n",
       "Name: color, dtype: float64"
      ]
     },
     "execution_count": 192,
     "metadata": {},
     "output_type": "execute_result"
    }
   ],
   "source": [
    "df_gen['color'].value_counts(normalize=True)"
   ]
  },
  {
   "cell_type": "code",
   "execution_count": 193,
   "id": "b0c3304c",
   "metadata": {},
   "outputs": [
    {
     "data": {
      "text/plain": [
       "RED       0.580358\n",
       "GREEN     0.261795\n",
       "YELLOW    0.157847\n",
       "Name: color, dtype: float64"
      ]
     },
     "execution_count": 193,
     "metadata": {},
     "output_type": "execute_result"
    }
   ],
   "source": [
    "df['color'].value_counts(normalize=True)"
   ]
  },
  {
   "cell_type": "markdown",
   "id": "d74aa2ac",
   "metadata": {},
   "source": [
    "## generate CurrentCondition using generated color from BBN and rate and cost from Hierarchical model"
   ]
  },
  {
   "cell_type": "code",
   "execution_count": 194,
   "id": "01193751",
   "metadata": {},
   "outputs": [],
   "source": [
    "                                \n",
    "rate = BbnNode(Variable(0, 'rate',['<=-2', '<=0', '<=2', '<=4'] ), probs_3(df, child='rate_cat'))\n",
    "cost = BbnNode(Variable(1, 'cost',['<=-2', '<=0', '<=2', '<=4'] ), probs_3(df, child='cost_cat'))\n",
    "\n",
    "color = BbnNode(Variable(2, 'color', ['GREEN', 'RED', 'YELLOW']), probs_3(df, child='color'))\n",
    "current_condition = BbnNode(Variable(3, 'current_condition', ['Accepted', 'Cancelled', 'NoPace', 'Rejected', 'Waiting On Acceptance', 'Waiting On Recommendation', 'Withdrawn']), probs_3(df, child='CurrentCondition', parent1='rate_cat', parent2='cost_cat', parent3='color'))\n",
    "\n"
   ]
  },
  {
   "cell_type": "code",
   "execution_count": 195,
   "id": "b1dfecd1",
   "metadata": {},
   "outputs": [],
   "source": [
    "# Create Network\n",
    "bbn = Bbn() \\\n",
    "    .add_node(rate) \\\n",
    "    .add_node(cost) \\\n",
    "    .add_node(color) \\\n",
    "    .add_node(current_condition) \\\n",
    "    .add_edge(Edge(rate, current_condition, EdgeType.DIRECTED)) \\\n",
    "    .add_edge(Edge(cost, current_condition, EdgeType.DIRECTED)) \\\n",
    "    .add_edge(Edge(color, current_condition, EdgeType.DIRECTED)) \n",
    "\n",
    "# Convert the BBN to a join tree\n",
    "join_tree = InferenceController.apply(bbn)"
   ]
  },
  {
   "cell_type": "code",
   "execution_count": 196,
   "id": "aaa867de",
   "metadata": {},
   "outputs": [
    {
     "data": {
      "image/png": "[encoded data removed]",
      "text/plain": [
       "<Figure size 432x288 with 1 Axes>"
      ]
     },
     "metadata": {},
     "output_type": "display_data"
    }
   ],
   "source": [
    "# Set node positions\n",
    "pos = {0: (-1, 2), 1: (-1, 0.5), 2: (1, 0.5), 3: (0, -1)}\n",
    "\n",
    "# Set options for graph looks\n",
    "options = {\n",
    "    \"font_size\": 16,\n",
    "    \"node_size\": 4000,\n",
    "    \"node_color\": \"white\",\n",
    "    \"edgecolors\": \"black\",\n",
    "    \"edge_color\": \"red\",\n",
    "    \"linewidths\": 5,\n",
    "    \"width\": 5,}\n",
    "    \n",
    "# Generate graph\n",
    "n, d = bbn.to_nx_graph()\n",
    "nx.draw(n, with_labels=True, labels=d, pos=pos, **options)\n",
    "\n",
    "# Update margins and print the graph\n",
    "ax = plt.gca()\n",
    "ax.margins(0.10)\n",
    "plt.axis(\"off\")\n",
    "plt.show()"
   ]
  },
  {
   "cell_type": "code",
   "execution_count": 57,
   "id": "86596cbd",
   "metadata": {},
   "outputs": [
    {
     "name": "stdout",
     "output_type": "stream",
     "text": [
      "Node: 1|cost|<=-1,<=1,<=3,<=5\n",
      "Values:\n",
      "1=<=-1|0.15325\n",
      "1=<=1|0.81786\n",
      "1=<=3|0.02887\n",
      "1=<=5|0.00002\n",
      "----------------\n",
      "Node: 2|color|GREEN,RED,YELLOW\n",
      "Values:\n",
      "2=GREEN|0.63435\n",
      "2=RED|0.29110\n",
      "2=YELLOW|0.07455\n",
      "----------------\n",
      "Node: 3|current_condition|Accepted,Cancelled,NoPace,Rejected,Waiting On Acceptance,Waiting On Recommendation,Withdrawn\n",
      "Values:\n",
      "3=Accepted|0.56369\n",
      "3=Cancelled|0.01025\n",
      "3=NoPace|0.00060\n",
      "3=Rejected|0.21930\n",
      "3=Waiting On Acceptance|0.00604\n",
      "3=Waiting On Recommendation|0.00051\n",
      "3=Withdrawn|0.19961\n",
      "----------------\n",
      "Node: 0|rate|<=2,<=8,<=14\n",
      "Values:\n",
      "0=<=2|0.00000\n",
      "0=<=8|1.00000\n",
      "0=<=14|0.00000\n",
      "----------------\n"
     ]
    }
   ],
   "source": [
    "# a simple test\n",
    "# can be skipped\n",
    "evidence('ev1', 'rate', '<=2', 1.0)\n",
    "# Print marginal probabilities\n",
    "print_probs()"
   ]
  },
  {
   "cell_type": "code",
   "execution_count": 197,
   "id": "6de0662a",
   "metadata": {},
   "outputs": [],
   "source": [
    "##### to assign condition for a given input\n",
    "def condition_probs(cat1,cat2, cat3):\n",
    "    evidence('ev1', 'rate', cat1, 1.0)\n",
    "    evidence('ev2', 'cost', cat2, 1.0)\n",
    "    evidence('ev3', 'color', cat3, 1.0)\n",
    "    conditions=join_tree.get_posteriors().get('current_condition')\n",
    "\n",
    "    accept = conditions.get('Accepted')\n",
    "    cancelled = conditions.get('Cancelled')\n",
    "    nopace = conditions.get('NoPace')\n",
    "    rejected = conditions.get('Rejected')\n",
    "    w_a = conditions.get('Waiting On Acceptance')\n",
    "    w_r = conditions.get('Waiting On Recommendation')\n",
    "    wd = conditions.get('Withdrawn')\n",
    "    a = np.random.uniform()\n",
    "    interval = [0,accept,accept+cancelled, accept+cancelled+nopace, accept+cancelled+nopace+rejected, accept+cancelled+nopace+rejected+w_a, accept+cancelled+nopace+rejected+w_a+w_r, accept+cancelled+nopace+rejected+w_a+w_r+wd, 1]\n",
    "    if (a>=0 and a<=accept):\n",
    "        return 'Accepted'\n",
    "    elif (a>accept and a<=accept+cancelled):\n",
    "        return 'Cancelled'\n",
    "    elif (a>accept+cancelled and a<=accept+cancelled+nopace):\n",
    "        return 'NoPace'\n",
    "    elif (a>accept+cancelled+nopace and a<=accept+cancelled+nopace+rejected):\n",
    "        return 'Rejected'\n",
    "    elif (a>accept+cancelled+nopace+rejected and a<=accept+cancelled+nopace+rejected+w_a):\n",
    "        return 'Waiting On Acceptance'\n",
    "    elif (a>accept+cancelled+nopace+rejected+w_a and a<=accept+cancelled+nopace+rejected+w_a+w_r):\n",
    "        return 'Waiting On Recommendation'\n",
    "    elif (a>accept+cancelled+nopace+rejected+w_a+w_r and a<=1):\n",
    "        return 'Withdrawn'\n",
    " "
   ]
  },
  {
   "cell_type": "code",
   "execution_count": 198,
   "id": "53b0d208",
   "metadata": {},
   "outputs": [],
   "source": [
    "rate_list = list(df_gen['rate_cat'])\n",
    "cost_list = list(df_gen['cost_cat'])\n",
    "color_list = list(df_gen['color'])"
   ]
  },
  {
   "cell_type": "code",
   "execution_count": 200,
   "id": "93382fc9",
   "metadata": {},
   "outputs": [],
   "source": [
    "# generate CurrentCondition\n",
    "df_gen['CurrentCondition'] = [condition_probs(rate_list[i],cost_list[i], color_list[i]) for i in range(0,len(rate_list))]\n"
   ]
  },
  {
   "cell_type": "code",
   "execution_count": 201,
   "id": "d477699e",
   "metadata": {},
   "outputs": [
    {
     "data": {
      "text/html": [
       "<div>\n",
       "<style scoped>\n",
       "    .dataframe tbody tr th:only-of-type {\n",
       "        vertical-align: middle;\n",
       "    }\n",
       "\n",
       "    .dataframe tbody tr th {\n",
       "        vertical-align: top;\n",
       "    }\n",
       "\n",
       "    .dataframe thead th {\n",
       "        text-align: right;\n",
       "    }\n",
       "</style>\n",
       "<table border=\"1\" class=\"dataframe\">\n",
       "  <thead>\n",
       "    <tr style=\"text-align: right;\">\n",
       "      <th></th>\n",
       "      <th>Unnamed: 0</th>\n",
       "      <th>order_distance</th>\n",
       "      <th>order_origin_weight</th>\n",
       "      <th>lead_days</th>\n",
       "      <th>week_id</th>\n",
       "      <th>rate_norm</th>\n",
       "      <th>est_cost_norm</th>\n",
       "      <th>rate_cat</th>\n",
       "      <th>cost_cat</th>\n",
       "      <th>color</th>\n",
       "      <th>CurrentCondition</th>\n",
       "    </tr>\n",
       "  </thead>\n",
       "  <tbody>\n",
       "    <tr>\n",
       "      <th>0</th>\n",
       "      <td>0</td>\n",
       "      <td>328.887342</td>\n",
       "      <td>37423.671484</td>\n",
       "      <td>5</td>\n",
       "      <td>3</td>\n",
       "      <td>0.745465</td>\n",
       "      <td>0.258851</td>\n",
       "      <td>&lt;=2</td>\n",
       "      <td>&lt;=2</td>\n",
       "      <td>RED</td>\n",
       "      <td>Accepted</td>\n",
       "    </tr>\n",
       "    <tr>\n",
       "      <th>1</th>\n",
       "      <td>1</td>\n",
       "      <td>432.511533</td>\n",
       "      <td>44112.233825</td>\n",
       "      <td>5</td>\n",
       "      <td>4</td>\n",
       "      <td>0.822597</td>\n",
       "      <td>0.833778</td>\n",
       "      <td>&lt;=2</td>\n",
       "      <td>&lt;=2</td>\n",
       "      <td>RED</td>\n",
       "      <td>Rejected</td>\n",
       "    </tr>\n",
       "    <tr>\n",
       "      <th>2</th>\n",
       "      <td>2</td>\n",
       "      <td>544.555273</td>\n",
       "      <td>38315.198374</td>\n",
       "      <td>7</td>\n",
       "      <td>3</td>\n",
       "      <td>1.182238</td>\n",
       "      <td>0.944255</td>\n",
       "      <td>&lt;=2</td>\n",
       "      <td>&lt;=2</td>\n",
       "      <td>RED</td>\n",
       "      <td>Rejected</td>\n",
       "    </tr>\n",
       "    <tr>\n",
       "      <th>3</th>\n",
       "      <td>3</td>\n",
       "      <td>138.258376</td>\n",
       "      <td>40953.390305</td>\n",
       "      <td>1</td>\n",
       "      <td>4</td>\n",
       "      <td>-0.397974</td>\n",
       "      <td>-0.482964</td>\n",
       "      <td>&lt;=0</td>\n",
       "      <td>&lt;=0</td>\n",
       "      <td>RED</td>\n",
       "      <td>Accepted</td>\n",
       "    </tr>\n",
       "    <tr>\n",
       "      <th>4</th>\n",
       "      <td>4</td>\n",
       "      <td>319.227262</td>\n",
       "      <td>41972.466041</td>\n",
       "      <td>1</td>\n",
       "      <td>4</td>\n",
       "      <td>-0.869040</td>\n",
       "      <td>0.306075</td>\n",
       "      <td>&lt;=0</td>\n",
       "      <td>&lt;=2</td>\n",
       "      <td>RED</td>\n",
       "      <td>Withdrawn</td>\n",
       "    </tr>\n",
       "    <tr>\n",
       "      <th>5</th>\n",
       "      <td>5</td>\n",
       "      <td>90.617943</td>\n",
       "      <td>48019.475959</td>\n",
       "      <td>3</td>\n",
       "      <td>3</td>\n",
       "      <td>-1.178395</td>\n",
       "      <td>0.142147</td>\n",
       "      <td>&lt;=0</td>\n",
       "      <td>&lt;=2</td>\n",
       "      <td>RED</td>\n",
       "      <td>Accepted</td>\n",
       "    </tr>\n",
       "    <tr>\n",
       "      <th>6</th>\n",
       "      <td>6</td>\n",
       "      <td>145.740446</td>\n",
       "      <td>44598.485325</td>\n",
       "      <td>6</td>\n",
       "      <td>2</td>\n",
       "      <td>-0.299977</td>\n",
       "      <td>-0.016159</td>\n",
       "      <td>&lt;=0</td>\n",
       "      <td>&lt;=0</td>\n",
       "      <td>YELLOW</td>\n",
       "      <td>Rejected</td>\n",
       "    </tr>\n",
       "    <tr>\n",
       "      <th>7</th>\n",
       "      <td>7</td>\n",
       "      <td>409.085414</td>\n",
       "      <td>43607.160108</td>\n",
       "      <td>1</td>\n",
       "      <td>1</td>\n",
       "      <td>0.413795</td>\n",
       "      <td>0.916850</td>\n",
       "      <td>&lt;=2</td>\n",
       "      <td>&lt;=2</td>\n",
       "      <td>YELLOW</td>\n",
       "      <td>Rejected</td>\n",
       "    </tr>\n",
       "    <tr>\n",
       "      <th>8</th>\n",
       "      <td>8</td>\n",
       "      <td>458.566608</td>\n",
       "      <td>18939.508205</td>\n",
       "      <td>3</td>\n",
       "      <td>1</td>\n",
       "      <td>1.333874</td>\n",
       "      <td>1.492821</td>\n",
       "      <td>&lt;=2</td>\n",
       "      <td>&lt;=2</td>\n",
       "      <td>GREEN</td>\n",
       "      <td>Accepted</td>\n",
       "    </tr>\n",
       "    <tr>\n",
       "      <th>9</th>\n",
       "      <td>9</td>\n",
       "      <td>417.022787</td>\n",
       "      <td>45328.957670</td>\n",
       "      <td>5</td>\n",
       "      <td>2</td>\n",
       "      <td>0.937783</td>\n",
       "      <td>2.047398</td>\n",
       "      <td>&lt;=2</td>\n",
       "      <td>&lt;=4</td>\n",
       "      <td>RED</td>\n",
       "      <td>Accepted</td>\n",
       "    </tr>\n",
       "    <tr>\n",
       "      <th>10</th>\n",
       "      <td>10</td>\n",
       "      <td>692.682934</td>\n",
       "      <td>42554.124690</td>\n",
       "      <td>2</td>\n",
       "      <td>2</td>\n",
       "      <td>0.891772</td>\n",
       "      <td>2.396656</td>\n",
       "      <td>&lt;=2</td>\n",
       "      <td>&lt;=4</td>\n",
       "      <td>YELLOW</td>\n",
       "      <td>Rejected</td>\n",
       "    </tr>\n",
       "    <tr>\n",
       "      <th>11</th>\n",
       "      <td>11</td>\n",
       "      <td>474.997643</td>\n",
       "      <td>46426.118780</td>\n",
       "      <td>12</td>\n",
       "      <td>2</td>\n",
       "      <td>0.667564</td>\n",
       "      <td>0.930170</td>\n",
       "      <td>&lt;=2</td>\n",
       "      <td>&lt;=2</td>\n",
       "      <td>GREEN</td>\n",
       "      <td>Accepted</td>\n",
       "    </tr>\n",
       "    <tr>\n",
       "      <th>12</th>\n",
       "      <td>12</td>\n",
       "      <td>876.026332</td>\n",
       "      <td>41150.245236</td>\n",
       "      <td>13</td>\n",
       "      <td>3</td>\n",
       "      <td>2.082653</td>\n",
       "      <td>2.768153</td>\n",
       "      <td>&lt;=4</td>\n",
       "      <td>&lt;=4</td>\n",
       "      <td>GREEN</td>\n",
       "      <td>Withdrawn</td>\n",
       "    </tr>\n",
       "    <tr>\n",
       "      <th>13</th>\n",
       "      <td>13</td>\n",
       "      <td>437.071041</td>\n",
       "      <td>30982.070319</td>\n",
       "      <td>1</td>\n",
       "      <td>4</td>\n",
       "      <td>0.496620</td>\n",
       "      <td>2.087149</td>\n",
       "      <td>&lt;=2</td>\n",
       "      <td>&lt;=4</td>\n",
       "      <td>RED</td>\n",
       "      <td>Rejected</td>\n",
       "    </tr>\n",
       "    <tr>\n",
       "      <th>14</th>\n",
       "      <td>14</td>\n",
       "      <td>106.136502</td>\n",
       "      <td>48321.281363</td>\n",
       "      <td>2</td>\n",
       "      <td>1</td>\n",
       "      <td>-1.558142</td>\n",
       "      <td>0.156043</td>\n",
       "      <td>&lt;=0</td>\n",
       "      <td>&lt;=2</td>\n",
       "      <td>RED</td>\n",
       "      <td>Accepted</td>\n",
       "    </tr>\n",
       "    <tr>\n",
       "      <th>15</th>\n",
       "      <td>15</td>\n",
       "      <td>366.420060</td>\n",
       "      <td>40641.618378</td>\n",
       "      <td>0</td>\n",
       "      <td>1</td>\n",
       "      <td>0.459363</td>\n",
       "      <td>1.119182</td>\n",
       "      <td>&lt;=2</td>\n",
       "      <td>&lt;=2</td>\n",
       "      <td>RED</td>\n",
       "      <td>Withdrawn</td>\n",
       "    </tr>\n",
       "    <tr>\n",
       "      <th>16</th>\n",
       "      <td>16</td>\n",
       "      <td>243.357323</td>\n",
       "      <td>42631.834641</td>\n",
       "      <td>7</td>\n",
       "      <td>1</td>\n",
       "      <td>-0.139984</td>\n",
       "      <td>1.093748</td>\n",
       "      <td>&lt;=0</td>\n",
       "      <td>&lt;=2</td>\n",
       "      <td>RED</td>\n",
       "      <td>Accepted</td>\n",
       "    </tr>\n",
       "    <tr>\n",
       "      <th>17</th>\n",
       "      <td>17</td>\n",
       "      <td>375.563226</td>\n",
       "      <td>41864.704537</td>\n",
       "      <td>1</td>\n",
       "      <td>3</td>\n",
       "      <td>0.514670</td>\n",
       "      <td>1.091356</td>\n",
       "      <td>&lt;=2</td>\n",
       "      <td>&lt;=2</td>\n",
       "      <td>GREEN</td>\n",
       "      <td>Accepted</td>\n",
       "    </tr>\n",
       "    <tr>\n",
       "      <th>18</th>\n",
       "      <td>18</td>\n",
       "      <td>197.502286</td>\n",
       "      <td>34245.268244</td>\n",
       "      <td>3</td>\n",
       "      <td>1</td>\n",
       "      <td>-0.035742</td>\n",
       "      <td>-0.700891</td>\n",
       "      <td>&lt;=0</td>\n",
       "      <td>&lt;=0</td>\n",
       "      <td>RED</td>\n",
       "      <td>Withdrawn</td>\n",
       "    </tr>\n",
       "    <tr>\n",
       "      <th>19</th>\n",
       "      <td>19</td>\n",
       "      <td>25.532407</td>\n",
       "      <td>47469.593042</td>\n",
       "      <td>7</td>\n",
       "      <td>2</td>\n",
       "      <td>0.007749</td>\n",
       "      <td>-1.563382</td>\n",
       "      <td>&lt;=2</td>\n",
       "      <td>&lt;=0</td>\n",
       "      <td>GREEN</td>\n",
       "      <td>Accepted</td>\n",
       "    </tr>\n",
       "  </tbody>\n",
       "</table>\n",
       "</div>"
      ],
      "text/plain": [
       "    Unnamed: 0  order_distance  order_origin_weight  lead_days  week_id  \\\n",
       "0            0      328.887342         37423.671484          5        3   \n",
       "1            1      432.511533         44112.233825          5        4   \n",
       "2            2      544.555273         38315.198374          7        3   \n",
       "3            3      138.258376         40953.390305          1        4   \n",
       "4            4      319.227262         41972.466041          1        4   \n",
       "5            5       90.617943         48019.475959          3        3   \n",
       "6            6      145.740446         44598.485325          6        2   \n",
       "7            7      409.085414         43607.160108          1        1   \n",
       "8            8      458.566608         18939.508205          3        1   \n",
       "9            9      417.022787         45328.957670          5        2   \n",
       "10          10      692.682934         42554.124690          2        2   \n",
       "11          11      474.997643         46426.118780         12        2   \n",
       "12          12      876.026332         41150.245236         13        3   \n",
       "13          13      437.071041         30982.070319          1        4   \n",
       "14          14      106.136502         48321.281363          2        1   \n",
       "15          15      366.420060         40641.618378          0        1   \n",
       "16          16      243.357323         42631.834641          7        1   \n",
       "17          17      375.563226         41864.704537          1        3   \n",
       "18          18      197.502286         34245.268244          3        1   \n",
       "19          19       25.532407         47469.593042          7        2   \n",
       "\n",
       "    rate_norm  est_cost_norm rate_cat cost_cat   color CurrentCondition  \n",
       "0    0.745465       0.258851      <=2      <=2     RED         Accepted  \n",
       "1    0.822597       0.833778      <=2      <=2     RED         Rejected  \n",
       "2    1.182238       0.944255      <=2      <=2     RED         Rejected  \n",
       "3   -0.397974      -0.482964      <=0      <=0     RED         Accepted  \n",
       "4   -0.869040       0.306075      <=0      <=2     RED        Withdrawn  \n",
       "5   -1.178395       0.142147      <=0      <=2     RED         Accepted  \n",
       "6   -0.299977      -0.016159      <=0      <=0  YELLOW         Rejected  \n",
       "7    0.413795       0.916850      <=2      <=2  YELLOW         Rejected  \n",
       "8    1.333874       1.492821      <=2      <=2   GREEN         Accepted  \n",
       "9    0.937783       2.047398      <=2      <=4     RED         Accepted  \n",
       "10   0.891772       2.396656      <=2      <=4  YELLOW         Rejected  \n",
       "11   0.667564       0.930170      <=2      <=2   GREEN         Accepted  \n",
       "12   2.082653       2.768153      <=4      <=4   GREEN        Withdrawn  \n",
       "13   0.496620       2.087149      <=2      <=4     RED         Rejected  \n",
       "14  -1.558142       0.156043      <=0      <=2     RED         Accepted  \n",
       "15   0.459363       1.119182      <=2      <=2     RED        Withdrawn  \n",
       "16  -0.139984       1.093748      <=0      <=2     RED         Accepted  \n",
       "17   0.514670       1.091356      <=2      <=2   GREEN         Accepted  \n",
       "18  -0.035742      -0.700891      <=0      <=0     RED        Withdrawn  \n",
       "19   0.007749      -1.563382      <=2      <=0   GREEN         Accepted  "
      ]
     },
     "execution_count": 201,
     "metadata": {},
     "output_type": "execute_result"
    }
   ],
   "source": [
    "df_gen.head(20)"
   ]
  },
  {
   "cell_type": "code",
   "execution_count": 202,
   "id": "fdb0e9d9",
   "metadata": {},
   "outputs": [
    {
     "data": {
      "text/plain": [
       "(12959, 11)"
      ]
     },
     "execution_count": 202,
     "metadata": {},
     "output_type": "execute_result"
    }
   ],
   "source": [
    "df_gen.shape"
   ]
  },
  {
   "cell_type": "code",
   "execution_count": 203,
   "id": "cc508f4d",
   "metadata": {},
   "outputs": [
    {
     "name": "stdout",
     "output_type": "stream",
     "text": [
      "['Accepted' 'Rejected' 'Withdrawn' 'Waiting On Acceptance' 'Cancelled'\n",
      " 'Waiting On Recommendation' 'NoPace']\n"
     ]
    }
   ],
   "source": [
    "# show unique values\n",
    "column_values = df_gen[[\"CurrentCondition\"]].values.ravel()\n",
    "unique_values =  pd.unique(column_values)\n",
    "print(unique_values)"
   ]
  },
  {
   "cell_type": "code",
   "execution_count": 204,
   "id": "2e0cd0a6",
   "metadata": {},
   "outputs": [
    {
     "data": {
      "text/plain": [
       "Accepted                     0.568254\n",
       "Cancelled                    0.010495\n",
       "NoPace                       0.000077\n",
       "Rejected                     0.217146\n",
       "Waiting On Acceptance        0.007794\n",
       "Waiting On Recommendation    0.000309\n",
       "Withdrawn                    0.195926\n",
       "Name: CurrentCondition, dtype: float64"
      ]
     },
     "execution_count": 204,
     "metadata": {},
     "output_type": "execute_result"
    }
   ],
   "source": [
    "# check probabilities\n",
    "df_gen['CurrentCondition'].value_counts(normalize=True).sort_index()"
   ]
  },
  {
   "cell_type": "code",
   "execution_count": 205,
   "id": "4ec36b68",
   "metadata": {},
   "outputs": [
    {
     "data": {
      "text/plain": [
       "Accepted                     0.564354\n",
       "Cancelled                    0.010191\n",
       "NoPace                       0.000604\n",
       "Rejected                     0.218917\n",
       "Waiting On Acceptance        0.006039\n",
       "Waiting On Recommendation    0.000528\n",
       "Withdrawn                    0.199366\n",
       "Name: CurrentCondition, dtype: float64"
      ]
     },
     "execution_count": 205,
     "metadata": {},
     "output_type": "execute_result"
    }
   ],
   "source": [
    "df['CurrentCondition'].value_counts(normalize=True).sort_index()"
   ]
  },
  {
   "cell_type": "code",
   "execution_count": 206,
   "id": "ded2be7c",
   "metadata": {},
   "outputs": [
    {
     "data": {
      "text/plain": [
       "GREEN     0.294467\n",
       "RED       0.570029\n",
       "YELLOW    0.135504\n",
       "Name: color, dtype: float64"
      ]
     },
     "execution_count": 206,
     "metadata": {},
     "output_type": "execute_result"
    }
   ],
   "source": [
    "df_gen['color'].value_counts(normalize=True).sort_index()"
   ]
  },
  {
   "cell_type": "code",
   "execution_count": 207,
   "id": "8a6d6c03",
   "metadata": {},
   "outputs": [
    {
     "data": {
      "text/plain": [
       "GREEN     0.261795\n",
       "RED       0.580358\n",
       "YELLOW    0.157847\n",
       "Name: color, dtype: float64"
      ]
     },
     "execution_count": 207,
     "metadata": {},
     "output_type": "execute_result"
    }
   ],
   "source": [
    "df['color'].value_counts(normalize=True).sort_index()"
   ]
  },
  {
   "cell_type": "markdown",
   "id": "2d746bb0",
   "metadata": {},
   "source": [
    "Plots colored by color and current consitions in bith original and genearted data."
   ]
  },
  {
   "cell_type": "code",
   "execution_count": 223,
   "id": "0641a090",
   "metadata": {},
   "outputs": [
    {
     "name": "stderr",
     "output_type": "stream",
     "text": [
      "/opt/anaconda3/lib/python3.8/site-packages/seaborn/_decorators.py:36: FutureWarning: Pass the following variables as keyword args: x, y. From version 0.12, the only valid positional argument will be `data`, and passing other arguments without an explicit keyword will result in an error or misinterpretation.\n",
      "  warnings.warn(\n"
     ]
    },
    {
     "data": {
      "text/plain": [
       "Text(0.5, 1.0, 'Scatter plot for original data')"
      ]
     },
     "execution_count": 223,
     "metadata": {},
     "output_type": "execute_result"
    },
    {
     "data": {
      "image/png": "[encoded data removed]",
      "text/plain": [
       "<Figure size 432x288 with 1 Axes>"
      ]
     },
     "metadata": {
      "needs_background": "light"
     },
     "output_type": "display_data"
    }
   ],
   "source": [
    "p1 = sns.scatterplot('rate_norm', 'est_cost_norm', hue = 'color', data = df, ci=None, palette=[\"yellow\", \"green\", \"red\"])\n",
    "p1.set(xlim=(-4, 4))\n",
    "p1.set(ylim=(-4, 5))\n",
    "plt.ylabel(\"Estimated normalized cost\")\n",
    "plt.xlabel(\"Normalized rate\")\n",
    "p1.legend(bbox_to_anchor=(1.28, 1.05))\n",
    "plt.title(\"Scatter plot for original data\")"
   ]
  },
  {
   "cell_type": "code",
   "execution_count": 222,
   "id": "3345397f",
   "metadata": {},
   "outputs": [
    {
     "name": "stderr",
     "output_type": "stream",
     "text": [
      "/opt/anaconda3/lib/python3.8/site-packages/seaborn/_decorators.py:36: FutureWarning: Pass the following variables as keyword args: x, y. From version 0.12, the only valid positional argument will be `data`, and passing other arguments without an explicit keyword will result in an error or misinterpretation.\n",
      "  warnings.warn(\n"
     ]
    },
    {
     "data": {
      "text/plain": [
       "Text(0.5, 1.0, 'Scatter plot for generated data')"
      ]
     },
     "execution_count": 222,
     "metadata": {},
     "output_type": "execute_result"
    },
    {
     "data": {
      "image/png": "[encoded data removed]",
      "text/plain": [
       "<Figure size 432x288 with 1 Axes>"
      ]
     },
     "metadata": {
      "needs_background": "light"
     },
     "output_type": "display_data"
    }
   ],
   "source": [
    "p2 = sns.scatterplot('rate_norm', 'est_cost_norm', hue = 'color', data = df_gen, ci=None, palette=[\"red\", \"yellow\", \"green\"])\n",
    "#p2.set(xlim=(-4, 3))\n",
    "p2.set(ylim=(-4, 5))\n",
    "plt.ylabel(\"Estimated normalized cost\")\n",
    "plt.xlabel(\"Normalized rate\")\n",
    "p2.legend(bbox_to_anchor=(1, 1.05))\n",
    "plt.title(\"Scatter plot for generated data\")"
   ]
  },
  {
   "cell_type": "code",
   "execution_count": 225,
   "id": "5c272d52",
   "metadata": {},
   "outputs": [
    {
     "name": "stderr",
     "output_type": "stream",
     "text": [
      "/opt/anaconda3/lib/python3.8/site-packages/seaborn/_decorators.py:36: FutureWarning: Pass the following variables as keyword args: x, y. From version 0.12, the only valid positional argument will be `data`, and passing other arguments without an explicit keyword will result in an error or misinterpretation.\n",
      "  warnings.warn(\n"
     ]
    },
    {
     "data": {
      "text/plain": [
       "Text(0.5, 1.0, 'Scatter plot for generated data')"
      ]
     },
     "execution_count": 225,
     "metadata": {},
     "output_type": "execute_result"
    },
    {
     "data": {
      "image/png": "[encoded data removed]",
      "text/plain": [
       "<Figure size 432x288 with 1 Axes>"
      ]
     },
     "metadata": {
      "needs_background": "light"
     },
     "output_type": "display_data"
    }
   ],
   "source": [
    "p3 = sns.scatterplot('rate_norm', 'est_cost_norm', hue = 'CurrentCondition', data = df_gen, palette=[\"green\", \"red\", \"purple\", \"lime\", \"plum\",\"yellow\", \"blue\"],ci=None) #, palette=[\"yellow\", \"green\", \"red\"]\n",
    "#p3.set(xlim=(-4, 4))\n",
    "p3.set(ylim=(-4, 5))\n",
    "plt.ylabel(\"Estimated normalized cost\")\n",
    "plt.xlabel(\"Normalized rate\")\n",
    "p3.legend(bbox_to_anchor=(1, 1.05))\n",
    "plt.title(\"Scatter plot for generated data\")"
   ]
  },
  {
   "cell_type": "code",
   "execution_count": 226,
   "id": "a331ddc0",
   "metadata": {},
   "outputs": [
    {
     "name": "stderr",
     "output_type": "stream",
     "text": [
      "/opt/anaconda3/lib/python3.8/site-packages/seaborn/_decorators.py:36: FutureWarning: Pass the following variables as keyword args: x, y. From version 0.12, the only valid positional argument will be `data`, and passing other arguments without an explicit keyword will result in an error or misinterpretation.\n",
      "  warnings.warn(\n"
     ]
    },
    {
     "data": {
      "text/plain": [
       "Text(0.5, 1.0, 'Scatter plot for original data')"
      ]
     },
     "execution_count": 226,
     "metadata": {},
     "output_type": "execute_result"
    },
    {
     "data": {
      "image/png": "[encoded data removed]",
      "text/plain": [
       "<Figure size 432x288 with 1 Axes>"
      ]
     },
     "metadata": {
      "needs_background": "light"
     },
     "output_type": "display_data"
    }
   ],
   "source": [
    "p4 = sns.scatterplot('rate_norm', 'est_cost_norm', hue = 'CurrentCondition', data = df, palette=[\"green\", \"red\", \"purple\", \"plum\", \"lime\",\"yellow\", \"blue\"], ci=None) #, palette=[\"yellow\", \"green\", \"red\"]\n",
    "p4.legend(bbox_to_anchor=(1, 1.05))\n",
    "p4.set(xlim=(-4, 4))\n",
    "p4.set(ylim=(-4, 5))\n",
    "plt.ylabel(\"Estimated normalized cost\")\n",
    "plt.xlabel(\"Normalized rate\")\n",
    "plt.title(\"Scatter plot for original data\")"
   ]
  },
  {
   "cell_type": "code",
   "execution_count": 456,
   "id": "47cb61f0",
   "metadata": {},
   "outputs": [
    {
     "data": {
      "text/html": [
       "<div>\n",
       "<style scoped>\n",
       "    .dataframe tbody tr th:only-of-type {\n",
       "        vertical-align: middle;\n",
       "    }\n",
       "\n",
       "    .dataframe tbody tr th {\n",
       "        vertical-align: top;\n",
       "    }\n",
       "\n",
       "    .dataframe thead th {\n",
       "        text-align: right;\n",
       "    }\n",
       "</style>\n",
       "<table border=\"1\" class=\"dataframe\">\n",
       "  <thead>\n",
       "    <tr style=\"text-align: right;\">\n",
       "      <th></th>\n",
       "      <th>order_distance</th>\n",
       "      <th>order_origin_weight</th>\n",
       "      <th>lead_days</th>\n",
       "      <th>rate_norm</th>\n",
       "      <th>est_cost_norm</th>\n",
       "      <th>rate_cat</th>\n",
       "      <th>cost_cat</th>\n",
       "      <th>color</th>\n",
       "      <th>CurrentCondition</th>\n",
       "    </tr>\n",
       "  </thead>\n",
       "  <tbody>\n",
       "    <tr>\n",
       "      <th>0</th>\n",
       "      <td>328.257701</td>\n",
       "      <td>37433.077412</td>\n",
       "      <td>5</td>\n",
       "      <td>-0.909170</td>\n",
       "      <td>-0.203808</td>\n",
       "      <td>&lt;=0</td>\n",
       "      <td>&lt;=0</td>\n",
       "      <td>GREEN</td>\n",
       "      <td>Accepted</td>\n",
       "    </tr>\n",
       "    <tr>\n",
       "      <th>1</th>\n",
       "      <td>431.908489</td>\n",
       "      <td>44121.642933</td>\n",
       "      <td>5</td>\n",
       "      <td>0.139150</td>\n",
       "      <td>-1.555251</td>\n",
       "      <td>&lt;=2</td>\n",
       "      <td>&lt;=0</td>\n",
       "      <td>GREEN</td>\n",
       "      <td>Rejected</td>\n",
       "    </tr>\n",
       "    <tr>\n",
       "      <th>2</th>\n",
       "      <td>543.955732</td>\n",
       "      <td>38324.604726</td>\n",
       "      <td>7</td>\n",
       "      <td>0.363895</td>\n",
       "      <td>-0.039376</td>\n",
       "      <td>&lt;=2</td>\n",
       "      <td>&lt;=0</td>\n",
       "      <td>YELLOW</td>\n",
       "      <td>Accepted</td>\n",
       "    </tr>\n",
       "    <tr>\n",
       "      <th>3</th>\n",
       "      <td>137.859769</td>\n",
       "      <td>40962.797911</td>\n",
       "      <td>1</td>\n",
       "      <td>-0.059074</td>\n",
       "      <td>-0.824165</td>\n",
       "      <td>&lt;=0</td>\n",
       "      <td>&lt;=0</td>\n",
       "      <td>YELLOW</td>\n",
       "      <td>Accepted</td>\n",
       "    </tr>\n",
       "    <tr>\n",
       "      <th>4</th>\n",
       "      <td>318.670795</td>\n",
       "      <td>41981.874131</td>\n",
       "      <td>1</td>\n",
       "      <td>0.237177</td>\n",
       "      <td>-0.865398</td>\n",
       "      <td>&lt;=2</td>\n",
       "      <td>&lt;=0</td>\n",
       "      <td>GREEN</td>\n",
       "      <td>Withdrawn</td>\n",
       "    </tr>\n",
       "  </tbody>\n",
       "</table>\n",
       "</div>"
      ],
      "text/plain": [
       "   order_distance  order_origin_weight  lead_days  rate_norm  est_cost_norm  \\\n",
       "0      328.257701         37433.077412          5  -0.909170      -0.203808   \n",
       "1      431.908489         44121.642933          5   0.139150      -1.555251   \n",
       "2      543.955732         38324.604726          7   0.363895      -0.039376   \n",
       "3      137.859769         40962.797911          1  -0.059074      -0.824165   \n",
       "4      318.670795         41981.874131          1   0.237177      -0.865398   \n",
       "\n",
       "  rate_cat cost_cat   color CurrentCondition  \n",
       "0      <=0      <=0   GREEN         Accepted  \n",
       "1      <=2      <=0   GREEN         Rejected  \n",
       "2      <=2      <=0  YELLOW         Accepted  \n",
       "3      <=0      <=0  YELLOW         Accepted  \n",
       "4      <=2      <=0   GREEN        Withdrawn  "
      ]
     },
     "execution_count": 456,
     "metadata": {},
     "output_type": "execute_result"
    }
   ],
   "source": [
    "df_gen.head()"
   ]
  },
  {
   "cell_type": "code",
   "execution_count": 224,
   "id": "33ecc055",
   "metadata": {},
   "outputs": [],
   "source": [
    "# export the generated data to a csv file\n",
    "df_gen.to_csv(r'/Users/miao/Desktop/IMA Boot Camp 2021 Summer/Project/generated data from BBN new Z3.csv', index = False)"
   ]
  },
  {
   "cell_type": "code",
   "execution_count": null,
   "id": "6f4ba117",
   "metadata": {},
   "outputs": [],
   "source": []
  }
 ],
 "metadata": {
  "kernelspec": {
   "display_name": "Python 3",
   "language": "python",
   "name": "python3"
  },
  "language_info": {
   "codemirror_mode": {
    "name": "ipython",
    "version": 3
   },
   "file_extension": ".py",
   "mimetype": "text/x-python",
   "name": "python",
   "nbconvert_exporter": "python",
   "pygments_lexer": "ipython3",
   "version": "3.8.10"
  }
 },
 "nbformat": 4,
 "nbformat_minor": 5
}
