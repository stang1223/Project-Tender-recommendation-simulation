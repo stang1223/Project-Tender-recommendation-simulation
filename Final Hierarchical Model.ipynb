{
 "cells": [
  {
   "cell_type": "code",
   "execution_count": 14,
   "id": "3db8ffd5",
   "metadata": {},
   "outputs": [],
   "source": [
    "%matplotlib inline\n",
    "import matplotlib.pyplot as plt\n",
    "import seaborn as sns\n",
    "import numpy as np\n",
    "import pymc3 as pm\n",
    "import pandas as pd\n",
    "import theano\n",
    "import arviz as az\n",
    "\n",
    "from scipy import stats\n",
    "import xarray as xr\n",
    "\n",
    "import itertools\n",
    "from theano import tensor as tt\n",
    "\n",
    "plt.style.use('bmh')\n",
    "plt.rcParams[\"figure.figsize\"] = (8,5)\n",
    "#WARNING (theano.tensor.blas): Using NumPy C-API based implementation for BLAS functions."
   ]
  },
  {
   "cell_type": "code",
   "execution_count": 15,
   "id": "f2d85914",
   "metadata": {},
   "outputs": [],
   "source": [
    "data = pd.read_csv(\"./IMA_recommendation_simulation_data.csv\")\n",
    "data = data.dropna()\n",
    "\n",
    "#data = data.iloc[0:8000,]"
   ]
  },
  {
   "cell_type": "code",
   "execution_count": 16,
   "id": "4ac610b3",
   "metadata": {},
   "outputs": [
    {
     "data": {
      "text/html": [
       "<div>\n",
       "<style scoped>\n",
       "    .dataframe tbody tr th:only-of-type {\n",
       "        vertical-align: middle;\n",
       "    }\n",
       "\n",
       "    .dataframe tbody tr th {\n",
       "        vertical-align: top;\n",
       "    }\n",
       "\n",
       "    .dataframe thead th {\n",
       "        text-align: right;\n",
       "    }\n",
       "</style>\n",
       "<table border=\"1\" class=\"dataframe\">\n",
       "  <thead>\n",
       "    <tr style=\"text-align: right;\">\n",
       "      <th></th>\n",
       "      <th>Unnamed: 0</th>\n",
       "      <th>request_id</th>\n",
       "      <th>week_id</th>\n",
       "      <th>weekday</th>\n",
       "      <th>miles</th>\n",
       "      <th>order_equipment_type</th>\n",
       "      <th>order_distance</th>\n",
       "      <th>order_num_stops</th>\n",
       "      <th>order_origin_weight</th>\n",
       "      <th>lead_days</th>\n",
       "      <th>color</th>\n",
       "      <th>origin_dat_ref</th>\n",
       "      <th>dest_dat_ref</th>\n",
       "      <th>rate_norm</th>\n",
       "      <th>est_cost_norm</th>\n",
       "      <th>CurrentCondition</th>\n",
       "    </tr>\n",
       "  </thead>\n",
       "  <tbody>\n",
       "    <tr>\n",
       "      <th>0</th>\n",
       "      <td>0</td>\n",
       "      <td>c2653eda11cd4d94879d1946392eb2b5</td>\n",
       "      <td>4</td>\n",
       "      <td>Sat</td>\n",
       "      <td>1856</td>\n",
       "      <td>V</td>\n",
       "      <td>1848.0</td>\n",
       "      <td>2</td>\n",
       "      <td>40000.0</td>\n",
       "      <td>3</td>\n",
       "      <td>RED</td>\n",
       "      <td>633</td>\n",
       "      <td>978</td>\n",
       "      <td>2.273442</td>\n",
       "      <td>2.138631</td>\n",
       "      <td>Accepted</td>\n",
       "    </tr>\n",
       "    <tr>\n",
       "      <th>1</th>\n",
       "      <td>1</td>\n",
       "      <td>65e3dcc84a2246e68ea8636a967b31b2</td>\n",
       "      <td>3</td>\n",
       "      <td>Mon</td>\n",
       "      <td>56</td>\n",
       "      <td>V</td>\n",
       "      <td>47.0</td>\n",
       "      <td>2</td>\n",
       "      <td>12729.0</td>\n",
       "      <td>3</td>\n",
       "      <td>RED</td>\n",
       "      <td>604</td>\n",
       "      <td>604</td>\n",
       "      <td>-0.971030</td>\n",
       "      <td>-1.017024</td>\n",
       "      <td>Rejected</td>\n",
       "    </tr>\n",
       "    <tr>\n",
       "      <th>2</th>\n",
       "      <td>2</td>\n",
       "      <td>0a86f005640a4204b46c95ca033a7ced</td>\n",
       "      <td>1</td>\n",
       "      <td>Fri</td>\n",
       "      <td>259</td>\n",
       "      <td>V</td>\n",
       "      <td>255.0</td>\n",
       "      <td>2</td>\n",
       "      <td>44176.0</td>\n",
       "      <td>3</td>\n",
       "      <td>RED</td>\n",
       "      <td>761</td>\n",
       "      <td>770</td>\n",
       "      <td>-0.393352</td>\n",
       "      <td>-0.475805</td>\n",
       "      <td>Accepted</td>\n",
       "    </tr>\n",
       "    <tr>\n",
       "      <th>3</th>\n",
       "      <td>3</td>\n",
       "      <td>1105b4bc7b444f7985d4ad810e7acbc2</td>\n",
       "      <td>3</td>\n",
       "      <td>Thu</td>\n",
       "      <td>71</td>\n",
       "      <td>V</td>\n",
       "      <td>68.0</td>\n",
       "      <td>2</td>\n",
       "      <td>39847.0</td>\n",
       "      <td>6</td>\n",
       "      <td>RED</td>\n",
       "      <td>187</td>\n",
       "      <td>180</td>\n",
       "      <td>-0.706546</td>\n",
       "      <td>-0.765855</td>\n",
       "      <td>Rejected</td>\n",
       "    </tr>\n",
       "    <tr>\n",
       "      <th>4</th>\n",
       "      <td>4</td>\n",
       "      <td>de538100bb0f4137961b9551640ef35e</td>\n",
       "      <td>3</td>\n",
       "      <td>Fri</td>\n",
       "      <td>1182</td>\n",
       "      <td>R</td>\n",
       "      <td>1183.0</td>\n",
       "      <td>2</td>\n",
       "      <td>34912.0</td>\n",
       "      <td>3</td>\n",
       "      <td>GREEN</td>\n",
       "      <td>972</td>\n",
       "      <td>922</td>\n",
       "      <td>1.014233</td>\n",
       "      <td>0.469273</td>\n",
       "      <td>Accepted</td>\n",
       "    </tr>\n",
       "  </tbody>\n",
       "</table>\n",
       "</div>"
      ],
      "text/plain": [
       "   Unnamed: 0                        request_id  week_id weekday  miles  \\\n",
       "0           0  c2653eda11cd4d94879d1946392eb2b5        4     Sat   1856   \n",
       "1           1  65e3dcc84a2246e68ea8636a967b31b2        3     Mon     56   \n",
       "2           2  0a86f005640a4204b46c95ca033a7ced        1     Fri    259   \n",
       "3           3  1105b4bc7b444f7985d4ad810e7acbc2        3     Thu     71   \n",
       "4           4  de538100bb0f4137961b9551640ef35e        3     Fri   1182   \n",
       "\n",
       "  order_equipment_type  order_distance  order_num_stops  order_origin_weight  \\\n",
       "0                    V          1848.0                2              40000.0   \n",
       "1                    V            47.0                2              12729.0   \n",
       "2                    V           255.0                2              44176.0   \n",
       "3                    V            68.0                2              39847.0   \n",
       "4                    R          1183.0                2              34912.0   \n",
       "\n",
       "   lead_days  color  origin_dat_ref  dest_dat_ref  rate_norm  est_cost_norm  \\\n",
       "0          3    RED             633           978   2.273442       2.138631   \n",
       "1          3    RED             604           604  -0.971030      -1.017024   \n",
       "2          3    RED             761           770  -0.393352      -0.475805   \n",
       "3          6    RED             187           180  -0.706546      -0.765855   \n",
       "4          3  GREEN             972           922   1.014233       0.469273   \n",
       "\n",
       "  CurrentCondition  \n",
       "0         Accepted  \n",
       "1         Rejected  \n",
       "2         Accepted  \n",
       "3         Rejected  \n",
       "4         Accepted  "
      ]
     },
     "execution_count": 16,
     "metadata": {},
     "output_type": "execute_result"
    }
   ],
   "source": [
    "data.shape\n",
    "data.head()"
   ]
  },
  {
   "cell_type": "code",
   "execution_count": 17,
   "id": "1d8ea2e8",
   "metadata": {},
   "outputs": [],
   "source": [
    "# Adding Zip Zone information\n",
    "def zz(value):\n",
    "    if value < 100:\n",
    "        return 'Z0'\n",
    "    elif value < 200:\n",
    "        return 'Z1'\n",
    "    elif value < 300:\n",
    "        return 'Z2'\n",
    "    elif value < 400:\n",
    "        return 'Z3'\n",
    "    elif value < 500:\n",
    "        return 'Z4'\n",
    "    elif value < 600:\n",
    "        return 'Z5'\n",
    "    elif value < 700:\n",
    "        return 'Z6'\n",
    "    elif value < 800:\n",
    "        return 'Z7'\n",
    "    elif value < 900:\n",
    "        return 'Z8'\n",
    "    elif value < 1000:\n",
    "        return 'Z9'\n",
    "    else:\n",
    "        return 'Error'\n",
    "\n",
    "\n",
    "data['ZipZone_origin'] = data.apply(lambda column: zz(column['origin_dat_ref']),axis=1)\n",
    "data['ZipZone_dest'] = data.apply(lambda column: zz(column['dest_dat_ref']),axis=1)"
   ]
  },
  {
   "cell_type": "code",
   "execution_count": 18,
   "id": "9a2365b7",
   "metadata": {},
   "outputs": [
    {
     "data": {
      "text/html": [
       "<div>\n",
       "<style scoped>\n",
       "    .dataframe tbody tr th:only-of-type {\n",
       "        vertical-align: middle;\n",
       "    }\n",
       "\n",
       "    .dataframe tbody tr th {\n",
       "        vertical-align: top;\n",
       "    }\n",
       "\n",
       "    .dataframe thead th {\n",
       "        text-align: right;\n",
       "    }\n",
       "</style>\n",
       "<table border=\"1\" class=\"dataframe\">\n",
       "  <thead>\n",
       "    <tr style=\"text-align: right;\">\n",
       "      <th></th>\n",
       "      <th>Unnamed: 0</th>\n",
       "      <th>request_id</th>\n",
       "      <th>week_id</th>\n",
       "      <th>weekday</th>\n",
       "      <th>miles</th>\n",
       "      <th>order_equipment_type</th>\n",
       "      <th>order_distance</th>\n",
       "      <th>order_num_stops</th>\n",
       "      <th>order_origin_weight</th>\n",
       "      <th>lead_days</th>\n",
       "      <th>color</th>\n",
       "      <th>origin_dat_ref</th>\n",
       "      <th>dest_dat_ref</th>\n",
       "      <th>rate_norm</th>\n",
       "      <th>est_cost_norm</th>\n",
       "      <th>CurrentCondition</th>\n",
       "      <th>ZipZone_origin</th>\n",
       "      <th>ZipZone_dest</th>\n",
       "      <th>ZipZone_pair</th>\n",
       "    </tr>\n",
       "  </thead>\n",
       "  <tbody>\n",
       "    <tr>\n",
       "      <th>0</th>\n",
       "      <td>0</td>\n",
       "      <td>c2653eda11cd4d94879d1946392eb2b5</td>\n",
       "      <td>4</td>\n",
       "      <td>Sat</td>\n",
       "      <td>1856</td>\n",
       "      <td>V</td>\n",
       "      <td>1848.0</td>\n",
       "      <td>2</td>\n",
       "      <td>40000.0</td>\n",
       "      <td>3</td>\n",
       "      <td>RED</td>\n",
       "      <td>633</td>\n",
       "      <td>978</td>\n",
       "      <td>2.273442</td>\n",
       "      <td>2.138631</td>\n",
       "      <td>Accepted</td>\n",
       "      <td>Z6</td>\n",
       "      <td>Z9</td>\n",
       "      <td>(Z6, Z9)</td>\n",
       "    </tr>\n",
       "    <tr>\n",
       "      <th>1</th>\n",
       "      <td>1</td>\n",
       "      <td>65e3dcc84a2246e68ea8636a967b31b2</td>\n",
       "      <td>3</td>\n",
       "      <td>Mon</td>\n",
       "      <td>56</td>\n",
       "      <td>V</td>\n",
       "      <td>47.0</td>\n",
       "      <td>2</td>\n",
       "      <td>12729.0</td>\n",
       "      <td>3</td>\n",
       "      <td>RED</td>\n",
       "      <td>604</td>\n",
       "      <td>604</td>\n",
       "      <td>-0.971030</td>\n",
       "      <td>-1.017024</td>\n",
       "      <td>Rejected</td>\n",
       "      <td>Z6</td>\n",
       "      <td>Z6</td>\n",
       "      <td>(Z6, Z6)</td>\n",
       "    </tr>\n",
       "    <tr>\n",
       "      <th>2</th>\n",
       "      <td>2</td>\n",
       "      <td>0a86f005640a4204b46c95ca033a7ced</td>\n",
       "      <td>1</td>\n",
       "      <td>Fri</td>\n",
       "      <td>259</td>\n",
       "      <td>V</td>\n",
       "      <td>255.0</td>\n",
       "      <td>2</td>\n",
       "      <td>44176.0</td>\n",
       "      <td>3</td>\n",
       "      <td>RED</td>\n",
       "      <td>761</td>\n",
       "      <td>770</td>\n",
       "      <td>-0.393352</td>\n",
       "      <td>-0.475805</td>\n",
       "      <td>Accepted</td>\n",
       "      <td>Z7</td>\n",
       "      <td>Z7</td>\n",
       "      <td>(Z7, Z7)</td>\n",
       "    </tr>\n",
       "    <tr>\n",
       "      <th>3</th>\n",
       "      <td>3</td>\n",
       "      <td>1105b4bc7b444f7985d4ad810e7acbc2</td>\n",
       "      <td>3</td>\n",
       "      <td>Thu</td>\n",
       "      <td>71</td>\n",
       "      <td>V</td>\n",
       "      <td>68.0</td>\n",
       "      <td>2</td>\n",
       "      <td>39847.0</td>\n",
       "      <td>6</td>\n",
       "      <td>RED</td>\n",
       "      <td>187</td>\n",
       "      <td>180</td>\n",
       "      <td>-0.706546</td>\n",
       "      <td>-0.765855</td>\n",
       "      <td>Rejected</td>\n",
       "      <td>Z1</td>\n",
       "      <td>Z1</td>\n",
       "      <td>(Z1, Z1)</td>\n",
       "    </tr>\n",
       "    <tr>\n",
       "      <th>4</th>\n",
       "      <td>4</td>\n",
       "      <td>de538100bb0f4137961b9551640ef35e</td>\n",
       "      <td>3</td>\n",
       "      <td>Fri</td>\n",
       "      <td>1182</td>\n",
       "      <td>R</td>\n",
       "      <td>1183.0</td>\n",
       "      <td>2</td>\n",
       "      <td>34912.0</td>\n",
       "      <td>3</td>\n",
       "      <td>GREEN</td>\n",
       "      <td>972</td>\n",
       "      <td>922</td>\n",
       "      <td>1.014233</td>\n",
       "      <td>0.469273</td>\n",
       "      <td>Accepted</td>\n",
       "      <td>Z9</td>\n",
       "      <td>Z9</td>\n",
       "      <td>(Z9, Z9)</td>\n",
       "    </tr>\n",
       "  </tbody>\n",
       "</table>\n",
       "</div>"
      ],
      "text/plain": [
       "   Unnamed: 0                        request_id  week_id weekday  miles  \\\n",
       "0           0  c2653eda11cd4d94879d1946392eb2b5        4     Sat   1856   \n",
       "1           1  65e3dcc84a2246e68ea8636a967b31b2        3     Mon     56   \n",
       "2           2  0a86f005640a4204b46c95ca033a7ced        1     Fri    259   \n",
       "3           3  1105b4bc7b444f7985d4ad810e7acbc2        3     Thu     71   \n",
       "4           4  de538100bb0f4137961b9551640ef35e        3     Fri   1182   \n",
       "\n",
       "  order_equipment_type  order_distance  order_num_stops  order_origin_weight  \\\n",
       "0                    V          1848.0                2              40000.0   \n",
       "1                    V            47.0                2              12729.0   \n",
       "2                    V           255.0                2              44176.0   \n",
       "3                    V            68.0                2              39847.0   \n",
       "4                    R          1183.0                2              34912.0   \n",
       "\n",
       "   lead_days  color  origin_dat_ref  dest_dat_ref  rate_norm  est_cost_norm  \\\n",
       "0          3    RED             633           978   2.273442       2.138631   \n",
       "1          3    RED             604           604  -0.971030      -1.017024   \n",
       "2          3    RED             761           770  -0.393352      -0.475805   \n",
       "3          6    RED             187           180  -0.706546      -0.765855   \n",
       "4          3  GREEN             972           922   1.014233       0.469273   \n",
       "\n",
       "  CurrentCondition ZipZone_origin ZipZone_dest ZipZone_pair  \n",
       "0         Accepted             Z6           Z9     (Z6, Z9)  \n",
       "1         Rejected             Z6           Z6     (Z6, Z6)  \n",
       "2         Accepted             Z7           Z7     (Z7, Z7)  \n",
       "3         Rejected             Z1           Z1     (Z1, Z1)  \n",
       "4         Accepted             Z9           Z9     (Z9, Z9)  "
      ]
     },
     "execution_count": 18,
     "metadata": {},
     "output_type": "execute_result"
    }
   ],
   "source": [
    "data['ZipZone_pair'] = data.apply(lambda column: (column['ZipZone_origin'], column['ZipZone_dest']), axis=1)\n",
    "data.head()"
   ]
  },
  {
   "cell_type": "code",
   "execution_count": 19,
   "id": "aa53a165",
   "metadata": {},
   "outputs": [],
   "source": [
    "data = data[data['lead_days'] >= 0]"
   ]
  },
  {
   "cell_type": "code",
   "execution_count": 20,
   "id": "74595415",
   "metadata": {},
   "outputs": [],
   "source": [
    "data['order_distance_norm'] = (data['order_distance'] - data['order_distance'].mean())/(data['order_distance'].std())\n",
    "data['weight_norm'] = (data['order_origin_weight'] - data['order_origin_weight'].mean())/(data['order_origin_weight'].std())\n",
    "data['lead_days_norm'] = (data['lead_days'] - data['lead_days'].mean())/(data['lead_days'].std())\n",
    "data['week_id_norm'] = (data['week_id'] - data['week_id'].mean())/(data['week_id'].std())"
   ]
  },
  {
   "cell_type": "code",
   "execution_count": 21,
   "id": "8bfd1b33",
   "metadata": {},
   "outputs": [],
   "source": [
    "#zipzone_origin_idx, zipzones = pd.factorize(data_sub['ZipZone_origin'], sort=True)\n",
    "#zipzone_dest_idx,_ = pd.factorize(data_sub['ZipZone_dest'], sort=True)\n",
    "\n",
    "zipzone_pair_id, zipzone_pairs = pd.factorize(data['ZipZone_pair'], sort=True)"
   ]
  },
  {
   "cell_type": "code",
   "execution_count": 22,
   "id": "635fd0da",
   "metadata": {},
   "outputs": [
    {
     "data": {
      "text/plain": [
       "Index([('Z0', 'Z0'), ('Z0', 'Z1'), ('Z0', 'Z2'), ('Z0', 'Z3'), ('Z0', 'Z4'),\n",
       "       ('Z0', 'Z5'), ('Z0', 'Z6'), ('Z0', 'Z7'), ('Z0', 'Z8'), ('Z0', 'Z9'),\n",
       "       ('Z1', 'Z0'), ('Z1', 'Z1'), ('Z1', 'Z2'), ('Z1', 'Z3'), ('Z1', 'Z4'),\n",
       "       ('Z1', 'Z5'), ('Z1', 'Z6'), ('Z1', 'Z7'), ('Z1', 'Z8'), ('Z1', 'Z9'),\n",
       "       ('Z2', 'Z0'), ('Z2', 'Z1'), ('Z2', 'Z2'), ('Z2', 'Z3'), ('Z2', 'Z4'),\n",
       "       ('Z2', 'Z5'), ('Z2', 'Z6'), ('Z2', 'Z7'), ('Z2', 'Z8'), ('Z2', 'Z9'),\n",
       "       ('Z3', 'Z0'), ('Z3', 'Z1'), ('Z3', 'Z2'), ('Z3', 'Z3'), ('Z3', 'Z4'),\n",
       "       ('Z3', 'Z5'), ('Z3', 'Z6'), ('Z3', 'Z7'), ('Z3', 'Z8'), ('Z3', 'Z9'),\n",
       "       ('Z4', 'Z0'), ('Z4', 'Z1'), ('Z4', 'Z2'), ('Z4', 'Z3'), ('Z4', 'Z4'),\n",
       "       ('Z4', 'Z5'), ('Z4', 'Z6'), ('Z4', 'Z7'), ('Z4', 'Z8'), ('Z4', 'Z9'),\n",
       "       ('Z5', 'Z0'), ('Z5', 'Z1'), ('Z5', 'Z2'), ('Z5', 'Z3'), ('Z5', 'Z4'),\n",
       "       ('Z5', 'Z5'), ('Z5', 'Z6'), ('Z5', 'Z7'), ('Z5', 'Z8'), ('Z5', 'Z9'),\n",
       "       ('Z6', 'Z0'), ('Z6', 'Z1'), ('Z6', 'Z2'), ('Z6', 'Z3'), ('Z6', 'Z4'),\n",
       "       ('Z6', 'Z5'), ('Z6', 'Z6'), ('Z6', 'Z7'), ('Z6', 'Z8'), ('Z6', 'Z9'),\n",
       "       ('Z7', 'Z0'), ('Z7', 'Z1'), ('Z7', 'Z2'), ('Z7', 'Z3'), ('Z7', 'Z4'),\n",
       "       ('Z7', 'Z5'), ('Z7', 'Z6'), ('Z7', 'Z7'), ('Z7', 'Z8'), ('Z7', 'Z9'),\n",
       "       ('Z8', 'Z0'), ('Z8', 'Z1'), ('Z8', 'Z2'), ('Z8', 'Z3'), ('Z8', 'Z4'),\n",
       "       ('Z8', 'Z5'), ('Z8', 'Z6'), ('Z8', 'Z7'), ('Z8', 'Z8'), ('Z8', 'Z9'),\n",
       "       ('Z9', 'Z0'), ('Z9', 'Z1'), ('Z9', 'Z2'), ('Z9', 'Z3'), ('Z9', 'Z4'),\n",
       "       ('Z9', 'Z5'), ('Z9', 'Z6'), ('Z9', 'Z7'), ('Z9', 'Z8'), ('Z9', 'Z9')],\n",
       "      dtype='object')"
      ]
     },
     "execution_count": 22,
     "metadata": {},
     "output_type": "execute_result"
    }
   ],
   "source": [
    "zipzone_pairs # zipzone_pair_idx[i] = j means that in the unsorted list of zipzone_pairs, the ith entry is actually the jth entry in the sorted list\n",
    "\n",
    "# zipzone_pair_idx[8] corresponds to (Z3, Z3)\n",
    "# zipzone_pair_idx[4] corresponds to (Z9, Z9)\n",
    "# zipzone_pair_idx[2] corresponds to (Z7, Z7)"
   ]
  },
  {
   "cell_type": "code",
   "execution_count": 23,
   "id": "75729c00",
   "metadata": {},
   "outputs": [],
   "source": [
    "df_order_Z33 = data[(data['ZipZone_origin'] == 'Z3') & (data['ZipZone_dest'] == 'Z3')]\n",
    "df_order_Z77 = data[(data['ZipZone_origin'] == 'Z7') & (data['ZipZone_dest'] == 'Z7')]\n",
    "df_order_Z99 = data[(data['ZipZone_origin'] == 'Z9') & (data['ZipZone_dest'] == 'Z9')]"
   ]
  },
  {
   "cell_type": "code",
   "execution_count": 24,
   "id": "fab34c57",
   "metadata": {},
   "outputs": [],
   "source": [
    "coords = {\n",
    "    \"obs_id\": np.arange((data.shape)[0]),\n",
    "    \"zipzone_pair\": zipzone_pairs,\n",
    "    \"num_coef\": np.arange(5)\n",
    "}"
   ]
  },
  {
   "cell_type": "code",
   "execution_count": 25,
   "id": "944615ab",
   "metadata": {},
   "outputs": [],
   "source": [
    "order_distance_norm = data.order_distance_norm\n",
    "weight_norm = data.weight_norm\n",
    "lead_days_norm = data.lead_days_norm\n",
    "week_id_norm = data.week_id_norm\n",
    "rate_norm = data.rate_norm\n",
    "est_cost_norm = data.est_cost_norm\n",
    "\n",
    "order_distance_norm = np.array(order_distance_norm.values.tolist())\n",
    "weight_norm = np.array(weight_norm.values.tolist())\n",
    "lead_days_norm = np.array(lead_days_norm.values.tolist())\n",
    "week_id_norm = np.array(week_id_norm.values.tolist())\n",
    "rate_norm = np.array(rate_norm.values.tolist())\n",
    "est_cost_norm = np.array(est_cost_norm.tolist())"
   ]
  },
  {
   "cell_type": "markdown",
   "id": "e4b6069b",
   "metadata": {},
   "source": [
    "## Final rate model"
   ]
  },
  {
   "cell_type": "code",
   "execution_count": 26,
   "id": "2987e091",
   "metadata": {},
   "outputs": [
    {
     "name": "stderr",
     "output_type": "stream",
     "text": [
      "Auto-assigning NUTS sampler...\n",
      "Initializing NUTS using jitter+adapt_diag...\n",
      "Multiprocess sampling (2 chains in 2 jobs)\n",
      "NUTS: [epsilon, cov_coef, mu_weekid, mu_leaddays, mu_weight, mu_distance, mu_intercept, chol]\n"
     ]
    },
    {
     "data": {
      "text/html": [
       "\n",
       "    <div>\n",
       "        <style>\n",
       "            /* Turns off some styling */\n",
       "            progress {\n",
       "                /* gets rid of default border in Firefox and Opera. */\n",
       "                border: none;\n",
       "                /* Needs to be in here for Safari polyfill so background images work as expected. */\n",
       "                background-size: auto;\n",
       "            }\n",
       "            .progress-bar-interrupted, .progress-bar-interrupted::-webkit-progress-bar {\n",
       "                background: #F44336;\n",
       "            }\n",
       "        </style>\n",
       "      <progress value='4000' class='' max='4000' style='width:300px; height:20px; vertical-align: middle;'></progress>\n",
       "      100.00% [4000/4000 08:42<00:00 Sampling 2 chains, 0 divergences]\n",
       "    </div>\n",
       "    "
      ],
      "text/plain": [
       "<IPython.core.display.HTML object>"
      ]
     },
     "metadata": {},
     "output_type": "display_data"
    },
    {
     "name": "stderr",
     "output_type": "stream",
     "text": [
      "Sampling 2 chains for 1_000 tune and 1_000 draw iterations (2_000 + 2_000 draws total) took 535 seconds.\n"
     ]
    },
    {
     "name": "stdout",
     "output_type": "stream",
     "text": [
      "0, dim: obs_id, 7934 =? 7934\n"
     ]
    },
    {
     "name": "stderr",
     "output_type": "stream",
     "text": [
      "The estimated number of effective samples is smaller than 200 for some parameters.\n"
     ]
    }
   ],
   "source": [
    "with pm.Model(coords=coords) as rate_model_1:\n",
    "    zipzone_pair_idx = pm.Data(\"zipzone_pair_idx\", zipzone_pair_id, dims = 'obs_id')\n",
    "    x1_shared = pm.Data(\"distance\", order_distance_norm, dims = 'obs_id')\n",
    "    x2_shared = pm.Data(\"weight\", weight_norm, dims = 'obs_id')\n",
    "    x3_shared = pm.Data(\"leaddays\", lead_days_norm, dims = 'obs_id')\n",
    "    x4_shared = pm.Data(\"weekid\", week_id_norm, dims = 'obs_id')\n",
    "    y_shared = pm.Data(\"rate\", rate_norm, dims = 'obs_id')\n",
    "    \n",
    "    \n",
    "    sd_dist = pm.Exponential.dist(1.0)\n",
    "    \n",
    "    \n",
    "    chol, corr, stds = pm.LKJCholeskyCov(\"chol\", n=5, eta=2.0, sd_dist=sd_dist, compute_corr=True)\n",
    "    \n",
    "    \n",
    "    mu_intercept = pm.Normal('mu_intercept', mu=0, sigma=1)\n",
    "    mu_distance = pm.Normal('mu_distance', mu=0, sigma=1)\n",
    "    mu_weight = pm.Normal('mu_weight', mu=0, sigma=1)\n",
    "    mu_leaddays = pm.Normal('mu_leaddays', mu=0, sigma=1)\n",
    "    mu_weekid = pm.Normal('mu_weekid', mu=0, sigma=1)\n",
    "    \n",
    "    \n",
    "    cov_coef = pm.MvNormal(\"cov_coef\", mu=tt.stack([mu_intercept, mu_distance, mu_weight, mu_leaddays, mu_weekid]), \n",
    "                           chol=chol, dims = ('zipzone_pair', 'num_coef'))\n",
    "    \n",
    "    \n",
    "    # Model error\n",
    "    epsilon = pm.HalfNormal('epsilon', 1) # Possibly change distribution\n",
    "    \n",
    "    # Regression for mean of likelihood\n",
    "    y_hat = cov_coef[zipzone_pair_idx, 0] + cov_coef[zipzone_pair_idx, 1] * x1_shared + cov_coef[zipzone_pair_idx,2] * x2_shared + cov_coef[zipzone_pair_idx, 3] * x3_shared + cov_coef[zipzone_pair_idx, 4] * x4_shared\n",
    "\n",
    "    \n",
    "    # Likelihood\n",
    "    pm.StudentT('y_like', nu=5, mu=y_hat, sigma=epsilon, observed=y_shared, dims = 'obs_id')\n",
    "    \n",
    "    \n",
    "    rate_trace_1 = pm.sample(1000, cores=2, return_inferencedata=True)"
   ]
  },
  {
   "cell_type": "code",
   "execution_count": 27,
   "id": "88ed01c8",
   "metadata": {},
   "outputs": [
    {
     "data": {
      "text/html": [
       "\n",
       "    <div>\n",
       "        <style>\n",
       "            /* Turns off some styling */\n",
       "            progress {\n",
       "                /* gets rid of default border in Firefox and Opera. */\n",
       "                border: none;\n",
       "                /* Needs to be in here for Safari polyfill so background images work as expected. */\n",
       "                background-size: auto;\n",
       "            }\n",
       "            .progress-bar-interrupted, .progress-bar-interrupted::-webkit-progress-bar {\n",
       "                background: #F44336;\n",
       "            }\n",
       "        </style>\n",
       "      <progress value='2000' class='' max='2000' style='width:300px; height:20px; vertical-align: middle;'></progress>\n",
       "      100.00% [2000/2000 00:21<00:00]\n",
       "    </div>\n",
       "    "
      ],
      "text/plain": [
       "<IPython.core.display.HTML object>"
      ]
     },
     "metadata": {},
     "output_type": "display_data"
    }
   ],
   "source": [
    "with rate_model_1:\n",
    "    rate_post_pred_11 = pm.sample_posterior_predictive(rate_trace_1, var_names = ['y_like'])"
   ]
  },
  {
   "cell_type": "code",
   "execution_count": 28,
   "id": "337b78d6",
   "metadata": {},
   "outputs": [
    {
     "data": {
      "text/plain": [
       "(2000, 7934)"
      ]
     },
     "execution_count": 28,
     "metadata": {},
     "output_type": "execute_result"
    }
   ],
   "source": [
    "rate_post_pred_11['y_like'].shape"
   ]
  },
  {
   "cell_type": "code",
   "execution_count": 29,
   "id": "e060ffe2",
   "metadata": {},
   "outputs": [
    {
     "data": {
      "text/plain": [
       "<AxesSubplot:xlabel='y_like'>"
      ]
     },
     "execution_count": 29,
     "metadata": {},
     "output_type": "execute_result"
    },
    {
     "data": {
      "image/png": "[encoded data removed]",
      "text/plain": [
       "<Figure size 576x360 with 1 Axes>"
      ]
     },
     "metadata": {
      "needs_background": "light"
     },
     "output_type": "display_data"
    }
   ],
   "source": [
    "az.plot_ppc(az.from_pymc3(posterior_predictive=rate_post_pred_11, model=rate_model_1))"
   ]
  },
  {
   "cell_type": "code",
   "execution_count": null,
   "id": "16d0736d",
   "metadata": {},
   "outputs": [],
   "source": [
    "summary = az.summary(rate_trace_1, round_to=8)\n",
    "summary"
   ]
  },
  {
   "cell_type": "code",
   "execution_count": null,
   "id": "c2095742",
   "metadata": {},
   "outputs": [],
   "source": [
    "from pymc3 import traceplot\n",
    "\n",
    "traceplot(rate_trace_1)"
   ]
  },
  {
   "cell_type": "markdown",
   "id": "3cd2206f",
   "metadata": {},
   "source": [
    "## Use this model to predict rate_norm on just Z3->Z3 data"
   ]
  },
  {
   "cell_type": "code",
   "execution_count": null,
   "id": "7c877b13",
   "metadata": {},
   "outputs": [],
   "source": [
    "Z3_data = data[(data['ZipZone_origin'] == 'Z3') & (data['ZipZone_dest'] == 'Z3')]\n",
    "\n",
    "Z3_distance = Z3_data.order_distance_norm\n",
    "Z3_distance = np.array(Z3_distance.values.tolist())\n",
    "\n",
    "Z3_weight = Z3_data.weight_norm\n",
    "Z3_weight = np.array(Z3_weight.values.tolist())\n",
    "\n",
    "Z3_leaddays = Z3_data.lead_days_norm\n",
    "Z3_leaddays = np.array(Z3_leaddays.values.tolist())\n",
    "\n",
    "Z3_weekid = Z3_data.week_id_norm\n",
    "Z3_weekid = np.array(Z3_weekid.values.tolist())"
   ]
  },
  {
   "cell_type": "code",
   "execution_count": null,
   "id": "418d4b3a",
   "metadata": {},
   "outputs": [],
   "source": [
    "#prediction_coords = {\"obs_id\": [('Z3', 'Z3')]}\n",
    "with rate_model_1:\n",
    "    # change the value and shape of the data\n",
    "    pm.set_data(\n",
    "        {\n",
    "            \"zipzone_pair_idx\": np.tile(zipzone_pair_id[8], (data.shape)[0]),\n",
    "            \"distance\": np.concatenate((Z3_distance, np.empty((data.shape)[0] - len(Z3_distance)))),\n",
    "            \"weight\": np.concatenate((Z3_weight, np.empty((data.shape)[0] - len(Z3_weight)))),\n",
    "            \"leaddays\": np.concatenate((Z3_leaddays, np.empty((data.shape)[0] - len(Z3_leaddays)))),\n",
    "            \"weekid\": np.concatenate((Z3_weekid, np.empty((data.shape)[0] - len(Z3_weekid)))),\n",
    "            # use dummy values with the same shape:\n",
    "            \"rate\": np.empty(data.shape[0]),\n",
    "        }\n",
    "    )\n",
    "    rate_post_pred_12 = pm.sample_posterior_predictive(rate_trace_1, var_names=['y_like'])\n",
    "    #az.from_pymc3_predictions(rate_post_pred_12, idata_orig=rate_trace_1, inplace=True, coords=prediction_coords)"
   ]
  },
  {
   "cell_type": "code",
   "execution_count": null,
   "id": "9d12f075",
   "metadata": {},
   "outputs": [],
   "source": [
    "#az.plot_posterior(rate_trace_1);\n",
    "az.plot_ppc(az.from_pymc3(posterior_predictive=rate_post_pred_12, model=rate_model_1))"
   ]
  },
  {
   "cell_type": "code",
   "execution_count": null,
   "id": "19d30898",
   "metadata": {},
   "outputs": [],
   "source": [
    "# Generate the actual prediction values\n",
    "p_test_pred = rate_post_pred_12[\"y_like\"].mean(axis=0)"
   ]
  },
  {
   "cell_type": "code",
   "execution_count": null,
   "id": "18961354",
   "metadata": {},
   "outputs": [],
   "source": [
    "# Plot original Z3 data with generated values\n",
    "\n",
    "fig, ax = plt.subplots()\n",
    "x = p_test_pred[0:len(Z3_distance)]\n",
    "y = Z3_data['rate_norm']\n",
    "for a in [x, y]:\n",
    "    sns.distplot(a, bins=100, ax=ax)\n",
    "#ax.set_xlim([0, 100])"
   ]
  },
  {
   "cell_type": "markdown",
   "id": "5197e62c",
   "metadata": {},
   "source": [
    "## Final cost model"
   ]
  },
  {
   "cell_type": "code",
   "execution_count": 30,
   "id": "396f0f4e",
   "metadata": {},
   "outputs": [
    {
     "name": "stderr",
     "output_type": "stream",
     "text": [
      "Auto-assigning NUTS sampler...\n",
      "Initializing NUTS using jitter+adapt_diag...\n",
      "Multiprocess sampling (2 chains in 2 jobs)\n",
      "NUTS: [epsilon, cov_coef, mu_weekid, mu_leaddays, mu_weight, mu_distance, mu_intercept, chol]\n"
     ]
    },
    {
     "data": {
      "text/html": [
       "\n",
       "    <div>\n",
       "        <style>\n",
       "            /* Turns off some styling */\n",
       "            progress {\n",
       "                /* gets rid of default border in Firefox and Opera. */\n",
       "                border: none;\n",
       "                /* Needs to be in here for Safari polyfill so background images work as expected. */\n",
       "                background-size: auto;\n",
       "            }\n",
       "            .progress-bar-interrupted, .progress-bar-interrupted::-webkit-progress-bar {\n",
       "                background: #F44336;\n",
       "            }\n",
       "        </style>\n",
       "      <progress value='4000' class='' max='4000' style='width:300px; height:20px; vertical-align: middle;'></progress>\n",
       "      100.00% [4000/4000 09:54<00:00 Sampling 2 chains, 0 divergences]\n",
       "    </div>\n",
       "    "
      ],
      "text/plain": [
       "<IPython.core.display.HTML object>"
      ]
     },
     "metadata": {},
     "output_type": "display_data"
    },
    {
     "name": "stderr",
     "output_type": "stream",
     "text": [
      "Sampling 2 chains for 1_000 tune and 1_000 draw iterations (2_000 + 2_000 draws total) took 607 seconds.\n"
     ]
    },
    {
     "name": "stdout",
     "output_type": "stream",
     "text": [
      "0, dim: obs_id, 7934 =? 7934\n"
     ]
    },
    {
     "name": "stderr",
     "output_type": "stream",
     "text": [
      "The estimated number of effective samples is smaller than 200 for some parameters.\n"
     ]
    }
   ],
   "source": [
    "with pm.Model(coords=coords) as cost_model_1:\n",
    "    zipzone_pair_idx = pm.Data(\"zipzone_pair_idx\", zipzone_pair_id, dims = 'obs_id')\n",
    "    x1_shared = pm.Data(\"distance\", order_distance_norm, dims = 'obs_id')\n",
    "    x2_shared = pm.Data(\"weight\", weight_norm, dims = 'obs_id')\n",
    "    x3_shared = pm.Data(\"leaddays\", lead_days_norm, dims = 'obs_id')\n",
    "    x4_shared = pm.Data(\"weekid\", week_id_norm, dims = 'obs_id')\n",
    "    y_shared = pm.Data(\"cost\", est_cost_norm, dims = 'obs_id')\n",
    "    \n",
    "    \n",
    "    sd_dist = pm.Exponential.dist(1.0)\n",
    "    \n",
    "    \n",
    "    chol, corr, stds = pm.LKJCholeskyCov(\"chol\", n=5, eta=2.0, sd_dist=sd_dist, compute_corr=True)\n",
    "    \n",
    "    \n",
    "    mu_intercept = pm.Normal('mu_intercept', mu=0, sigma=1)\n",
    "    mu_distance = pm.Normal('mu_distance', mu=0, sigma=1)\n",
    "    mu_weight = pm.Normal('mu_weight', mu=0, sigma=1)\n",
    "    mu_leaddays = pm.Normal('mu_leaddays', mu=0, sigma=1)\n",
    "    mu_weekid = pm.Normal('mu_weekid', mu=0, sigma=1)\n",
    "    \n",
    "    \n",
    "    cov_coef = pm.MvNormal(\"cov_coef\", mu=tt.stack([mu_intercept, mu_distance, mu_weight, mu_leaddays, mu_weekid]), \n",
    "                           chol=chol, dims = ('zipzone_pair', 'num_coef'))\n",
    "    \n",
    "    \n",
    "    # Model error\n",
    "    epsilon = pm.HalfNormal('epsilon', 1) # Possibly change distribution\n",
    "    \n",
    "    # Regression for mean of likelihood\n",
    "    y_hat = cov_coef[zipzone_pair_idx, 0] + cov_coef[zipzone_pair_idx, 1] * x1_shared + cov_coef[zipzone_pair_idx,2] * x2_shared + cov_coef[zipzone_pair_idx, 3] * x3_shared + cov_coef[zipzone_pair_idx, 4] * x4_shared\n",
    "\n",
    "    \n",
    "    # Likelihood\n",
    "    pm.StudentT('y_like', nu=5,  mu=y_hat, sigma=epsilon, observed=y_shared, dims = 'obs_id')\n",
    "    \n",
    "    \n",
    "    cost_trace_1 = pm.sample(1000, cores=2, return_inferencedata=True)"
   ]
  },
  {
   "cell_type": "code",
   "execution_count": 31,
   "id": "89837bb7",
   "metadata": {},
   "outputs": [
    {
     "data": {
      "text/html": [
       "\n",
       "    <div>\n",
       "        <style>\n",
       "            /* Turns off some styling */\n",
       "            progress {\n",
       "                /* gets rid of default border in Firefox and Opera. */\n",
       "                border: none;\n",
       "                /* Needs to be in here for Safari polyfill so background images work as expected. */\n",
       "                background-size: auto;\n",
       "            }\n",
       "            .progress-bar-interrupted, .progress-bar-interrupted::-webkit-progress-bar {\n",
       "                background: #F44336;\n",
       "            }\n",
       "        </style>\n",
       "      <progress value='2000' class='' max='2000' style='width:300px; height:20px; vertical-align: middle;'></progress>\n",
       "      100.00% [2000/2000 00:21<00:00]\n",
       "    </div>\n",
       "    "
      ],
      "text/plain": [
       "<IPython.core.display.HTML object>"
      ]
     },
     "metadata": {},
     "output_type": "display_data"
    }
   ],
   "source": [
    "with cost_model_1:\n",
    "    cost_post_pred_11 = pm.sample_posterior_predictive(cost_trace_1, var_names = ['y_like'])"
   ]
  },
  {
   "cell_type": "code",
   "execution_count": null,
   "id": "3f74fafb",
   "metadata": {},
   "outputs": [],
   "source": [
    "cost_post_pred_11['y_like'].shape"
   ]
  },
  {
   "cell_type": "code",
   "execution_count": 32,
   "id": "b2c973d5",
   "metadata": {},
   "outputs": [
    {
     "data": {
      "text/plain": [
       "<AxesSubplot:xlabel='y_like'>"
      ]
     },
     "execution_count": 32,
     "metadata": {},
     "output_type": "execute_result"
    },
    {
     "data": {
      "image/png": "[encoded data removed]",
      "text/plain": [
       "<Figure size 576x360 with 1 Axes>"
      ]
     },
     "metadata": {
      "needs_background": "light"
     },
     "output_type": "display_data"
    }
   ],
   "source": [
    "az.plot_ppc(az.from_pymc3(posterior_predictive=cost_post_pred_11, model=cost_model_1))"
   ]
  },
  {
   "cell_type": "code",
   "execution_count": null,
   "id": "e2465d4f",
   "metadata": {},
   "outputs": [],
   "source": [
    "summary = az.summary(cost_trace_1, round_to=8)\n",
    "summary"
   ]
  },
  {
   "cell_type": "code",
   "execution_count": null,
   "id": "9e3be63a",
   "metadata": {},
   "outputs": [],
   "source": [
    "from pymc3 import traceplot\n",
    "\n",
    "traceplot(cost_trace_1)"
   ]
  },
  {
   "cell_type": "code",
   "execution_count": null,
   "id": "352dcfc5",
   "metadata": {},
   "outputs": [],
   "source": [
    "# Note: we can also test this model on the Z3->Z3 data (like we did with the rate_norm model) to see how good it fits"
   ]
  },
  {
   "cell_type": "markdown",
   "id": "66b3f98c",
   "metadata": {},
   "source": [
    "# Calling the model using Synthetic Data\n",
    "### Note: The definitions of the functions below are redundant and can easily be simplified"
   ]
  },
  {
   "cell_type": "code",
   "execution_count": 33,
   "id": "c5b87b9e",
   "metadata": {},
   "outputs": [],
   "source": [
    "import scipy.stats as st\n",
    "from scipy.stats import multinomial\n",
    "import statsmodels.datasets"
   ]
  },
  {
   "cell_type": "code",
   "execution_count": 42,
   "id": "a25cc643",
   "metadata": {},
   "outputs": [],
   "source": [
    "def synthetic_data_rate_Z3(generated_distance, generated_weight, generated_lead_days, generated_week_id):\n",
    "    generated_data = pd.DataFrame({'order_distance': generated_distance, 'order_origin_weight': generated_weight, \n",
    "                                   'lead_days': generated_lead_days, 'week_id' : generated_week_id})\n",
    "\n",
    "    generated_data['order_distance_norm'] = (generated_data['order_distance'] - generated_data['order_distance'].mean())/(generated_data['order_distance'].std())\n",
    "    generated_data['weight_norm'] = (generated_data['order_origin_weight'] - generated_data['order_origin_weight'].mean())/(generated_data['order_origin_weight'].std())\n",
    "    generated_data['lead_days_norm'] = (generated_data['lead_days'] - generated_data['lead_days'].mean())/(generated_data['lead_days'].std())\n",
    "    generated_data['week_id_norm'] = (generated_data['week_id'] - generated_data['week_id'].mean())/(generated_data['week_id'].std())\n",
    "   \n",
    "\n",
    "    gen_distance = np.array(generated_data.order_distance_norm.values.tolist())\n",
    "    gen_weight = np.array(generated_data.weight_norm.values.tolist())\n",
    "    gen_leaddays = np.array(generated_data.lead_days_norm.values.tolist())\n",
    "    gen_weekid = np.array(generated_data.week_id_norm.values.tolist())\n",
    "    \n",
    "    with rate_model_1:\n",
    "    # change the value and shape of the data\n",
    "        pm.set_data(\n",
    "            {\n",
    "                \"zipzone_pair_idx\": np.tile(zipzone_pair_id[8], (data.shape)[0]),\n",
    "                \"distance\": np.concatenate((gen_distance, np.empty((data.shape)[0] - len(gen_distance)))),\n",
    "                \"weight\": np.concatenate((gen_weight, np.empty((data.shape)[0] - len(gen_weight)))),\n",
    "                \"leaddays\": np.concatenate((gen_leaddays, np.empty((data.shape)[0] - len(gen_leaddays)))),\n",
    "                \"weekid\": np.concatenate((gen_weekid, np.empty((data.shape)[0] - len(gen_weekid)))),\n",
    "                # use dummy values with the same shape:\n",
    "                \"rate\": np.empty(data.shape[0]),\n",
    "            }\n",
    "        )\n",
    "        rate_post_pred_13 = pm.sample_posterior_predictive(rate_trace_1, var_names=['y_like'])\n",
    "    \n",
    "    #rate_pred_13 = rate_post_pred_13[\"y_like\"].mean(axis=0)\n",
    "    return rate_post_pred_13['y_like'][0,0:len(gen_distance)]"
   ]
  },
  {
   "cell_type": "code",
   "execution_count": 43,
   "id": "0a5681f4",
   "metadata": {},
   "outputs": [],
   "source": [
    "def synthetic_data_rate_Z9(generated_distance, generated_weight, generated_lead_days, generated_week_id):\n",
    "    generated_data = pd.DataFrame({'order_distance': generated_distance, 'order_origin_weight': generated_weight, \n",
    "                                   'lead_days': generated_lead_days, 'week_id' : generated_week_id})\n",
    "\n",
    "    generated_data['order_distance_norm'] = (generated_data['order_distance'] - generated_data['order_distance'].mean())/(generated_data['order_distance'].std())\n",
    "    generated_data['weight_norm'] = (generated_data['order_origin_weight'] - generated_data['order_origin_weight'].mean())/(generated_data['order_origin_weight'].std())\n",
    "    generated_data['lead_days_norm'] = (generated_data['lead_days'] - generated_data['lead_days'].mean())/(generated_data['lead_days'].std())\n",
    "    generated_data['week_id_norm'] = (generated_data['week_id'] - generated_data['week_id'].mean())/(generated_data['week_id'].std())\n",
    "   \n",
    "\n",
    "    gen_distance = np.array(generated_data.order_distance_norm.values.tolist())\n",
    "    gen_weight = np.array(generated_data.weight_norm.values.tolist())\n",
    "    gen_leaddays = np.array(generated_data.lead_days_norm.values.tolist())\n",
    "    gen_weekid = np.array(generated_data.week_id_norm.values.tolist())\n",
    "    \n",
    "    with rate_model_1:\n",
    "    # change the value and shape of the data\n",
    "        pm.set_data(\n",
    "            {\n",
    "                \"zipzone_pair_idx\": np.tile(zipzone_pair_id[4], (data.shape)[0]),\n",
    "                \"distance\": np.concatenate((gen_distance, np.empty((data.shape)[0] - len(gen_distance)))),\n",
    "                \"weight\": np.concatenate((gen_weight, np.empty((data.shape)[0] - len(gen_weight)))),\n",
    "                \"leaddays\": np.concatenate((gen_leaddays, np.empty((data.shape)[0] - len(gen_leaddays)))),\n",
    "                \"weekid\": np.concatenate((gen_weekid, np.empty((data.shape)[0] - len(gen_weekid)))),\n",
    "                # use dummy values with the same shape:\n",
    "                \"rate\": np.empty(data.shape[0]),\n",
    "            }\n",
    "        )\n",
    "        rate_post_pred_14 = pm.sample_posterior_predictive(rate_trace_1, var_names=['y_like'])\n",
    "    \n",
    "    #rate_pred_14 = rate_post_pred_14[\"y_like\"].mean(axis=0)\n",
    "    return rate_post_pred_14['y_like'][0,0:len(gen_distance)]"
   ]
  },
  {
   "cell_type": "code",
   "execution_count": 44,
   "id": "2c8e642f",
   "metadata": {},
   "outputs": [],
   "source": [
    "def synthetic_data_rate_Z7(generated_distance, generated_weight, generated_lead_days, generated_week_id):\n",
    "    generated_data = pd.DataFrame({'order_distance': generated_distance, 'order_origin_weight': generated_weight, \n",
    "                                   'lead_days': generated_lead_days, 'week_id' : generated_week_id})\n",
    "\n",
    "    generated_data['order_distance_norm'] = (generated_data['order_distance'] - generated_data['order_distance'].mean())/(generated_data['order_distance'].std())\n",
    "    generated_data['weight_norm'] = (generated_data['order_origin_weight'] - generated_data['order_origin_weight'].mean())/(generated_data['order_origin_weight'].std())\n",
    "    generated_data['lead_days_norm'] = (generated_data['lead_days'] - generated_data['lead_days'].mean())/(generated_data['lead_days'].std())\n",
    "    generated_data['week_id_norm'] = (generated_data['week_id'] - generated_data['week_id'].mean())/(generated_data['week_id'].std())\n",
    "   \n",
    "\n",
    "    gen_distance = np.array(generated_data.order_distance_norm.values.tolist())\n",
    "    gen_weight = np.array(generated_data.weight_norm.values.tolist())\n",
    "    gen_leaddays = np.array(generated_data.lead_days_norm.values.tolist())\n",
    "    gen_weekid = np.array(generated_data.week_id_norm.values.tolist())\n",
    "    \n",
    "    with rate_model_1:\n",
    "    # change the value and shape of the data\n",
    "        pm.set_data(\n",
    "            {\n",
    "                \"zipzone_pair_idx\": np.tile(zipzone_pair_id[2], (data.shape)[0]),\n",
    "                \"distance\": np.concatenate((gen_distance, np.empty((data.shape)[0] - len(gen_distance)))),\n",
    "                \"weight\": np.concatenate((gen_weight, np.empty((data.shape)[0] - len(gen_weight)))),\n",
    "                \"leaddays\": np.concatenate((gen_leaddays, np.empty((data.shape)[0] - len(gen_leaddays)))),\n",
    "                \"weekid\": np.concatenate((gen_weekid, np.empty((data.shape)[0] - len(gen_weekid)))),\n",
    "                # use dummy values with the same shape:\n",
    "                \"rate\": np.empty(data.shape[0]),\n",
    "            }\n",
    "        )\n",
    "        rate_post_pred_15 = pm.sample_posterior_predictive(rate_trace_1, var_names=['y_like'])\n",
    "    \n",
    "    #rate_pred_15 = rate_post_pred_15[\"y_like\"].mean(axis=0)\n",
    "    return rate_post_pred_15['y_like'][0,0:len(gen_distance)]"
   ]
  },
  {
   "cell_type": "code",
   "execution_count": 45,
   "id": "0cc2bd0b",
   "metadata": {},
   "outputs": [],
   "source": [
    "def synthetic_data_cost_Z3(generated_distance, generated_weight, generated_lead_days, generated_week_id):\n",
    "    generated_data = pd.DataFrame({'order_distance': generated_distance, 'order_origin_weight': generated_weight, \n",
    "                                   'lead_days': generated_lead_days, 'week_id' : generated_week_id})\n",
    "\n",
    "    generated_data['order_distance_norm'] = (generated_data['order_distance'] - generated_data['order_distance'].mean())/(generated_data['order_distance'].std())\n",
    "    generated_data['weight_norm'] = (generated_data['order_origin_weight'] - generated_data['order_origin_weight'].mean())/(generated_data['order_origin_weight'].std())\n",
    "    generated_data['lead_days_norm'] = (generated_data['lead_days'] - generated_data['lead_days'].mean())/(generated_data['lead_days'].std())\n",
    "    generated_data['week_id_norm'] = (generated_data['week_id'] - generated_data['week_id'].mean())/(generated_data['week_id'].std())\n",
    "   \n",
    "\n",
    "    gen_distance = np.array(generated_data.order_distance_norm.values.tolist())\n",
    "    gen_weight = np.array(generated_data.weight_norm.values.tolist())\n",
    "    gen_leaddays = np.array(generated_data.lead_days_norm.values.tolist())\n",
    "    gen_weekid = np.array(generated_data.week_id_norm.values.tolist())\n",
    "    \n",
    "    with cost_model_1:\n",
    "    # change the value and shape of the data\n",
    "        pm.set_data(\n",
    "            {\n",
    "                \"zipzone_pair_idx\": np.tile(zipzone_pair_id[8], (data.shape)[0]),\n",
    "                \"distance\": np.concatenate((gen_distance, np.empty((data.shape)[0] - len(gen_distance)))),\n",
    "                \"weight\": np.concatenate((gen_weight, np.empty((data.shape)[0] - len(gen_weight)))),\n",
    "                \"leaddays\": np.concatenate((gen_leaddays, np.empty((data.shape)[0] - len(gen_leaddays)))),\n",
    "                \"weekid\": np.concatenate((gen_weekid, np.empty((data.shape)[0] - len(gen_weekid)))),\n",
    "                # use dummy values with the same shape:\n",
    "                \"cost\": np.empty(data.shape[0]),\n",
    "            }\n",
    "        )\n",
    "        cost_post_pred_13 = pm.sample_posterior_predictive(cost_trace_1, var_names=['y_like'])\n",
    "    \n",
    "    #cost_pred_13 = cost_post_pred_13[\"y_like\"].mean(axis=0)\n",
    "    return cost_post_pred_13['y_like'][0,0:len(gen_distance)]"
   ]
  },
  {
   "cell_type": "code",
   "execution_count": 46,
   "id": "5cbc642e",
   "metadata": {},
   "outputs": [],
   "source": [
    "def synthetic_data_cost_Z9(generated_distance, generated_weight, generated_lead_days, generated_week_id):\n",
    "    generated_data = pd.DataFrame({'order_distance': generated_distance, 'order_origin_weight': generated_weight, \n",
    "                                   'lead_days': generated_lead_days, 'week_id' : generated_week_id})\n",
    "\n",
    "    generated_data['order_distance_norm'] = (generated_data['order_distance'] - generated_data['order_distance'].mean())/(generated_data['order_distance'].std())\n",
    "    generated_data['weight_norm'] = (generated_data['order_origin_weight'] - generated_data['order_origin_weight'].mean())/(generated_data['order_origin_weight'].std())\n",
    "    generated_data['lead_days_norm'] = (generated_data['lead_days'] - generated_data['lead_days'].mean())/(generated_data['lead_days'].std())\n",
    "    generated_data['week_id_norm'] = (generated_data['week_id'] - generated_data['week_id'].mean())/(generated_data['week_id'].std())\n",
    "   \n",
    "\n",
    "    gen_distance = np.array(generated_data.order_distance_norm.values.tolist())\n",
    "    gen_weight = np.array(generated_data.weight_norm.values.tolist())\n",
    "    gen_leaddays = np.array(generated_data.lead_days_norm.values.tolist())\n",
    "    gen_weekid = np.array(generated_data.week_id_norm.values.tolist())\n",
    "    \n",
    "    with cost_model_1:\n",
    "    # change the value and shape of the data\n",
    "        pm.set_data(\n",
    "            {\n",
    "                \"zipzone_pair_idx\": np.tile(zipzone_pair_id[4], (data.shape)[0]),\n",
    "                \"distance\": np.concatenate((gen_distance, np.empty((data.shape)[0] - len(gen_distance)))),\n",
    "                \"weight\": np.concatenate((gen_weight, np.empty((data.shape)[0] - len(gen_weight)))),\n",
    "                \"leaddays\": np.concatenate((gen_leaddays, np.empty((data.shape)[0] - len(gen_leaddays)))),\n",
    "                \"weekid\": np.concatenate((gen_weekid, np.empty((data.shape)[0] - len(gen_weekid)))),\n",
    "                # use dummy values with the same shape:\n",
    "                \"cost\": np.empty(data.shape[0]),\n",
    "            }\n",
    "        )\n",
    "        cost_post_pred_14 = pm.sample_posterior_predictive(cost_trace_1, var_names=['y_like'])\n",
    "    \n",
    "    #cost_pred_14 = cost_post_pred_14[\"y_like\"].mean(axis=0)\n",
    "    return cost_post_pred_14['y_like'][0,0:len(gen_distance)]"
   ]
  },
  {
   "cell_type": "code",
   "execution_count": 47,
   "id": "2cab9d2d",
   "metadata": {},
   "outputs": [],
   "source": [
    "def synthetic_data_cost_Z7(generated_distance, generated_weight, generated_lead_days, generated_week_id):\n",
    "    generated_data = pd.DataFrame({'order_distance': generated_distance, 'order_origin_weight': generated_weight, \n",
    "                                   'lead_days': generated_lead_days, 'week_id' : generated_week_id})\n",
    "\n",
    "    generated_data['order_distance_norm'] = (generated_data['order_distance'] - generated_data['order_distance'].mean())/(generated_data['order_distance'].std())\n",
    "    generated_data['weight_norm'] = (generated_data['order_origin_weight'] - generated_data['order_origin_weight'].mean())/(generated_data['order_origin_weight'].std())\n",
    "    generated_data['lead_days_norm'] = (generated_data['lead_days'] - generated_data['lead_days'].mean())/(generated_data['lead_days'].std())\n",
    "    generated_data['week_id_norm'] = (generated_data['week_id'] - generated_data['week_id'].mean())/(generated_data['week_id'].std())\n",
    "   \n",
    "\n",
    "    gen_distance = np.array(generated_data.order_distance_norm.values.tolist())\n",
    "    gen_weight = np.array(generated_data.weight_norm.values.tolist())\n",
    "    gen_leaddays = np.array(generated_data.lead_days_norm.values.tolist())\n",
    "    gen_weekid = np.array(generated_data.week_id_norm.values.tolist())\n",
    "    \n",
    "    with cost_model_1:\n",
    "    # change the value and shape of the data\n",
    "        pm.set_data(\n",
    "            {\n",
    "                \"zipzone_pair_idx\": np.tile(zipzone_pair_id[2], (data.shape)[0]),\n",
    "                \"distance\": np.concatenate((gen_distance, np.empty((data.shape)[0] - len(gen_distance)))),\n",
    "                \"weight\": np.concatenate((gen_weight, np.empty((data.shape)[0] - len(gen_weight)))),\n",
    "                \"leaddays\": np.concatenate((gen_leaddays, np.empty((data.shape)[0] - len(gen_leaddays)))),\n",
    "                \"weekid\": np.concatenate((gen_weekid, np.empty((data.shape)[0] - len(gen_weekid)))),\n",
    "                # use dummy values with the same shape:\n",
    "                \"cost\": np.empty(data.shape[0]),\n",
    "            }\n",
    "        )\n",
    "        cost_post_pred_15 = pm.sample_posterior_predictive(cost_trace_1, var_names=['y_like'])\n",
    "    \n",
    "    #cost_pred_15 = cost_post_pred_15[\"y_like\"].mean(axis=0)\n",
    "    return cost_post_pred_15['y_like'][0,0:len(gen_distance)]"
   ]
  },
  {
   "cell_type": "markdown",
   "id": "0bc32d48",
   "metadata": {},
   "source": [
    "# Data generation"
   ]
  },
  {
   "cell_type": "markdown",
   "id": "8cf41e93",
   "metadata": {},
   "source": [
    "# Z9 to Z9"
   ]
  },
  {
   "cell_type": "code",
   "execution_count": null,
   "id": "feda20ea",
   "metadata": {},
   "outputs": [],
   "source": [
    "\n",
    "\n",
    "\n",
    "\n",
    "#Distance\n",
    "generated_distance_Z9 = st.genexpon.rvs(a = 0.82, b = 0.61, c=3.91, loc=0.00, scale=767.77, \n",
    "                                 size=11000, random_state=43)\n",
    "\n",
    "\n",
    "#Weight\n",
    "generated_weight_Z9 = st.foldcauchy.rvs( c=12.30, loc=0.99, scale=3377.58, \n",
    "                                 size=11000, random_state=43)\n",
    "\n",
    "\n",
    "#Lead_days\n",
    "all = df_order_Z99.shape[0]\n",
    "p_lead_days_Z9 = np.empty(df_order_Z99['lead_days'].max()+1)\n",
    "n = 0\n",
    "while n <= df_order_Z99['lead_days'].max():\n",
    "    p_lead_days_Z9[n] = df_order_Z99[df_order_Z99['lead_days']==n].shape[0]/all\n",
    "    n += 1\n",
    "a_lead_days_Z9 = multinomial.rvs(n=1, p=p_lead_days_Z9, size=11000, random_state=43)\n",
    "generated_lead_days_Z9 = np.zeros((11000,), dtype=int)\n",
    "for i in range(11000):\n",
    "    for j in range(df_order_Z99['lead_days'].max()):\n",
    "        if a_lead_days_Z9[i,j] == 1:\n",
    "            generated_lead_days_Z9[i]= j\n",
    "\n",
    "            \n",
    "#Week_id            \n",
    "p_week_id_Z9 =  np.empty(df_order_Z99['week_id'].max()+1) \n",
    "n=0\n",
    "while n <= df_order_Z99['week_id'].max(): \n",
    "    p_week_id_Z9[n] = df_order_Z99[df_order_Z99['week_id']==n].shape[0]/all\n",
    "    n += 1\n",
    "a_week_id_Z9 = multinomial.rvs(n=1, p=p_week_id_Z9, size=11000, random_state=43)  \n",
    "generated_week_id_Z9 = np.zeros((11000,), dtype=int)\n",
    "for i in range(11000):\n",
    "    for j in range(df_order_Z99['week_id'].max()):\n",
    "        if a_week_id_Z9[i,j] == 1:\n",
    "            generated_week_id_Z9[i]= j\n",
    "\n",
    "\n",
    "\n",
    "#Rate            \n",
    "generated_rate_Z9 = synthetic_data_rate_Z9(generated_distance_Z9, generated_weight_Z9, generated_lead_days_Z9, generated_week_id_Z9) \n",
    "\n",
    "\n",
    "#Cost\n",
    "generated_cost_Z9 = synthetic_data_cost_Z9(generated_distance_Z9, generated_weight_Z9, generated_lead_days_Z9, generated_week_id_Z9)\n",
    "\n",
    "generated_data_Z9 = pd.DataFrame({'order_distance': generated_distance_Z9, 'order_origin_weight': generated_weight_Z9, \n",
    "                                   'lead_days': generated_lead_days_Z9, 'week_id' : generated_week_id_Z9, \n",
    "                                  'rate_norm': generated_rate_Z9, 'est_cost_norm' : generated_cost_Z9 })"
   ]
  },
  {
   "cell_type": "markdown",
   "id": "7c26c45b",
   "metadata": {},
   "source": [
    "# Z3 to Z3"
   ]
  },
  {
   "cell_type": "code",
   "execution_count": 50,
   "id": "bce2ea57",
   "metadata": {},
   "outputs": [
    {
     "data": {
      "text/html": [
       "\n",
       "    <div>\n",
       "        <style>\n",
       "            /* Turns off some styling */\n",
       "            progress {\n",
       "                /* gets rid of default border in Firefox and Opera. */\n",
       "                border: none;\n",
       "                /* Needs to be in here for Safari polyfill so background images work as expected. */\n",
       "                background-size: auto;\n",
       "            }\n",
       "            .progress-bar-interrupted, .progress-bar-interrupted::-webkit-progress-bar {\n",
       "                background: #F44336;\n",
       "            }\n",
       "        </style>\n",
       "      <progress value='2000' class='' max='2000' style='width:300px; height:20px; vertical-align: middle;'></progress>\n",
       "      100.00% [2000/2000 00:22<00:00]\n",
       "    </div>\n",
       "    "
      ],
      "text/plain": [
       "<IPython.core.display.HTML object>"
      ]
     },
     "metadata": {},
     "output_type": "display_data"
    },
    {
     "data": {
      "text/html": [
       "\n",
       "    <div>\n",
       "        <style>\n",
       "            /* Turns off some styling */\n",
       "            progress {\n",
       "                /* gets rid of default border in Firefox and Opera. */\n",
       "                border: none;\n",
       "                /* Needs to be in here for Safari polyfill so background images work as expected. */\n",
       "                background-size: auto;\n",
       "            }\n",
       "            .progress-bar-interrupted, .progress-bar-interrupted::-webkit-progress-bar {\n",
       "                background: #F44336;\n",
       "            }\n",
       "        </style>\n",
       "      <progress value='2000' class='' max='2000' style='width:300px; height:20px; vertical-align: middle;'></progress>\n",
       "      100.00% [2000/2000 00:22<00:00]\n",
       "    </div>\n",
       "    "
      ],
      "text/plain": [
       "<IPython.core.display.HTML object>"
      ]
     },
     "metadata": {},
     "output_type": "display_data"
    }
   ],
   "source": [
    "\n",
    "\n",
    "#Distance\n",
    "generated_distance_Z3 = st.beta.rvs(a = 1.62, b = 14.26, loc=-8.14, scale=2610.99, \n",
    "                                 size=13000, random_state=43)\n",
    "\n",
    "#Weight\n",
    "generated_weight_Z3 = st.foldcauchy.rvs( c=19.44, loc=1.00, scale=2228.21, \n",
    "                                 size=13000, random_state=43)\n",
    "\n",
    "\n",
    "#Lead_days\n",
    "all = df_order_Z33.shape[0]\n",
    "p_lead_days_Z3 = np.empty(df_order_Z33['lead_days'].max()+1)\n",
    "n = 0\n",
    "while n <= df_order_Z33['lead_days'].max():\n",
    "    p_lead_days_Z3[n] = df_order_Z33[df_order_Z33['lead_days']==n].shape[0]/all\n",
    "    n += 1\n",
    "a_lead_days_Z3 = multinomial.rvs(n=1, p=p_lead_days_Z3, size=13000, random_state=43)\n",
    "generated_lead_days_Z3 = np.zeros((13000,), dtype=int)\n",
    "for i in range(13000):\n",
    "    for j in range(df_order_Z33['lead_days'].max()):\n",
    "        if a_lead_days_Z3[i,j] == 1:\n",
    "            generated_lead_days_Z3[i]= j\n",
    "            \n",
    "\n",
    "#Week_id            \n",
    "p_week_id_Z3 =  np.empty(df_order_Z33['week_id'].max()+1) \n",
    "n=0\n",
    "while n <= df_order_Z33['week_id'].max(): \n",
    "    p_week_id_Z3[n] = df_order_Z33[df_order_Z33['week_id']==n].shape[0]/all\n",
    "    n += 1\n",
    "a_week_id_Z3= multinomial.rvs(n=1, p=p_week_id_Z3, size=13000, random_state=43)  \n",
    "generated_week_id_Z3 = np.zeros((13000,), dtype=int)\n",
    "for i in range(13000):\n",
    "    for j in range(df_order_Z33['week_id'].max()):\n",
    "        if a_week_id_Z3[i,j] == 1:\n",
    "            generated_week_id_Z3[i]= j\n",
    "\n",
    "\n",
    "#Rate\n",
    "generated_rate_Z3 = synthetic_data_rate_Z3(generated_distance_Z3, generated_weight_Z3, generated_lead_days_Z3, generated_week_id_Z3) \n",
    "\n",
    "\n",
    "#Cost\n",
    "generated_cost_Z3 = synthetic_data_cost_Z3(generated_distance_Z3, generated_weight_Z3, generated_lead_days_Z3, generated_week_id_Z3)\n",
    "\n",
    "\n",
    "generated_data_Z3 = pd.DataFrame({'order_distance': generated_distance_Z3, 'order_origin_weight': generated_weight_Z3, \n",
    "                                   'lead_days': generated_lead_days_Z3, 'week_id' : generated_week_id_Z3, \n",
    "                                  'rate_norm': generated_rate_Z3, 'est_cost_norm' : generated_cost_Z3})"
   ]
  },
  {
   "cell_type": "markdown",
   "id": "70835ab7",
   "metadata": {},
   "source": [
    "# Z7 to Z7"
   ]
  },
  {
   "cell_type": "code",
   "execution_count": null,
   "id": "f29a18a3",
   "metadata": {},
   "outputs": [],
   "source": [
    "\n",
    "\n",
    "# Distance\n",
    "generated_distance_Z7 = st.dgamma.rvs(a = 0.97, loc=260.00, scale=116.76, \n",
    "                                 size=10000, random_state=43)\n",
    "\n",
    "#Weight\n",
    "generated_weight_Z7 = st.gennorm.rvs(beta = 0.38, loc=43500.00, scale=214.83, \n",
    "                                 size=10000, random_state=43)\n",
    "\n",
    "#Lead_days\n",
    "all = df_order_Z77.shape[0]\n",
    "p_lead_days_Z7 = np.empty(df_order_Z77['lead_days'].max()+1)\n",
    "n = 0\n",
    "while n <= df_order_Z77['lead_days'].max():\n",
    "    p_lead_days_Z7[n] = df_order_Z77[df_order_Z77['lead_days']==n].shape[0]/all\n",
    "    n += 1\n",
    "a_lead_days_Z7 = multinomial.rvs(n=1, p=p_lead_days_Z7, size=10000, random_state=43)\n",
    "generated_lead_days_Z7 = np.zeros((10000,), dtype=int)\n",
    "for i in range(10000):\n",
    "    for j in range(df_order_Z77['lead_days'].max()):\n",
    "        if a_lead_days_Z7[i,j] == 1:\n",
    "            generated_lead_days_Z7[i]= j\n",
    "            \n",
    "#Week_id            \n",
    "p_week_id_Z7 =  np.empty(df_order_Z77['week_id'].max()+1)\n",
    "n=0\n",
    "while n <= df_order_Z77['week_id'].max(): \n",
    "    p_week_id_Z7[n] = df_order_Z77[df_order_Z77['week_id']==n].shape[0]/all\n",
    "    n += 1\n",
    "a_week_id_Z7 = multinomial.rvs(n=1, p=p_week_id_Z7, size=10000, random_state=43)  \n",
    "generated_week_id_Z7 = np.zeros((10000,), dtype=int)\n",
    "for i in range(10000):\n",
    "    for j in range(df_order_Z77['week_id'].max()):\n",
    "        if a_week_id_Z7[i,j] == 1:\n",
    "            generated_week_id_Z7[i]= j\n",
    "\n",
    "\n",
    "#Rate   \n",
    "generated_rate_Z7 = synthetic_data_rate_Z7(generated_distance_Z7, generated_weight_Z7, generated_lead_days_Z7, generated_week_id_Z7)  \n",
    "\n",
    "#Cost\n",
    "generated_cost_Z7 = synthetic_data_cost_Z7(generated_distance_Z7, generated_weight_Z7, generated_lead_days_Z7, generated_week_id_Z7)    \n",
    "\n",
    "\n",
    "generated_data_Z7 = pd.DataFrame({'order_distance': generated_distance_Z7, 'order_origin_weight': generated_weight_Z7, \n",
    "                                   'lead_days': generated_lead_days_Z7, 'week_id' : generated_week_id_Z7, \n",
    "                                  'rate_norm': generated_rate_Z7, 'est_cost_norm' : generated_cost_Z7 })"
   ]
  },
  {
   "cell_type": "code",
   "execution_count": 51,
   "id": "74ef355e",
   "metadata": {},
   "outputs": [
    {
     "data": {
      "text/plain": [
       "<AxesSubplot:>"
      ]
     },
     "execution_count": 51,
     "metadata": {},
     "output_type": "execute_result"
    },
    {
     "data": {
      "image/png": "[encoded data removed]",
      "text/plain": [
       "<Figure size 576x360 with 1 Axes>"
      ]
     },
     "metadata": {
      "needs_background": "light"
     },
     "output_type": "display_data"
    }
   ],
   "source": [
    "import seaborn as sns\n",
    "\n",
    "sns.scatterplot(x=generated_rate_Z3, y=generated_cost_Z3)"
   ]
  },
  {
   "cell_type": "code",
   "execution_count": null,
   "id": "f51afd61",
   "metadata": {},
   "outputs": [],
   "source": [
    "sns.scatterplot(x=generated_rate_Z9, y=generated_cost_Z9)"
   ]
  },
  {
   "cell_type": "code",
   "execution_count": null,
   "id": "95f81346",
   "metadata": {},
   "outputs": [],
   "source": [
    "sns.scatterplot(x=generated_rate_Z7, y=generated_cost_Z7)"
   ]
  }
 ],
 "metadata": {
  "kernelspec": {
   "display_name": "Python 3",
   "language": "python",
   "name": "python3"
  },
  "language_info": {
   "codemirror_mode": {
    "name": "ipython",
    "version": 3
   },
   "file_extension": ".py",
   "mimetype": "text/x-python",
   "name": "python",
   "nbconvert_exporter": "python",
   "pygments_lexer": "ipython3",
   "version": "3.8.8"
  }
 },
 "nbformat": 4,
 "nbformat_minor": 5
}
