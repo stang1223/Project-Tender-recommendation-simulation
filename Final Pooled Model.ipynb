{
 "cells": [
  {
   "cell_type": "code",
   "execution_count": 16,
   "id": "758b29a9",
   "metadata": {},
   "outputs": [],
   "source": [
    "%matplotlib inline\n",
    "import matplotlib.pyplot as plt\n",
    "import seaborn as sns\n",
    "import numpy as np\n",
    "import pymc3 as pm\n",
    "import pandas as pd\n",
    "import theano\n",
    "import arviz as az\n",
    "\n",
    "from scipy import stats\n",
    "import xarray as xr\n",
    "\n",
    "import itertools\n",
    "from theano import tensor as tt\n",
    "\n",
    "plt.style.use('bmh')\n",
    "plt.rcParams[\"figure.figsize\"] = (8,5)\n",
    "#WARNING (theano.tensor.blas): Using NumPy C-API based implementation for BLAS functions."
   ]
  },
  {
   "cell_type": "code",
   "execution_count": 17,
   "id": "ec823d81",
   "metadata": {},
   "outputs": [],
   "source": [
    "data = pd.read_csv(\"./IMA_recommendation_simulation_data.csv\")\n",
    "data = data.dropna()"
   ]
  },
  {
   "cell_type": "code",
   "execution_count": 18,
   "id": "268258f8",
   "metadata": {},
   "outputs": [],
   "source": [
    "def zz(value):\n",
    "    if value < 100:\n",
    "        return 'Z0'\n",
    "    elif value < 200:\n",
    "        return 'Z1'\n",
    "    elif value < 300:\n",
    "        return 'Z2'\n",
    "    elif value < 400:\n",
    "        return 'Z3'\n",
    "    elif value < 500:\n",
    "        return 'Z4'\n",
    "    elif value < 600:\n",
    "        return 'Z5'\n",
    "    elif value < 700:\n",
    "        return 'Z6'\n",
    "    elif value < 800:\n",
    "        return 'Z7'\n",
    "    elif value < 900:\n",
    "        return 'Z8'\n",
    "    elif value < 1000:\n",
    "        return 'Z9'\n",
    "    else:\n",
    "        return 'Error'\n",
    "\n",
    "\n",
    "data['ZipZone_origin'] = data.apply(lambda column: zz(column['origin_dat_ref']),axis=1)\n",
    "data['ZipZone_dest'] = data.apply(lambda column: zz(column['dest_dat_ref']),axis=1)"
   ]
  },
  {
   "cell_type": "code",
   "execution_count": 19,
   "id": "d3c09b88",
   "metadata": {},
   "outputs": [
    {
     "data": {
      "text/html": [
       "<div>\n",
       "<style scoped>\n",
       "    .dataframe tbody tr th:only-of-type {\n",
       "        vertical-align: middle;\n",
       "    }\n",
       "\n",
       "    .dataframe tbody tr th {\n",
       "        vertical-align: top;\n",
       "    }\n",
       "\n",
       "    .dataframe thead th {\n",
       "        text-align: right;\n",
       "    }\n",
       "</style>\n",
       "<table border=\"1\" class=\"dataframe\">\n",
       "  <thead>\n",
       "    <tr style=\"text-align: right;\">\n",
       "      <th></th>\n",
       "      <th>Unnamed: 0</th>\n",
       "      <th>request_id</th>\n",
       "      <th>week_id</th>\n",
       "      <th>weekday</th>\n",
       "      <th>miles</th>\n",
       "      <th>order_equipment_type</th>\n",
       "      <th>order_distance</th>\n",
       "      <th>order_num_stops</th>\n",
       "      <th>order_origin_weight</th>\n",
       "      <th>lead_days</th>\n",
       "      <th>color</th>\n",
       "      <th>origin_dat_ref</th>\n",
       "      <th>dest_dat_ref</th>\n",
       "      <th>rate_norm</th>\n",
       "      <th>est_cost_norm</th>\n",
       "      <th>CurrentCondition</th>\n",
       "      <th>ZipZone_origin</th>\n",
       "      <th>ZipZone_dest</th>\n",
       "      <th>ZipZone_pair</th>\n",
       "    </tr>\n",
       "  </thead>\n",
       "  <tbody>\n",
       "    <tr>\n",
       "      <th>0</th>\n",
       "      <td>0</td>\n",
       "      <td>c2653eda11cd4d94879d1946392eb2b5</td>\n",
       "      <td>4</td>\n",
       "      <td>Sat</td>\n",
       "      <td>1856</td>\n",
       "      <td>V</td>\n",
       "      <td>1848.0</td>\n",
       "      <td>2</td>\n",
       "      <td>40000.0</td>\n",
       "      <td>3</td>\n",
       "      <td>RED</td>\n",
       "      <td>633</td>\n",
       "      <td>978</td>\n",
       "      <td>2.273442</td>\n",
       "      <td>2.138631</td>\n",
       "      <td>Accepted</td>\n",
       "      <td>Z6</td>\n",
       "      <td>Z9</td>\n",
       "      <td>(Z6, Z9)</td>\n",
       "    </tr>\n",
       "    <tr>\n",
       "      <th>1</th>\n",
       "      <td>1</td>\n",
       "      <td>65e3dcc84a2246e68ea8636a967b31b2</td>\n",
       "      <td>3</td>\n",
       "      <td>Mon</td>\n",
       "      <td>56</td>\n",
       "      <td>V</td>\n",
       "      <td>47.0</td>\n",
       "      <td>2</td>\n",
       "      <td>12729.0</td>\n",
       "      <td>3</td>\n",
       "      <td>RED</td>\n",
       "      <td>604</td>\n",
       "      <td>604</td>\n",
       "      <td>-0.971030</td>\n",
       "      <td>-1.017024</td>\n",
       "      <td>Rejected</td>\n",
       "      <td>Z6</td>\n",
       "      <td>Z6</td>\n",
       "      <td>(Z6, Z6)</td>\n",
       "    </tr>\n",
       "    <tr>\n",
       "      <th>2</th>\n",
       "      <td>2</td>\n",
       "      <td>0a86f005640a4204b46c95ca033a7ced</td>\n",
       "      <td>1</td>\n",
       "      <td>Fri</td>\n",
       "      <td>259</td>\n",
       "      <td>V</td>\n",
       "      <td>255.0</td>\n",
       "      <td>2</td>\n",
       "      <td>44176.0</td>\n",
       "      <td>3</td>\n",
       "      <td>RED</td>\n",
       "      <td>761</td>\n",
       "      <td>770</td>\n",
       "      <td>-0.393352</td>\n",
       "      <td>-0.475805</td>\n",
       "      <td>Accepted</td>\n",
       "      <td>Z7</td>\n",
       "      <td>Z7</td>\n",
       "      <td>(Z7, Z7)</td>\n",
       "    </tr>\n",
       "    <tr>\n",
       "      <th>3</th>\n",
       "      <td>3</td>\n",
       "      <td>1105b4bc7b444f7985d4ad810e7acbc2</td>\n",
       "      <td>3</td>\n",
       "      <td>Thu</td>\n",
       "      <td>71</td>\n",
       "      <td>V</td>\n",
       "      <td>68.0</td>\n",
       "      <td>2</td>\n",
       "      <td>39847.0</td>\n",
       "      <td>6</td>\n",
       "      <td>RED</td>\n",
       "      <td>187</td>\n",
       "      <td>180</td>\n",
       "      <td>-0.706546</td>\n",
       "      <td>-0.765855</td>\n",
       "      <td>Rejected</td>\n",
       "      <td>Z1</td>\n",
       "      <td>Z1</td>\n",
       "      <td>(Z1, Z1)</td>\n",
       "    </tr>\n",
       "    <tr>\n",
       "      <th>4</th>\n",
       "      <td>4</td>\n",
       "      <td>de538100bb0f4137961b9551640ef35e</td>\n",
       "      <td>3</td>\n",
       "      <td>Fri</td>\n",
       "      <td>1182</td>\n",
       "      <td>R</td>\n",
       "      <td>1183.0</td>\n",
       "      <td>2</td>\n",
       "      <td>34912.0</td>\n",
       "      <td>3</td>\n",
       "      <td>GREEN</td>\n",
       "      <td>972</td>\n",
       "      <td>922</td>\n",
       "      <td>1.014233</td>\n",
       "      <td>0.469273</td>\n",
       "      <td>Accepted</td>\n",
       "      <td>Z9</td>\n",
       "      <td>Z9</td>\n",
       "      <td>(Z9, Z9)</td>\n",
       "    </tr>\n",
       "  </tbody>\n",
       "</table>\n",
       "</div>"
      ],
      "text/plain": [
       "   Unnamed: 0                        request_id  week_id weekday  miles  \\\n",
       "0           0  c2653eda11cd4d94879d1946392eb2b5        4     Sat   1856   \n",
       "1           1  65e3dcc84a2246e68ea8636a967b31b2        3     Mon     56   \n",
       "2           2  0a86f005640a4204b46c95ca033a7ced        1     Fri    259   \n",
       "3           3  1105b4bc7b444f7985d4ad810e7acbc2        3     Thu     71   \n",
       "4           4  de538100bb0f4137961b9551640ef35e        3     Fri   1182   \n",
       "\n",
       "  order_equipment_type  order_distance  order_num_stops  order_origin_weight  \\\n",
       "0                    V          1848.0                2              40000.0   \n",
       "1                    V            47.0                2              12729.0   \n",
       "2                    V           255.0                2              44176.0   \n",
       "3                    V            68.0                2              39847.0   \n",
       "4                    R          1183.0                2              34912.0   \n",
       "\n",
       "   lead_days  color  origin_dat_ref  dest_dat_ref  rate_norm  est_cost_norm  \\\n",
       "0          3    RED             633           978   2.273442       2.138631   \n",
       "1          3    RED             604           604  -0.971030      -1.017024   \n",
       "2          3    RED             761           770  -0.393352      -0.475805   \n",
       "3          6    RED             187           180  -0.706546      -0.765855   \n",
       "4          3  GREEN             972           922   1.014233       0.469273   \n",
       "\n",
       "  CurrentCondition ZipZone_origin ZipZone_dest ZipZone_pair  \n",
       "0         Accepted             Z6           Z9     (Z6, Z9)  \n",
       "1         Rejected             Z6           Z6     (Z6, Z6)  \n",
       "2         Accepted             Z7           Z7     (Z7, Z7)  \n",
       "3         Rejected             Z1           Z1     (Z1, Z1)  \n",
       "4         Accepted             Z9           Z9     (Z9, Z9)  "
      ]
     },
     "execution_count": 19,
     "metadata": {},
     "output_type": "execute_result"
    }
   ],
   "source": [
    "data['ZipZone_pair'] = data.apply(lambda column: (column['ZipZone_origin'], column['ZipZone_dest']), axis=1)\n",
    "data.head()"
   ]
  },
  {
   "cell_type": "code",
   "execution_count": 20,
   "id": "8ef48490",
   "metadata": {},
   "outputs": [],
   "source": [
    "data = data[data['lead_days'] >= 0]"
   ]
  },
  {
   "cell_type": "code",
   "execution_count": 21,
   "id": "9b6d0a9a",
   "metadata": {},
   "outputs": [],
   "source": [
    "data['order_distance_norm'] = (data['order_distance'] - data['order_distance'].mean())/(data['order_distance'].std())\n",
    "data['weight_norm'] = (data['order_origin_weight'] - data['order_origin_weight'].mean())/(data['order_origin_weight'].std())\n",
    "data['lead_days_norm'] = (data['lead_days'] - data['lead_days'].mean())/(data['lead_days'].std())\n",
    "data['week_id_norm'] = (data['week_id'] - data['week_id'].mean())/(data['week_id'].std())"
   ]
  },
  {
   "cell_type": "code",
   "execution_count": 22,
   "id": "a2f126ba",
   "metadata": {},
   "outputs": [],
   "source": [
    "coords = {\n",
    "    \"obs_id\": np.arange((data.shape)[0]),\n",
    "    #\"zipzone_pair\": zipzone_pairs,\n",
    "    \"num_coef\": np.arange(5)\n",
    "}"
   ]
  },
  {
   "cell_type": "code",
   "execution_count": 23,
   "id": "4ce135e1",
   "metadata": {},
   "outputs": [],
   "source": [
    "order_distance_norm = data.order_distance_norm\n",
    "weight_norm = data.weight_norm\n",
    "lead_days_norm = data.lead_days_norm\n",
    "week_id_norm = data.week_id_norm\n",
    "rate_norm = data.rate_norm\n",
    "est_cost_norm = data.est_cost_norm\n",
    "\n",
    "order_distance_norm = np.array(order_distance_norm.values.tolist())\n",
    "weight_norm = np.array(weight_norm.values.tolist())\n",
    "lead_days_norm = np.array(lead_days_norm.values.tolist())\n",
    "week_id_norm = np.array(week_id_norm.values.tolist())\n",
    "rate_norm = np.array(rate_norm.values.tolist())\n",
    "est_cost_norm = np.array(est_cost_norm.tolist())"
   ]
  },
  {
   "cell_type": "markdown",
   "id": "d5a1f13b",
   "metadata": {},
   "source": [
    "## Pooled Rate Model"
   ]
  },
  {
   "cell_type": "code",
   "execution_count": 26,
   "id": "cdc706e1",
   "metadata": {},
   "outputs": [
    {
     "name": "stderr",
     "output_type": "stream",
     "text": [
      "Auto-assigning NUTS sampler...\n",
      "Initializing NUTS using jitter+adapt_diag...\n",
      "Multiprocess sampling (2 chains in 2 jobs)\n",
      "NUTS: [epsilon, cov_coef, mu_weekid, mu_leaddays, mu_weight, mu_distance, mu_intercept, chol]\n"
     ]
    },
    {
     "data": {
      "text/html": [
       "\n",
       "    <div>\n",
       "        <style>\n",
       "            /* Turns off some styling */\n",
       "            progress {\n",
       "                /* gets rid of default border in Firefox and Opera. */\n",
       "                border: none;\n",
       "                /* Needs to be in here for Safari polyfill so background images work as expected. */\n",
       "                background-size: auto;\n",
       "            }\n",
       "            .progress-bar-interrupted, .progress-bar-interrupted::-webkit-progress-bar {\n",
       "                background: #F44336;\n",
       "            }\n",
       "        </style>\n",
       "      <progress value='4000' class='' max='4000' style='width:300px; height:20px; vertical-align: middle;'></progress>\n",
       "      100.00% [4000/4000 35:04<00:00 Sampling 2 chains, 566 divergences]\n",
       "    </div>\n",
       "    "
      ],
      "text/plain": [
       "<IPython.core.display.HTML object>"
      ]
     },
     "metadata": {},
     "output_type": "display_data"
    },
    {
     "name": "stderr",
     "output_type": "stream",
     "text": [
      "Sampling 2 chains for 1_000 tune and 1_000 draw iterations (2_000 + 2_000 draws total) took 2120 seconds.\n"
     ]
    },
    {
     "ename": "MemoryError",
     "evalue": "Unable to allocate 1.15 GiB for an array with shape (1000, 154929) and data type float64",
     "output_type": "error",
     "traceback": [
      "\u001b[1;31m---------------------------------------------------------------------------\u001b[0m",
      "\u001b[1;31mMemoryError\u001b[0m                               Traceback (most recent call last)",
      "\u001b[1;32m<ipython-input-26-6fd789488933>\u001b[0m in \u001b[0;36m<module>\u001b[1;34m\u001b[0m\n\u001b[0;32m     36\u001b[0m \u001b[1;33m\u001b[0m\u001b[0m\n\u001b[0;32m     37\u001b[0m \u001b[1;33m\u001b[0m\u001b[0m\n\u001b[1;32m---> 38\u001b[1;33m     \u001b[0mrate_trace_1\u001b[0m \u001b[1;33m=\u001b[0m \u001b[0mpm\u001b[0m\u001b[1;33m.\u001b[0m\u001b[0msample\u001b[0m\u001b[1;33m(\u001b[0m\u001b[1;36m1000\u001b[0m\u001b[1;33m,\u001b[0m \u001b[0mtune\u001b[0m \u001b[1;33m=\u001b[0m \u001b[1;36m1000\u001b[0m\u001b[1;33m,\u001b[0m \u001b[0mcores\u001b[0m\u001b[1;33m=\u001b[0m\u001b[1;36m2\u001b[0m\u001b[1;33m,\u001b[0m \u001b[0mreturn_inferencedata\u001b[0m\u001b[1;33m=\u001b[0m\u001b[1;32mTrue\u001b[0m\u001b[1;33m)\u001b[0m\u001b[1;33m\u001b[0m\u001b[1;33m\u001b[0m\u001b[0m\n\u001b[0m",
      "\u001b[1;32m~\\anaconda3\\lib\\site-packages\\pymc3\\sampling.py\u001b[0m in \u001b[0;36msample\u001b[1;34m(draws, step, init, n_init, start, trace, chain_idx, chains, cores, tune, progressbar, model, random_seed, discard_tuned_samples, compute_convergence_checks, callback, jitter_max_retries, return_inferencedata, idata_kwargs, mp_ctx, pickle_backend, **kwargs)\u001b[0m\n\u001b[0;32m    637\u001b[0m         \u001b[1;32mif\u001b[0m \u001b[0midata_kwargs\u001b[0m\u001b[1;33m:\u001b[0m\u001b[1;33m\u001b[0m\u001b[1;33m\u001b[0m\u001b[0m\n\u001b[0;32m    638\u001b[0m             \u001b[0mikwargs\u001b[0m\u001b[1;33m.\u001b[0m\u001b[0mupdate\u001b[0m\u001b[1;33m(\u001b[0m\u001b[0midata_kwargs\u001b[0m\u001b[1;33m)\u001b[0m\u001b[1;33m\u001b[0m\u001b[1;33m\u001b[0m\u001b[0m\n\u001b[1;32m--> 639\u001b[1;33m         \u001b[0midata\u001b[0m \u001b[1;33m=\u001b[0m \u001b[0marviz\u001b[0m\u001b[1;33m.\u001b[0m\u001b[0mfrom_pymc3\u001b[0m\u001b[1;33m(\u001b[0m\u001b[0mtrace\u001b[0m\u001b[1;33m,\u001b[0m \u001b[1;33m**\u001b[0m\u001b[0mikwargs\u001b[0m\u001b[1;33m)\u001b[0m\u001b[1;33m\u001b[0m\u001b[1;33m\u001b[0m\u001b[0m\n\u001b[0m\u001b[0;32m    640\u001b[0m \u001b[1;33m\u001b[0m\u001b[0m\n\u001b[0;32m    641\u001b[0m     \u001b[1;32mif\u001b[0m \u001b[0mcompute_convergence_checks\u001b[0m\u001b[1;33m:\u001b[0m\u001b[1;33m\u001b[0m\u001b[1;33m\u001b[0m\u001b[0m\n",
      "\u001b[1;32m~\\anaconda3\\lib\\site-packages\\arviz\\data\\io_pymc3.py\u001b[0m in \u001b[0;36mfrom_pymc3\u001b[1;34m(trace, prior, posterior_predictive, log_likelihood, coords, dims, model, save_warmup, density_dist_obs)\u001b[0m\n\u001b[0;32m    548\u001b[0m     \u001b[0mInferenceData\u001b[0m\u001b[1;33m\u001b[0m\u001b[1;33m\u001b[0m\u001b[0m\n\u001b[0;32m    549\u001b[0m     \"\"\"\n\u001b[1;32m--> 550\u001b[1;33m     return PyMC3Converter(\n\u001b[0m\u001b[0;32m    551\u001b[0m         \u001b[0mtrace\u001b[0m\u001b[1;33m=\u001b[0m\u001b[0mtrace\u001b[0m\u001b[1;33m,\u001b[0m\u001b[1;33m\u001b[0m\u001b[1;33m\u001b[0m\u001b[0m\n\u001b[0;32m    552\u001b[0m         \u001b[0mprior\u001b[0m\u001b[1;33m=\u001b[0m\u001b[0mprior\u001b[0m\u001b[1;33m,\u001b[0m\u001b[1;33m\u001b[0m\u001b[1;33m\u001b[0m\u001b[0m\n",
      "\u001b[1;32m~\\anaconda3\\lib\\site-packages\\arviz\\data\\io_pymc3.py\u001b[0m in \u001b[0;36mto_inference_data\u001b[1;34m(self)\u001b[0m\n\u001b[0;32m    484\u001b[0m             \u001b[1;34m\"posterior\"\u001b[0m\u001b[1;33m:\u001b[0m \u001b[0mself\u001b[0m\u001b[1;33m.\u001b[0m\u001b[0mposterior_to_xarray\u001b[0m\u001b[1;33m(\u001b[0m\u001b[1;33m)\u001b[0m\u001b[1;33m,\u001b[0m\u001b[1;33m\u001b[0m\u001b[1;33m\u001b[0m\u001b[0m\n\u001b[0;32m    485\u001b[0m             \u001b[1;34m\"sample_stats\"\u001b[0m\u001b[1;33m:\u001b[0m \u001b[0mself\u001b[0m\u001b[1;33m.\u001b[0m\u001b[0msample_stats_to_xarray\u001b[0m\u001b[1;33m(\u001b[0m\u001b[1;33m)\u001b[0m\u001b[1;33m,\u001b[0m\u001b[1;33m\u001b[0m\u001b[1;33m\u001b[0m\u001b[0m\n\u001b[1;32m--> 486\u001b[1;33m             \u001b[1;34m\"log_likelihood\"\u001b[0m\u001b[1;33m:\u001b[0m \u001b[0mself\u001b[0m\u001b[1;33m.\u001b[0m\u001b[0mlog_likelihood_to_xarray\u001b[0m\u001b[1;33m(\u001b[0m\u001b[1;33m)\u001b[0m\u001b[1;33m,\u001b[0m\u001b[1;33m\u001b[0m\u001b[1;33m\u001b[0m\u001b[0m\n\u001b[0m\u001b[0;32m    487\u001b[0m             \u001b[1;34m\"posterior_predictive\"\u001b[0m\u001b[1;33m:\u001b[0m \u001b[0mself\u001b[0m\u001b[1;33m.\u001b[0m\u001b[0mposterior_predictive_to_xarray\u001b[0m\u001b[1;33m(\u001b[0m\u001b[1;33m)\u001b[0m\u001b[1;33m,\u001b[0m\u001b[1;33m\u001b[0m\u001b[1;33m\u001b[0m\u001b[0m\n\u001b[0;32m    488\u001b[0m             \u001b[1;34m\"predictions\"\u001b[0m\u001b[1;33m:\u001b[0m \u001b[0mself\u001b[0m\u001b[1;33m.\u001b[0m\u001b[0mpredictions_to_xarray\u001b[0m\u001b[1;33m(\u001b[0m\u001b[1;33m)\u001b[0m\u001b[1;33m,\u001b[0m\u001b[1;33m\u001b[0m\u001b[1;33m\u001b[0m\u001b[0m\n",
      "\u001b[1;32m~\\anaconda3\\lib\\site-packages\\arviz\\data\\base.py\u001b[0m in \u001b[0;36mwrapped\u001b[1;34m(cls, *args, **kwargs)\u001b[0m\n\u001b[0;32m     44\u001b[0m                 \u001b[1;32mif\u001b[0m \u001b[0mall\u001b[0m\u001b[1;33m(\u001b[0m\u001b[1;33m[\u001b[0m\u001b[0mgetattr\u001b[0m\u001b[1;33m(\u001b[0m\u001b[0mcls\u001b[0m\u001b[1;33m,\u001b[0m \u001b[0mprop_i\u001b[0m\u001b[1;33m)\u001b[0m \u001b[1;32mis\u001b[0m \u001b[1;32mNone\u001b[0m \u001b[1;32mfor\u001b[0m \u001b[0mprop_i\u001b[0m \u001b[1;32min\u001b[0m \u001b[0mprop\u001b[0m\u001b[1;33m]\u001b[0m\u001b[1;33m)\u001b[0m\u001b[1;33m:\u001b[0m\u001b[1;33m\u001b[0m\u001b[1;33m\u001b[0m\u001b[0m\n\u001b[0;32m     45\u001b[0m                     \u001b[1;32mreturn\u001b[0m \u001b[1;32mNone\u001b[0m\u001b[1;33m\u001b[0m\u001b[1;33m\u001b[0m\u001b[0m\n\u001b[1;32m---> 46\u001b[1;33m             \u001b[1;32mreturn\u001b[0m \u001b[0mfunc\u001b[0m\u001b[1;33m(\u001b[0m\u001b[0mcls\u001b[0m\u001b[1;33m,\u001b[0m \u001b[1;33m*\u001b[0m\u001b[0margs\u001b[0m\u001b[1;33m,\u001b[0m \u001b[1;33m**\u001b[0m\u001b[0mkwargs\u001b[0m\u001b[1;33m)\u001b[0m\u001b[1;33m\u001b[0m\u001b[1;33m\u001b[0m\u001b[0m\n\u001b[0m\u001b[0;32m     47\u001b[0m \u001b[1;33m\u001b[0m\u001b[0m\n\u001b[0;32m     48\u001b[0m         \u001b[1;32mreturn\u001b[0m \u001b[0mwrapped\u001b[0m\u001b[1;33m\u001b[0m\u001b[1;33m\u001b[0m\u001b[0m\n",
      "\u001b[1;32m~\\anaconda3\\lib\\site-packages\\arviz\\data\\base.py\u001b[0m in \u001b[0;36mwrapped\u001b[1;34m(cls, *args, **kwargs)\u001b[0m\n\u001b[0;32m     44\u001b[0m                 \u001b[1;32mif\u001b[0m \u001b[0mall\u001b[0m\u001b[1;33m(\u001b[0m\u001b[1;33m[\u001b[0m\u001b[0mgetattr\u001b[0m\u001b[1;33m(\u001b[0m\u001b[0mcls\u001b[0m\u001b[1;33m,\u001b[0m \u001b[0mprop_i\u001b[0m\u001b[1;33m)\u001b[0m \u001b[1;32mis\u001b[0m \u001b[1;32mNone\u001b[0m \u001b[1;32mfor\u001b[0m \u001b[0mprop_i\u001b[0m \u001b[1;32min\u001b[0m \u001b[0mprop\u001b[0m\u001b[1;33m]\u001b[0m\u001b[1;33m)\u001b[0m\u001b[1;33m:\u001b[0m\u001b[1;33m\u001b[0m\u001b[1;33m\u001b[0m\u001b[0m\n\u001b[0;32m     45\u001b[0m                     \u001b[1;32mreturn\u001b[0m \u001b[1;32mNone\u001b[0m\u001b[1;33m\u001b[0m\u001b[1;33m\u001b[0m\u001b[0m\n\u001b[1;32m---> 46\u001b[1;33m             \u001b[1;32mreturn\u001b[0m \u001b[0mfunc\u001b[0m\u001b[1;33m(\u001b[0m\u001b[0mcls\u001b[0m\u001b[1;33m,\u001b[0m \u001b[1;33m*\u001b[0m\u001b[0margs\u001b[0m\u001b[1;33m,\u001b[0m \u001b[1;33m**\u001b[0m\u001b[0mkwargs\u001b[0m\u001b[1;33m)\u001b[0m\u001b[1;33m\u001b[0m\u001b[1;33m\u001b[0m\u001b[0m\n\u001b[0m\u001b[0;32m     47\u001b[0m \u001b[1;33m\u001b[0m\u001b[0m\n\u001b[0;32m     48\u001b[0m         \u001b[1;32mreturn\u001b[0m \u001b[0mwrapped\u001b[0m\u001b[1;33m\u001b[0m\u001b[1;33m\u001b[0m\u001b[0m\n",
      "\u001b[1;32m~\\anaconda3\\lib\\site-packages\\arviz\\data\\io_pymc3.py\u001b[0m in \u001b[0;36mlog_likelihood_to_xarray\u001b[1;34m(self)\u001b[0m\n\u001b[0;32m    312\u001b[0m         \u001b[1;32mif\u001b[0m \u001b[0mself\u001b[0m\u001b[1;33m.\u001b[0m\u001b[0mposterior_trace\u001b[0m\u001b[1;33m:\u001b[0m\u001b[1;33m\u001b[0m\u001b[1;33m\u001b[0m\u001b[0m\n\u001b[0;32m    313\u001b[0m             \u001b[1;32mtry\u001b[0m\u001b[1;33m:\u001b[0m\u001b[1;33m\u001b[0m\u001b[1;33m\u001b[0m\u001b[0m\n\u001b[1;32m--> 314\u001b[1;33m                 \u001b[0mdata\u001b[0m \u001b[1;33m=\u001b[0m \u001b[0mself\u001b[0m\u001b[1;33m.\u001b[0m\u001b[0m_extract_log_likelihood\u001b[0m\u001b[1;33m(\u001b[0m\u001b[0mself\u001b[0m\u001b[1;33m.\u001b[0m\u001b[0mposterior_trace\u001b[0m\u001b[1;33m)\u001b[0m\u001b[1;33m\u001b[0m\u001b[1;33m\u001b[0m\u001b[0m\n\u001b[0m\u001b[0;32m    315\u001b[0m             \u001b[1;32mexcept\u001b[0m \u001b[0mTypeError\u001b[0m\u001b[1;33m:\u001b[0m\u001b[1;33m\u001b[0m\u001b[1;33m\u001b[0m\u001b[0m\n\u001b[0;32m    316\u001b[0m                 \u001b[0mwarnings\u001b[0m\u001b[1;33m.\u001b[0m\u001b[0mwarn\u001b[0m\u001b[1;33m(\u001b[0m\u001b[0mwarn_msg\u001b[0m\u001b[1;33m)\u001b[0m\u001b[1;33m\u001b[0m\u001b[1;33m\u001b[0m\u001b[0m\n",
      "\u001b[1;32m~\\anaconda3\\lib\\site-packages\\arviz\\data\\base.py\u001b[0m in \u001b[0;36mwrapped\u001b[1;34m(cls, *args, **kwargs)\u001b[0m\n\u001b[0;32m     44\u001b[0m                 \u001b[1;32mif\u001b[0m \u001b[0mall\u001b[0m\u001b[1;33m(\u001b[0m\u001b[1;33m[\u001b[0m\u001b[0mgetattr\u001b[0m\u001b[1;33m(\u001b[0m\u001b[0mcls\u001b[0m\u001b[1;33m,\u001b[0m \u001b[0mprop_i\u001b[0m\u001b[1;33m)\u001b[0m \u001b[1;32mis\u001b[0m \u001b[1;32mNone\u001b[0m \u001b[1;32mfor\u001b[0m \u001b[0mprop_i\u001b[0m \u001b[1;32min\u001b[0m \u001b[0mprop\u001b[0m\u001b[1;33m]\u001b[0m\u001b[1;33m)\u001b[0m\u001b[1;33m:\u001b[0m\u001b[1;33m\u001b[0m\u001b[1;33m\u001b[0m\u001b[0m\n\u001b[0;32m     45\u001b[0m                     \u001b[1;32mreturn\u001b[0m \u001b[1;32mNone\u001b[0m\u001b[1;33m\u001b[0m\u001b[1;33m\u001b[0m\u001b[0m\n\u001b[1;32m---> 46\u001b[1;33m             \u001b[1;32mreturn\u001b[0m \u001b[0mfunc\u001b[0m\u001b[1;33m(\u001b[0m\u001b[0mcls\u001b[0m\u001b[1;33m,\u001b[0m \u001b[1;33m*\u001b[0m\u001b[0margs\u001b[0m\u001b[1;33m,\u001b[0m \u001b[1;33m**\u001b[0m\u001b[0mkwargs\u001b[0m\u001b[1;33m)\u001b[0m\u001b[1;33m\u001b[0m\u001b[1;33m\u001b[0m\u001b[0m\n\u001b[0m\u001b[0;32m     47\u001b[0m \u001b[1;33m\u001b[0m\u001b[0m\n\u001b[0;32m     48\u001b[0m         \u001b[1;32mreturn\u001b[0m \u001b[0mwrapped\u001b[0m\u001b[1;33m\u001b[0m\u001b[1;33m\u001b[0m\u001b[0m\n",
      "\u001b[1;32m~\\anaconda3\\lib\\site-packages\\arviz\\data\\base.py\u001b[0m in \u001b[0;36mwrapped\u001b[1;34m(cls, *args, **kwargs)\u001b[0m\n\u001b[0;32m     44\u001b[0m                 \u001b[1;32mif\u001b[0m \u001b[0mall\u001b[0m\u001b[1;33m(\u001b[0m\u001b[1;33m[\u001b[0m\u001b[0mgetattr\u001b[0m\u001b[1;33m(\u001b[0m\u001b[0mcls\u001b[0m\u001b[1;33m,\u001b[0m \u001b[0mprop_i\u001b[0m\u001b[1;33m)\u001b[0m \u001b[1;32mis\u001b[0m \u001b[1;32mNone\u001b[0m \u001b[1;32mfor\u001b[0m \u001b[0mprop_i\u001b[0m \u001b[1;32min\u001b[0m \u001b[0mprop\u001b[0m\u001b[1;33m]\u001b[0m\u001b[1;33m)\u001b[0m\u001b[1;33m:\u001b[0m\u001b[1;33m\u001b[0m\u001b[1;33m\u001b[0m\u001b[0m\n\u001b[0;32m     45\u001b[0m                     \u001b[1;32mreturn\u001b[0m \u001b[1;32mNone\u001b[0m\u001b[1;33m\u001b[0m\u001b[1;33m\u001b[0m\u001b[0m\n\u001b[1;32m---> 46\u001b[1;33m             \u001b[1;32mreturn\u001b[0m \u001b[0mfunc\u001b[0m\u001b[1;33m(\u001b[0m\u001b[0mcls\u001b[0m\u001b[1;33m,\u001b[0m \u001b[1;33m*\u001b[0m\u001b[0margs\u001b[0m\u001b[1;33m,\u001b[0m \u001b[1;33m**\u001b[0m\u001b[0mkwargs\u001b[0m\u001b[1;33m)\u001b[0m\u001b[1;33m\u001b[0m\u001b[1;33m\u001b[0m\u001b[0m\n\u001b[0m\u001b[0;32m     47\u001b[0m \u001b[1;33m\u001b[0m\u001b[0m\n\u001b[0;32m     48\u001b[0m         \u001b[1;32mreturn\u001b[0m \u001b[0mwrapped\u001b[0m\u001b[1;33m\u001b[0m\u001b[1;33m\u001b[0m\u001b[0m\n",
      "\u001b[1;32m~\\anaconda3\\lib\\site-packages\\arviz\\data\\io_pymc3.py\u001b[0m in \u001b[0;36m_extract_log_likelihood\u001b[1;34m(self, trace)\u001b[0m\n\u001b[0;32m    238\u001b[0m                     \u001b[1;32mfor\u001b[0m \u001b[0mpoint\u001b[0m \u001b[1;32min\u001b[0m \u001b[0mtrace\u001b[0m\u001b[1;33m.\u001b[0m\u001b[0mpoints\u001b[0m\u001b[1;33m(\u001b[0m\u001b[1;33m[\u001b[0m\u001b[0mchain\u001b[0m\u001b[1;33m]\u001b[0m\u001b[1;33m)\u001b[0m\u001b[1;33m\u001b[0m\u001b[1;33m\u001b[0m\u001b[0m\n\u001b[0;32m    239\u001b[0m                 ]\n\u001b[1;32m--> 240\u001b[1;33m                 \u001b[0mlog_likelihood_dict\u001b[0m\u001b[1;33m.\u001b[0m\u001b[0minsert\u001b[0m\u001b[1;33m(\u001b[0m\u001b[0mvar\u001b[0m\u001b[1;33m.\u001b[0m\u001b[0mname\u001b[0m\u001b[1;33m,\u001b[0m \u001b[0mnp\u001b[0m\u001b[1;33m.\u001b[0m\u001b[0mstack\u001b[0m\u001b[1;33m(\u001b[0m\u001b[0mlog_like_chain\u001b[0m\u001b[1;33m)\u001b[0m\u001b[1;33m,\u001b[0m \u001b[0mchain\u001b[0m\u001b[1;33m)\u001b[0m\u001b[1;33m\u001b[0m\u001b[1;33m\u001b[0m\u001b[0m\n\u001b[0m\u001b[0;32m    241\u001b[0m         \u001b[1;32mreturn\u001b[0m \u001b[0mlog_likelihood_dict\u001b[0m\u001b[1;33m.\u001b[0m\u001b[0mtrace_dict\u001b[0m\u001b[1;33m\u001b[0m\u001b[1;33m\u001b[0m\u001b[0m\n\u001b[0;32m    242\u001b[0m \u001b[1;33m\u001b[0m\u001b[0m\n",
      "\u001b[1;32m~\\anaconda3\\lib\\site-packages\\pymc3\\sampling.py\u001b[0m in \u001b[0;36minsert\u001b[1;34m(self, k, v, idx)\u001b[0m\n\u001b[0;32m   1590\u001b[0m         \u001b[1;32mif\u001b[0m \u001b[0mk\u001b[0m \u001b[1;32mnot\u001b[0m \u001b[1;32min\u001b[0m \u001b[0mself\u001b[0m\u001b[1;33m.\u001b[0m\u001b[0mtrace_dict\u001b[0m\u001b[1;33m:\u001b[0m\u001b[1;33m\u001b[0m\u001b[1;33m\u001b[0m\u001b[0m\n\u001b[0;32m   1591\u001b[0m             \u001b[0marray_shape\u001b[0m \u001b[1;33m=\u001b[0m \u001b[1;33m(\u001b[0m\u001b[0mself\u001b[0m\u001b[1;33m.\u001b[0m\u001b[0m_len\u001b[0m\u001b[1;33m,\u001b[0m\u001b[1;33m)\u001b[0m \u001b[1;33m+\u001b[0m \u001b[0mvalue_shape\u001b[0m\u001b[1;33m\u001b[0m\u001b[1;33m\u001b[0m\u001b[0m\n\u001b[1;32m-> 1592\u001b[1;33m             \u001b[0mself\u001b[0m\u001b[1;33m.\u001b[0m\u001b[0mtrace_dict\u001b[0m\u001b[1;33m[\u001b[0m\u001b[0mk\u001b[0m\u001b[1;33m]\u001b[0m \u001b[1;33m=\u001b[0m \u001b[0mnp\u001b[0m\u001b[1;33m.\u001b[0m\u001b[0mempty\u001b[0m\u001b[1;33m(\u001b[0m\u001b[0marray_shape\u001b[0m\u001b[1;33m,\u001b[0m \u001b[0mdtype\u001b[0m\u001b[1;33m=\u001b[0m\u001b[0mnp\u001b[0m\u001b[1;33m.\u001b[0m\u001b[0marray\u001b[0m\u001b[1;33m(\u001b[0m\u001b[0mv\u001b[0m\u001b[1;33m)\u001b[0m\u001b[1;33m.\u001b[0m\u001b[0mdtype\u001b[0m\u001b[1;33m)\u001b[0m\u001b[1;33m\u001b[0m\u001b[1;33m\u001b[0m\u001b[0m\n\u001b[0m\u001b[0;32m   1593\u001b[0m \u001b[1;33m\u001b[0m\u001b[0m\n\u001b[0;32m   1594\u001b[0m         \u001b[1;31m# do the actual insertion\u001b[0m\u001b[1;33m\u001b[0m\u001b[1;33m\u001b[0m\u001b[1;33m\u001b[0m\u001b[0m\n",
      "\u001b[1;31mMemoryError\u001b[0m: Unable to allocate 1.15 GiB for an array with shape (1000, 154929) and data type float64"
     ]
    }
   ],
   "source": [
    "with pm.Model(coords=coords) as rate_model_1:\n",
    "    #zipzone_pair_idx = pm.Data(\"zipzone_pair_idx\", zipzone_pair_id, dims = 'obs_id')\n",
    "    x1_shared = pm.Data(\"distance\", order_distance_norm, dims = 'obs_id')\n",
    "    x2_shared = pm.Data(\"weight\", weight_norm, dims = 'obs_id')\n",
    "    x3_shared = pm.Data(\"leaddays\", lead_days_norm, dims = 'obs_id')\n",
    "    x4_shared = pm.Data(\"weekid\", week_id_norm, dims = 'obs_id')\n",
    "    y_shared = pm.Data(\"rate\", rate_norm, dims = 'obs_id')\n",
    "    \n",
    "    \n",
    "    sd_dist = pm.Exponential.dist(1.0)\n",
    "    \n",
    "    \n",
    "    chol, corr, stds = pm.LKJCholeskyCov(\"chol\", n=5, eta=2.0, sd_dist=sd_dist, compute_corr=True)\n",
    "    \n",
    "    \n",
    "    mu_intercept = pm.Normal('mu_intercept', mu=0, sigma=1)\n",
    "    mu_distance = pm.Normal('mu_distance', mu=0, sigma=1)\n",
    "    mu_weight = pm.Normal('mu_weight', mu=0, sigma=1)\n",
    "    mu_leaddays = pm.Normal('mu_leaddays', mu=0, sigma=1)\n",
    "    mu_weekid = pm.Normal('mu_weekid', mu=0, sigma=1)\n",
    "    \n",
    "    \n",
    "    cov_coef = pm.MvNormal(\"cov_coef\", mu=tt.stack([mu_intercept, mu_distance, mu_weight, mu_leaddays, mu_weekid]), \n",
    "                           chol=chol, dims = 'num_coef')\n",
    "    \n",
    "    \n",
    "    # Model error\n",
    "    epsilon = pm.HalfNormal('epsilon', 1) # Possibly change distribution\n",
    "    \n",
    "    # Regression for mean of likelihood\n",
    "    y_hat = cov_coef[0] + cov_coef[1] * x1_shared + cov_coef[2] * x2_shared + cov_coef[3] * x3_shared + cov_coef[4] * x4_shared\n",
    "\n",
    "    \n",
    "    # Likelihood\n",
    "    pm.StudentT('y_like', nu=5, mu=y_hat, sigma=epsilon, observed=y_shared, dims = 'obs_id')\n",
    "    \n",
    "    \n",
    "    rate_trace_1 = pm.sample(1000, tune = 1000, cores=2, return_inferencedata=True)"
   ]
  },
  {
   "cell_type": "code",
   "execution_count": null,
   "id": "da04b73a",
   "metadata": {},
   "outputs": [],
   "source": [
    "with rate_model_1:\n",
    "    rate_post_pred_11 = pm.sample_posterior_predictive(rate_trace_1, var_names = ['y_like'])"
   ]
  },
  {
   "cell_type": "code",
   "execution_count": null,
   "id": "b2aad1c9",
   "metadata": {},
   "outputs": [],
   "source": [
    "az.plot_ppc(az.from_pymc3(posterior_predictive=rate_post_pred_11, model=rate_model_1))"
   ]
  },
  {
   "cell_type": "code",
   "execution_count": null,
   "id": "10e87caa",
   "metadata": {},
   "outputs": [],
   "source": [
    "summary = az.summary(rate_trace_1, round_to=8)\n",
    "summary"
   ]
  },
  {
   "cell_type": "code",
   "execution_count": null,
   "id": "9874fc3b",
   "metadata": {},
   "outputs": [],
   "source": [
    "from pymc3 import traceplot\n",
    "\n",
    "traceplot(rate_trace_1)"
   ]
  },
  {
   "cell_type": "markdown",
   "id": "aba6588e",
   "metadata": {},
   "source": [
    "### Use this model to predict rate_norm on just Z3->Z3 data"
   ]
  },
  {
   "cell_type": "code",
   "execution_count": null,
   "id": "431fa4a8",
   "metadata": {},
   "outputs": [],
   "source": [
    "Z3_data = data[(data['ZipZone_origin'] == 'Z3') & (data['ZipZone_dest'] == 'Z3')]\n",
    "\n",
    "Z3_distance = Z3_data.order_distance_norm\n",
    "Z3_distance = np.array(Z3_distance.values.tolist())\n",
    "\n",
    "Z3_weight = Z3_data.weight_norm\n",
    "Z3_weight = np.array(Z3_weight.values.tolist())\n",
    "\n",
    "Z3_leaddays = Z3_data.lead_days_norm\n",
    "Z3_leaddays = np.array(Z3_leaddays.values.tolist())\n",
    "\n",
    "Z3_weekid = Z3_data.week_id_norm\n",
    "Z3_weekid = np.array(Z3_weekid.values.tolist())"
   ]
  },
  {
   "cell_type": "code",
   "execution_count": null,
   "id": "8a5073c9",
   "metadata": {},
   "outputs": [],
   "source": [
    "with rate_model_1:\n",
    "    # change the value and shape of the data\n",
    "    pm.set_data(\n",
    "        {\n",
    "            #\"zipzone_pair_idx\": np.tile(zipzone_pair_id[8], (data.shape)[0]),\n",
    "            \"distance\": np.concatenate((Z3_distance, np.empty((data.shape)[0] - len(Z3_distance)))),\n",
    "            \"weight\": np.concatenate((Z3_weight, np.empty((data.shape)[0] - len(Z3_weight)))),\n",
    "            \"leaddays\": np.concatenate((Z3_leaddays, np.empty((data.shape)[0] - len(Z3_leaddays)))),\n",
    "            \"weekid\": np.concatenate((Z3_weekid, np.empty((data.shape)[0] - len(Z3_weekid)))),\n",
    "            # use dummy values with the same shape:\n",
    "            \"rate\": np.empty(data.shape[0]),\n",
    "        }\n",
    "    )\n",
    "    rate_post_pred_12 = pm.sample_posterior_predictive(rate_trace_1, var_names=['y_like'])\n",
    "    #az.from_pymc3_predictions(rate_post_pred_12, idata_orig=rate_trace_1, inplace=True, coords=prediction_coords)"
   ]
  },
  {
   "cell_type": "code",
   "execution_count": null,
   "id": "edf20e29",
   "metadata": {},
   "outputs": [],
   "source": [
    "#az.plot_posterior(rate_trace_1);"
   ]
  },
  {
   "cell_type": "code",
   "execution_count": null,
   "id": "3a33b415",
   "metadata": {},
   "outputs": [],
   "source": [
    "# Generate the actual prediction values\n",
    "p_test_pred = rate_post_pred_12[\"y_like\"].mean(axis=0)"
   ]
  },
  {
   "cell_type": "code",
   "execution_count": null,
   "id": "d4af18dd",
   "metadata": {},
   "outputs": [],
   "source": []
  },
  {
   "cell_type": "code",
   "execution_count": null,
   "id": "888c4d26",
   "metadata": {},
   "outputs": [],
   "source": []
  },
  {
   "cell_type": "code",
   "execution_count": null,
   "id": "da5caee6",
   "metadata": {},
   "outputs": [],
   "source": []
  },
  {
   "cell_type": "markdown",
   "id": "10363035",
   "metadata": {},
   "source": [
    "## Pooled Cost Model"
   ]
  },
  {
   "cell_type": "code",
   "execution_count": null,
   "id": "14b5b06f",
   "metadata": {},
   "outputs": [],
   "source": [
    "with pm.Model(coords=coords) as cst_model_1:\n",
    "    #zipzone_pair_idx = pm.Data(\"zipzone_pair_idx\", zipzone_pair_id, dims = 'obs_id')\n",
    "    x1_shared = pm.Data(\"distance\", order_distance_norm, dims = 'obs_id')\n",
    "    x2_shared = pm.Data(\"weight\", weight_norm, dims = 'obs_id')\n",
    "    x3_shared = pm.Data(\"leaddays\", lead_days_norm, dims = 'obs_id')\n",
    "    x4_shared = pm.Data(\"weekid\", week_id_norm, dims = 'obs_id')\n",
    "    y_shared = pm.Data(\"cost\", est_cost_norm, dims = 'obs_id')\n",
    "    \n",
    "    \n",
    "    sd_dist = pm.Exponential.dist(1.0)\n",
    "    \n",
    "    \n",
    "    chol, corr, stds = pm.LKJCholeskyCov(\"chol\", n=5, eta=2.0, sd_dist=sd_dist, compute_corr=True)\n",
    "    \n",
    "    \n",
    "    mu_intercept = pm.Normal('mu_intercept', mu=0, sigma=1)\n",
    "    mu_distance = pm.Normal('mu_distance', mu=0, sigma=1)\n",
    "    mu_weight = pm.Normal('mu_weight', mu=0, sigma=1)\n",
    "    mu_leaddays = pm.Normal('mu_leaddays', mu=0, sigma=1)\n",
    "    mu_weekid = pm.Normal('mu_weekid', mu=0, sigma=1)\n",
    "    \n",
    "    \n",
    "    cov_coef = pm.MvNormal(\"cov_coef\", mu=tt.stack([mu_intercept, mu_distance, mu_weight, mu_leaddays, mu_weekid]), \n",
    "                           chol=chol, dims = 'num_coef')\n",
    "    \n",
    "    \n",
    "    # Model error\n",
    "    epsilon = pm.HalfNormal('epsilon', 1) # Possibly change distribution\n",
    "    \n",
    "    # Regression for mean of likelihood\n",
    "    y_hat = cov_coef[0] + cov_coef[1] * x1_shared + cov_coef[2] * x2_shared + cov_coef[3] * x3_shared + cov_coef[4] * x4_shared\n",
    "\n",
    "    \n",
    "    # Likelihood\n",
    "    pm.StudentT('y_like', nu=5, mu=y_hat, sigma=epsilon, observed=y_shared, dims = 'obs_id')\n",
    "    \n",
    "    \n",
    "    cost_trace_1 = pm.sample(1000, tune = 1000, cores=2, return_inferencedata=True)"
   ]
  },
  {
   "cell_type": "code",
   "execution_count": null,
   "id": "e0821df3",
   "metadata": {},
   "outputs": [],
   "source": [
    "with cost_model_1:\n",
    "    cost_post_pred_11 = pm.sample_posterior_predictive(cost_trace_1, var_names = ['y_like'])"
   ]
  },
  {
   "cell_type": "code",
   "execution_count": null,
   "id": "3c6dc780",
   "metadata": {},
   "outputs": [],
   "source": [
    "az.plot_ppc(az.from_pymc3(posterior_predictive=cost_post_pred_11, model=cost_model_1))"
   ]
  },
  {
   "cell_type": "code",
   "execution_count": null,
   "id": "573134f8",
   "metadata": {},
   "outputs": [],
   "source": [
    "summary = az.summary(cost_trace_1, round_to=8)\n",
    "summary"
   ]
  },
  {
   "cell_type": "code",
   "execution_count": null,
   "id": "0e07c4f4",
   "metadata": {},
   "outputs": [],
   "source": [
    "from pymc3 import traceplot\n",
    "\n",
    "traceplot(cost_trace_1)"
   ]
  },
  {
   "cell_type": "markdown",
   "id": "e2256e6a",
   "metadata": {},
   "source": [
    "### Use this model to predict rate_norm on just Z3->Z3 data"
   ]
  },
  {
   "cell_type": "code",
   "execution_count": null,
   "id": "1faa9111",
   "metadata": {},
   "outputs": [],
   "source": [
    "with cost_model_1:\n",
    "    # change the value and shape of the data\n",
    "    pm.set_data(\n",
    "        {\n",
    "            #\"zipzone_pair_idx\": np.tile(zipzone_pair_id[8], (data.shape)[0]),\n",
    "            \"distance\": np.concatenate((Z3_distance, np.empty((data.shape)[0] - len(Z3_distance)))),\n",
    "            \"weight\": np.concatenate((Z3_weight, np.empty((data.shape)[0] - len(Z3_weight)))),\n",
    "            \"leaddays\": np.concatenate((Z3_leaddays, np.empty((data.shape)[0] - len(Z3_leaddays)))),\n",
    "            \"weekid\": np.concatenate((Z3_weekid, np.empty((data.shape)[0] - len(Z3_weekid)))),\n",
    "            # use dummy values with the same shape:\n",
    "            \"cost\": np.empty(data.shape[0]),\n",
    "        }\n",
    "    )\n",
    "    cost_post_pred_12 = pm.sample_posterior_predictive(cost_trace_1, var_names=['y_like'])\n",
    "    #az.from_pymc3_predictions(rate_post_pred_12, idata_orig=rate_trace_1, inplace=True, coords=prediction_coords)"
   ]
  },
  {
   "cell_type": "code",
   "execution_count": null,
   "id": "af70bc5f",
   "metadata": {},
   "outputs": [],
   "source": [
    "# Generate the actual prediction values\n",
    "p_test_pred = cost_post_pred_12[\"y_like\"].mean(axis=0)"
   ]
  },
  {
   "cell_type": "code",
   "execution_count": null,
   "id": "634c1142",
   "metadata": {},
   "outputs": [],
   "source": []
  }
 ],
 "metadata": {
  "kernelspec": {
   "display_name": "Python 3",
   "language": "python",
   "name": "python3"
  },
  "language_info": {
   "codemirror_mode": {
    "name": "ipython",
    "version": 3
   },
   "file_extension": ".py",
   "mimetype": "text/x-python",
   "name": "python",
   "nbconvert_exporter": "python",
   "pygments_lexer": "ipython3",
   "version": "3.8.8"
  }
 },
 "nbformat": 4,
 "nbformat_minor": 5
}
